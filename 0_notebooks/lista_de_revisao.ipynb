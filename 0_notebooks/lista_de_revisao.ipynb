{
 "cells": [
  {
   "cell_type": "code",
   "execution_count": 3,
   "metadata": {},
   "outputs": [
    {
     "data": {
      "text/plain": [
       "[1, 2, 3, 4, 5]"
      ]
     },
     "execution_count": 3,
     "metadata": {},
     "output_type": "execute_result"
    }
   ],
   "source": [
    "my_list = [1,2,3,4,5]\n",
    "my_list"
   ]
  },
  {
   "cell_type": "code",
   "execution_count": 4,
   "metadata": {},
   "outputs": [],
   "source": [
    "my_list = [1,'nasser',(3,3),9.7]"
   ]
  },
  {
   "cell_type": "code",
   "execution_count": 6,
   "metadata": {},
   "outputs": [
    {
     "data": {
      "text/plain": [
       "list"
      ]
     },
     "execution_count": 6,
     "metadata": {},
     "output_type": "execute_result"
    }
   ],
   "source": [
    "type(my_list)"
   ]
  },
  {
   "cell_type": "code",
   "execution_count": 7,
   "metadata": {},
   "outputs": [],
   "source": [
    "my_list = ['nasser','leonardo','carlos','bruno','juliana']"
   ]
  },
  {
   "cell_type": "code",
   "execution_count": 8,
   "metadata": {},
   "outputs": [],
   "source": [
    "my_list = [['nasser',30],['leonardo',27]]"
   ]
  },
  {
   "cell_type": "code",
   "execution_count": 11,
   "metadata": {},
   "outputs": [
    {
     "data": {
      "text/plain": [
       "30"
      ]
     },
     "execution_count": 11,
     "metadata": {},
     "output_type": "execute_result"
    }
   ],
   "source": [
    "my_list[0][1]"
   ]
  },
  {
   "cell_type": "code",
   "execution_count": 21,
   "metadata": {},
   "outputs": [],
   "source": [
    "import numpy as np\n",
    "\n",
    "predios_anatel = np.arange(22).reshape(2,11)\n",
    "predios_anatel = predios_anatel.tolist()"
   ]
  },
  {
   "cell_type": "code",
   "execution_count": 22,
   "metadata": {},
   "outputs": [
    {
     "data": {
      "text/plain": [
       "[[0, 1, 2, 3, 4, 5, 6, 7, 8, 9, 10],\n",
       " [11, 12, 13, 14, 15, 16, 17, 18, 19, 20, 21]]"
      ]
     },
     "execution_count": 22,
     "metadata": {},
     "output_type": "execute_result"
    }
   ],
   "source": [
    "predios_anatel"
   ]
  },
  {
   "cell_type": "code",
   "execution_count": 23,
   "metadata": {},
   "outputs": [
    {
     "data": {
      "text/plain": [
       "11"
      ]
     },
     "execution_count": 23,
     "metadata": {},
     "output_type": "execute_result"
    }
   ],
   "source": [
    "len(predios_anatel[0])"
   ]
  },
  {
   "cell_type": "code",
   "execution_count": 24,
   "metadata": {},
   "outputs": [
    {
     "data": {
      "text/plain": [
       "11"
      ]
     },
     "execution_count": 24,
     "metadata": {},
     "output_type": "execute_result"
    }
   ],
   "source": [
    "len(predios_anatel[1])"
   ]
  },
  {
   "cell_type": "code",
   "execution_count": 25,
   "metadata": {},
   "outputs": [
    {
     "data": {
      "text/plain": [
       "[0, 1, 2, 3, 4, 5, 6, 7, 8, 9, 10]"
      ]
     },
     "execution_count": 25,
     "metadata": {},
     "output_type": "execute_result"
    }
   ],
   "source": [
    "list(range(11))"
   ]
  },
  {
   "cell_type": "code",
   "execution_count": 26,
   "metadata": {},
   "outputs": [
    {
     "data": {
      "text/plain": [
       "[[0, 1, 2, 3, 4, 5, 6, 7, 8, 9, 10],\n",
       " [11, 12, 13, 14, 15, 16, 17, 18, 19, 20, 21]]"
      ]
     },
     "execution_count": 26,
     "metadata": {},
     "output_type": "execute_result"
    }
   ],
   "source": [
    "predios_anatel"
   ]
  },
  {
   "cell_type": "code",
   "execution_count": 27,
   "metadata": {},
   "outputs": [
    {
     "name": "stdout",
     "output_type": "stream",
     "text": [
      "11\n",
      "13\n",
      "15\n",
      "17\n",
      "19\n",
      "21\n",
      "23\n",
      "25\n",
      "27\n",
      "29\n",
      "31\n"
     ]
    }
   ],
   "source": [
    "for idx in range(11):\n",
    "    print(predios_anatel[0][idx] + predios_anatel[1][idx])"
   ]
  },
  {
   "cell_type": "code",
   "execution_count": 31,
   "metadata": {},
   "outputs": [
    {
     "data": {
      "text/plain": [
       "[[0, 1, 2, 3, 4, 5, 6, 7, 8, 9, 10],\n",
       " [11, 12, 13, 14, 15, 16, 17, 18, 19, 20, 21]]"
      ]
     },
     "execution_count": 31,
     "metadata": {},
     "output_type": "execute_result"
    }
   ],
   "source": [
    "predios_anatel"
   ]
  },
  {
   "cell_type": "code",
   "execution_count": 29,
   "metadata": {},
   "outputs": [
    {
     "data": {
      "text/plain": [
       "[0, 1, 2, 3, 4, 5, 6, 7, 8, 9, 10]"
      ]
     },
     "execution_count": 29,
     "metadata": {},
     "output_type": "execute_result"
    }
   ],
   "source": [
    "predios_anatel[0]"
   ]
  },
  {
   "cell_type": "code",
   "execution_count": 30,
   "metadata": {},
   "outputs": [
    {
     "data": {
      "text/plain": [
       "[11, 12, 13, 14, 15, 16, 17, 18, 19, 20, 21]"
      ]
     },
     "execution_count": 30,
     "metadata": {},
     "output_type": "execute_result"
    }
   ],
   "source": [
    "predios_anatel[1]"
   ]
  },
  {
   "cell_type": "code",
   "execution_count": 61,
   "metadata": {},
   "outputs": [
    {
     "name": "stdout",
     "output_type": "stream",
     "text": [
      "11\n",
      "13\n",
      "15\n",
      "17\n",
      "19\n",
      "21\n",
      "23\n",
      "25\n",
      "27\n",
      "29\n",
      "31\n"
     ]
    }
   ],
   "source": [
    "for pessoas_pred1,pessoas_pred2 in zip(predios_anatel[0],predios_anatel[1]):\n",
    "    print(pessoas_pred1+pessoas_pred2)"
   ]
  },
  {
   "cell_type": "code",
   "execution_count": 62,
   "metadata": {},
   "outputs": [
    {
     "data": {
      "text/plain": [
       "[[0, 1, 2, 3, 4, 5, 6, 7, 8, 9, 10],\n",
       " [11, 12, 13, 14, 15, 16, 17, 18, 19, 20, 21]]"
      ]
     },
     "execution_count": 62,
     "metadata": {},
     "output_type": "execute_result"
    }
   ],
   "source": [
    "predios_anatel"
   ]
  },
  {
   "cell_type": "code",
   "execution_count": 80,
   "metadata": {},
   "outputs": [],
   "source": [
    "def cubo(x):\n",
    "    return x**3\n",
    "\n",
    "lista_simples = [1,2,3,4,123,126,24,67,8,9,20]\n",
    "lista_de_regras = [5,15,120]"
   ]
  },
  {
   "cell_type": "code",
   "execution_count": 83,
   "metadata": {},
   "outputs": [
    {
     "data": {
      "text/plain": [
       "'nasser 100 171 90'"
      ]
     },
     "execution_count": 83,
     "metadata": {},
     "output_type": "execute_result"
    }
   ],
   "source": [
    "f'{nome} {peso} {altura} {x1}'"
   ]
  },
  {
   "cell_type": "code",
   "execution_count": 81,
   "metadata": {},
   "outputs": [
    {
     "name": "stdout",
     "output_type": "stream",
     "text": [
      "------------\n",
      "Executando para regra 5\n",
      "------------\n",
      "Fazendo o cubo de 123\n",
      "1860867\n",
      "------------\n",
      "Fazendo o cubo de 126\n",
      "2000376\n",
      "------------\n",
      "Fazendo o cubo de 24\n",
      "13824\n",
      "------------\n",
      "Fazendo o cubo de 67\n",
      "300763\n",
      "------------\n",
      "Fazendo o cubo de 8\n",
      "512\n",
      "------------\n",
      "Fazendo o cubo de 9\n",
      "729\n",
      "------------\n",
      "Fazendo o cubo de 20\n",
      "8000\n",
      "------------\n",
      "Executando para regra 15\n",
      "------------\n",
      "Fazendo o cubo de 123\n",
      "1860867\n",
      "------------\n",
      "Fazendo o cubo de 126\n",
      "2000376\n",
      "------------\n",
      "Fazendo o cubo de 24\n",
      "13824\n",
      "------------\n",
      "Fazendo o cubo de 67\n",
      "300763\n",
      "------------\n",
      "Fazendo o cubo de 20\n",
      "8000\n",
      "------------\n",
      "Executando para regra 120\n",
      "------------\n",
      "Fazendo o cubo de 123\n",
      "1860867\n",
      "------------\n",
      "Fazendo o cubo de 126\n",
      "2000376\n"
     ]
    }
   ],
   "source": [
    "for regra in lista_de_regras:\n",
    "    print('----'*3)\n",
    "    print(f'Executando para regra {regra}')\n",
    "    \n",
    "    for valor in lista_simples:\n",
    "        if valor > regra:\n",
    "            print('----'*3)\n",
    "            print(f'Fazendo o cubo de {valor}')\n",
    "            print(cubo(valor))"
   ]
  },
  {
   "cell_type": "code",
   "execution_count": 64,
   "metadata": {},
   "outputs": [
    {
     "data": {
      "text/plain": [
       "[6, 7, 8, 9, 10, 11, 12, 13, 14, 15, 16, 17, 18, 19, 20, 21]"
      ]
     },
     "execution_count": 64,
     "metadata": {},
     "output_type": "execute_result"
    }
   ],
   "source": [
    "subset1"
   ]
  },
  {
   "cell_type": "code",
   "execution_count": 65,
   "metadata": {},
   "outputs": [
    {
     "data": {
      "text/plain": [
       "[0, 1, 2, 3, 4, 5]"
      ]
     },
     "execution_count": 65,
     "metadata": {},
     "output_type": "execute_result"
    }
   ],
   "source": [
    "subset2"
   ]
  },
  {
   "cell_type": "code",
   "execution_count": 102,
   "metadata": {},
   "outputs": [],
   "source": [
    "my_list = [10,20,30]"
   ]
  },
  {
   "cell_type": "code",
   "execution_count": 100,
   "metadata": {},
   "outputs": [],
   "source": [
    "def func1(lista):\n",
    "    lista[0] = lista[0]**2\n",
    "    \n",
    "def func12(lista_recebida):\n",
    "    \n",
    "    nova_lista = []\n",
    "    \n",
    "    for valor in lista_recebida:\n",
    "        nova_lista.append(valor**2)\n",
    "    \n",
    "    return nova_lista"
   ]
  },
  {
   "cell_type": "code",
   "execution_count": 105,
   "metadata": {},
   "outputs": [],
   "source": [
    "nova_lista = func12(lista_recebida = my_list)"
   ]
  },
  {
   "cell_type": "code",
   "execution_count": 106,
   "metadata": {},
   "outputs": [
    {
     "data": {
      "text/plain": [
       "[10, 20, 30]"
      ]
     },
     "execution_count": 106,
     "metadata": {},
     "output_type": "execute_result"
    }
   ],
   "source": [
    "my_list"
   ]
  },
  {
   "cell_type": "code",
   "execution_count": 107,
   "metadata": {},
   "outputs": [
    {
     "data": {
      "text/plain": [
       "[100, 400, 900]"
      ]
     },
     "execution_count": 107,
     "metadata": {},
     "output_type": "execute_result"
    }
   ],
   "source": [
    "nova_lista"
   ]
  },
  {
   "cell_type": "code",
   "execution_count": null,
   "metadata": {},
   "outputs": [],
   "source": []
  },
  {
   "cell_type": "code",
   "execution_count": null,
   "metadata": {},
   "outputs": [],
   "source": []
  },
  {
   "cell_type": "code",
   "execution_count": 118,
   "metadata": {},
   "outputs": [],
   "source": [
    "def func13(lista_recebida):\n",
    "    \n",
    "    if len(lista_recebida) == 3:\n",
    "        a,b,c = lista_recebida\n",
    "        \n",
    "        return a,b,c"
   ]
  },
  {
   "cell_type": "code",
   "execution_count": 1,
   "metadata": {},
   "outputs": [],
   "source": [
    "my_list = [100,1500,789]"
   ]
  },
  {
   "cell_type": "code",
   "execution_count": 9,
   "metadata": {},
   "outputs": [],
   "source": [
    "def divisao_por_10(lista_recebida):\n",
    "    \n",
    "    nova_lista = []\n",
    "    \n",
    "    for valor in lista_recebida:\n",
    "        \n",
    "        resultado_da_divisao = valor / 10\n",
    "        \n",
    "        nova_lista.append(resultado_da_divisao)\n",
    "        \n",
    "    return nova_lista"
   ]
  },
  {
   "cell_type": "code",
   "execution_count": 10,
   "metadata": {},
   "outputs": [
    {
     "data": {
      "text/plain": [
       "[10.0, 150.0, 78.9]"
      ]
     },
     "execution_count": 10,
     "metadata": {},
     "output_type": "execute_result"
    }
   ],
   "source": [
    "divisao_por_10(my_list)"
   ]
  },
  {
   "cell_type": "code",
   "execution_count": 24,
   "metadata": {},
   "outputs": [
    {
     "data": {
      "text/plain": [
       "[100, 1500, 789]"
      ]
     },
     "execution_count": 24,
     "metadata": {},
     "output_type": "execute_result"
    }
   ],
   "source": [
    "my_list"
   ]
  },
  {
   "cell_type": "code",
   "execution_count": 31,
   "metadata": {},
   "outputs": [],
   "source": []
  },
  {
   "cell_type": "code",
   "execution_count": 1,
   "metadata": {},
   "outputs": [],
   "source": [
    "def func_div(lista_recebedia):\n",
    "    \n",
    "    lista_divisao = []\n",
    "\n",
    "    for x1 in lista_recebedia:\n",
    "\n",
    "        resultado_divisao = x1 / 10\n",
    "\n",
    "        lista_divisao.append(resultado_divisao)\n",
    "\n",
    "    else:\n",
    "\n",
    "        x1 = 'terminei a lista'\n",
    "        \n",
    "    return lista_divisao"
   ]
  },
  {
   "cell_type": "code",
   "execution_count": 2,
   "metadata": {},
   "outputs": [
    {
     "data": {
      "text/plain": [
       "[85.4, 5.0, 9.6]"
      ]
     },
     "execution_count": 2,
     "metadata": {},
     "output_type": "execute_result"
    }
   ],
   "source": [
    "func_div([854,50,96])"
   ]
  },
  {
   "cell_type": "code",
   "execution_count": 3,
   "metadata": {},
   "outputs": [
    {
     "ename": "NameError",
     "evalue": "name 'x1' is not defined",
     "output_type": "error",
     "traceback": [
      "\u001b[0;31m---------------------------------------------------------------------------\u001b[0m",
      "\u001b[0;31mNameError\u001b[0m                                 Traceback (most recent call last)",
      "\u001b[0;32m<ipython-input-3-04358ba4b61b>\u001b[0m in \u001b[0;36m<module>\u001b[0;34m\u001b[0m\n\u001b[0;32m----> 1\u001b[0;31m \u001b[0mx1\u001b[0m\u001b[0;34m\u001b[0m\u001b[0;34m\u001b[0m\u001b[0m\n\u001b[0m",
      "\u001b[0;31mNameError\u001b[0m: name 'x1' is not defined"
     ]
    }
   ],
   "source": [
    "x1"
   ]
  },
  {
   "cell_type": "code",
   "execution_count": 85,
   "metadata": {},
   "outputs": [],
   "source": [
    "def cubo(x):    \n",
    "    \n",
    "    print(f'Estou recebendo o valor {x}')\n",
    "    \n",
    "    resultado = x**3\n",
    "    \n",
    "    print(f'Estou retornando o resultado da operacao de cubo {resultado}')\n",
    "    \n",
    "    return resultado"
   ]
  },
  {
   "cell_type": "code",
   "execution_count": 90,
   "metadata": {},
   "outputs": [
    {
     "name": "stdout",
     "output_type": "stream",
     "text": [
      "Estou recebendo o valor 87\n",
      "Estou retornando o resultado da operacao de cubo 658503\n"
     ]
    }
   ],
   "source": [
    "variavel_da_funcao_com_print = cubo(87)"
   ]
  },
  {
   "cell_type": "code",
   "execution_count": 91,
   "metadata": {},
   "outputs": [
    {
     "data": {
      "text/plain": [
       "int"
      ]
     },
     "execution_count": 91,
     "metadata": {},
     "output_type": "execute_result"
    }
   ],
   "source": [
    "type(variavel_da_funcao_com_print)"
   ]
  },
  {
   "cell_type": "code",
   "execution_count": 92,
   "metadata": {},
   "outputs": [
    {
     "data": {
      "text/plain": [
       "658503"
      ]
     },
     "execution_count": 92,
     "metadata": {},
     "output_type": "execute_result"
    }
   ],
   "source": [
    "variavel_da_funcao_com_print"
   ]
  },
  {
   "cell_type": "code",
   "execution_count": 166,
   "metadata": {},
   "outputs": [],
   "source": [
    "my_dicio = {\n",
    "    'nasser':30,\n",
    "    \n",
    "    'leonardo':27,\n",
    "    \n",
    "    'juliana':24,\n",
    "    \n",
    "    'marcela':28\n",
    "    \n",
    "}"
   ]
  },
  {
   "cell_type": "code",
   "execution_count": 167,
   "metadata": {},
   "outputs": [
    {
     "data": {
      "text/plain": [
       "dict"
      ]
     },
     "execution_count": 167,
     "metadata": {},
     "output_type": "execute_result"
    }
   ],
   "source": [
    "type(my_dicio)"
   ]
  },
  {
   "cell_type": "code",
   "execution_count": 168,
   "metadata": {},
   "outputs": [
    {
     "data": {
      "text/plain": [
       "30"
      ]
     },
     "execution_count": 168,
     "metadata": {},
     "output_type": "execute_result"
    }
   ],
   "source": [
    "my_dicio['nasser']"
   ]
  },
  {
   "cell_type": "code",
   "execution_count": 169,
   "metadata": {},
   "outputs": [],
   "source": [
    "my_dicio['juliana'] += 3"
   ]
  },
  {
   "cell_type": "code",
   "execution_count": 170,
   "metadata": {},
   "outputs": [
    {
     "name": "stdout",
     "output_type": "stream",
     "text": [
      "30\n",
      "27\n",
      "27\n",
      "28\n"
     ]
    }
   ],
   "source": [
    "for chave in my_dicio:\n",
    "    print(my_dicio[chave])"
   ]
  },
  {
   "cell_type": "code",
   "execution_count": 115,
   "metadata": {},
   "outputs": [
    {
     "name": "stdout",
     "output_type": "stream",
     "text": [
      "30\n",
      "27\n",
      "29\n",
      "28\n"
     ]
    }
   ],
   "source": [
    "for valor in my_dicio.values():\n",
    "    print(valor)"
   ]
  },
  {
   "cell_type": "code",
   "execution_count": 116,
   "metadata": {},
   "outputs": [
    {
     "data": {
      "text/plain": [
       "dict_values([30, 27, 29, 28])"
      ]
     },
     "execution_count": 116,
     "metadata": {},
     "output_type": "execute_result"
    }
   ],
   "source": [
    "my_dicio.values()"
   ]
  },
  {
   "cell_type": "code",
   "execution_count": 117,
   "metadata": {},
   "outputs": [
    {
     "data": {
      "text/plain": [
       "dict_keys(['nasser', 'leonardo', 'juliana', 'marcela'])"
      ]
     },
     "execution_count": 117,
     "metadata": {},
     "output_type": "execute_result"
    }
   ],
   "source": [
    "my_dicio.keys()"
   ]
  },
  {
   "cell_type": "code",
   "execution_count": 121,
   "metadata": {},
   "outputs": [],
   "source": [
    "nomes = ['nasser','leonardo']\n",
    "idades = [30,27]"
   ]
  },
  {
   "cell_type": "code",
   "execution_count": 122,
   "metadata": {},
   "outputs": [
    {
     "data": {
      "text/plain": [
       "{'nasser': 30, 'leonardo': 27}"
      ]
     },
     "execution_count": 122,
     "metadata": {},
     "output_type": "execute_result"
    }
   ],
   "source": [
    "{chave:valor for chave,valor in zip(nomes,idades)}"
   ]
  },
  {
   "cell_type": "code",
   "execution_count": 131,
   "metadata": {},
   "outputs": [],
   "source": [
    "my_dict = {\n",
    "    'nasser':[30,171],\n",
    "    'veloso':{'idade':17,'altura':190}\n",
    "}"
   ]
  },
  {
   "cell_type": "code",
   "execution_count": 132,
   "metadata": {},
   "outputs": [
    {
     "data": {
      "text/plain": [
       "dict"
      ]
     },
     "execution_count": 132,
     "metadata": {},
     "output_type": "execute_result"
    }
   ],
   "source": [
    "type(my_dict)"
   ]
  },
  {
   "cell_type": "code",
   "execution_count": 133,
   "metadata": {},
   "outputs": [
    {
     "data": {
      "text/plain": [
       "dict_keys(['nasser', 'veloso'])"
      ]
     },
     "execution_count": 133,
     "metadata": {},
     "output_type": "execute_result"
    }
   ],
   "source": [
    "my_dict.keys()"
   ]
  },
  {
   "cell_type": "code",
   "execution_count": 134,
   "metadata": {},
   "outputs": [
    {
     "data": {
      "text/plain": [
       "list"
      ]
     },
     "execution_count": 134,
     "metadata": {},
     "output_type": "execute_result"
    }
   ],
   "source": [
    "type(my_dict['nasser'])"
   ]
  },
  {
   "cell_type": "code",
   "execution_count": 137,
   "metadata": {},
   "outputs": [
    {
     "data": {
      "text/plain": [
       "30"
      ]
     },
     "execution_count": 137,
     "metadata": {},
     "output_type": "execute_result"
    }
   ],
   "source": [
    "my_dict['nasser'][0]"
   ]
  },
  {
   "cell_type": "code",
   "execution_count": 142,
   "metadata": {},
   "outputs": [],
   "source": [
    "my_string = 'bom dia ney! VAMOS sextar, hoje é sexta, dia de maldade, dia de fazer while infinito'"
   ]
  },
  {
   "cell_type": "code",
   "execution_count": 145,
   "metadata": {},
   "outputs": [],
   "source": [
    "my_string = my_string.lower()"
   ]
  },
  {
   "cell_type": "code",
   "execution_count": 146,
   "metadata": {},
   "outputs": [
    {
     "data": {
      "text/plain": [
       "'bom dia ney! vamos sextar, hoje é sexta, dia de maldade, dia de fazer while infinito'"
      ]
     },
     "execution_count": 146,
     "metadata": {},
     "output_type": "execute_result"
    }
   ],
   "source": [
    "my_string"
   ]
  },
  {
   "cell_type": "code",
   "execution_count": 149,
   "metadata": {},
   "outputs": [
    {
     "data": {
      "text/plain": [
       "['a', 'b', 'c']"
      ]
     },
     "execution_count": 149,
     "metadata": {},
     "output_type": "execute_result"
    }
   ],
   "source": [
    "'a b c'.split()"
   ]
  },
  {
   "cell_type": "code",
   "execution_count": 155,
   "metadata": {},
   "outputs": [],
   "source": [
    "dicio = {}"
   ]
  },
  {
   "cell_type": "code",
   "execution_count": 156,
   "metadata": {},
   "outputs": [
    {
     "data": {
      "text/plain": [
       "dict_keys([])"
      ]
     },
     "execution_count": 156,
     "metadata": {},
     "output_type": "execute_result"
    }
   ],
   "source": [
    "dicio.keys()"
   ]
  },
  {
   "cell_type": "code",
   "execution_count": 159,
   "metadata": {},
   "outputs": [
    {
     "data": {
      "text/plain": [
       "['bom',\n",
       " 'dia',\n",
       " 'ney!',\n",
       " 'vamos',\n",
       " 'sextar,',\n",
       " 'hoje',\n",
       " 'é',\n",
       " 'sexta,',\n",
       " 'dia',\n",
       " 'de',\n",
       " 'maldade,',\n",
       " 'dia',\n",
       " 'de',\n",
       " 'fazer',\n",
       " 'while',\n",
       " 'infinito']"
      ]
     },
     "execution_count": 159,
     "metadata": {},
     "output_type": "execute_result"
    }
   ],
   "source": [
    "my_string.lower().split()"
   ]
  },
  {
   "cell_type": "code",
   "execution_count": 177,
   "metadata": {},
   "outputs": [
    {
     "name": "stdout",
     "output_type": "stream",
     "text": [
      "bom\n",
      "dia\n",
      "ney!\n",
      "vamos\n",
      "sextar,\n",
      "hoje\n",
      "é\n",
      "sexta,\n",
      "dia\n",
      "de\n",
      "maldade,\n",
      "dia\n",
      "de\n",
      "fazer\n",
      "while\n",
      "infinito\n"
     ]
    }
   ],
   "source": [
    "for palavra in my_string.lower().split():\n",
    "    print(palavra)"
   ]
  },
  {
   "cell_type": "code",
   "execution_count": null,
   "metadata": {},
   "outputs": [],
   "source": []
  },
  {
   "cell_type": "code",
   "execution_count": null,
   "metadata": {},
   "outputs": [],
   "source": []
  },
  {
   "cell_type": "code",
   "execution_count": 184,
   "metadata": {},
   "outputs": [
    {
     "data": {
      "text/plain": [
       "['bom',\n",
       " 'dia',\n",
       " 'ney!',\n",
       " 'vamos',\n",
       " 'sextar,',\n",
       " 'hoje',\n",
       " 'é',\n",
       " 'sexta,',\n",
       " 'dia',\n",
       " 'de',\n",
       " 'maldade,',\n",
       " 'dia',\n",
       " 'de',\n",
       " 'fazer',\n",
       " 'while',\n",
       " 'infinito']"
      ]
     },
     "execution_count": 184,
     "metadata": {},
     "output_type": "execute_result"
    }
   ],
   "source": [
    "my_string.lower().split()"
   ]
  },
  {
   "cell_type": "code",
   "execution_count": 186,
   "metadata": {},
   "outputs": [
    {
     "name": "stdout",
     "output_type": "stream",
     "text": [
      "Começando o for com a palavra bom\n",
      "Estou CRIANDO a chave bom\n",
      "\n",
      "Começando o for com a palavra dia\n",
      "Estou CRIANDO a chave dia\n",
      "\n",
      "Começando o for com a palavra ney!\n",
      "Estou CRIANDO a chave ney!\n",
      "\n",
      "Começando o for com a palavra vamos\n",
      "Estou CRIANDO a chave vamos\n",
      "\n",
      "Começando o for com a palavra sextar,\n",
      "Estou CRIANDO a chave sextar,\n",
      "\n",
      "Começando o for com a palavra hoje\n",
      "Estou CRIANDO a chave hoje\n",
      "\n",
      "Começando o for com a palavra é\n",
      "Estou CRIANDO a chave é\n",
      "\n",
      "Começando o for com a palavra sexta,\n",
      "Estou CRIANDO a chave sexta,\n",
      "\n",
      "Começando o for com a palavra dia\n",
      "Estou incrementando a palavra dia\n",
      "\n",
      "Começando o for com a palavra de\n",
      "Estou CRIANDO a chave de\n",
      "\n",
      "Começando o for com a palavra maldade,\n",
      "Estou CRIANDO a chave maldade,\n",
      "\n",
      "Começando o for com a palavra dia\n",
      "Estou incrementando a palavra dia\n",
      "\n",
      "Começando o for com a palavra de\n",
      "Estou incrementando a palavra de\n",
      "\n",
      "Começando o for com a palavra fazer\n",
      "Estou CRIANDO a chave fazer\n",
      "\n",
      "Começando o for com a palavra while\n",
      "Estou CRIANDO a chave while\n",
      "\n",
      "Começando o for com a palavra infinito\n",
      "Estou CRIANDO a chave infinito\n",
      "\n"
     ]
    }
   ],
   "source": [
    "dicio = {}\n",
    "\n",
    "for palavra in my_string.lower().split():\n",
    "    print(f'Começando o for com a palavra {palavra}')\n",
    "    \n",
    "    if palavra in dicio.keys():\n",
    "        \n",
    "        print(f'Estou incrementando a palavra {palavra}\\n')\n",
    "        dicio[palavra] += 1\n",
    "        \n",
    "    else:\n",
    "        print(f'Estou CRIANDO a chave {palavra}\\n')\n",
    "        dicio[palavra]  = 1"
   ]
  },
  {
   "cell_type": "code",
   "execution_count": 187,
   "metadata": {},
   "outputs": [
    {
     "data": {
      "text/plain": [
       "16"
      ]
     },
     "execution_count": 187,
     "metadata": {},
     "output_type": "execute_result"
    }
   ],
   "source": [
    "len(my_string.lower().split())"
   ]
  },
  {
   "cell_type": "code",
   "execution_count": 183,
   "metadata": {},
   "outputs": [
    {
     "data": {
      "text/plain": [
       "{'bom': 1,\n",
       " 'dia': 3,\n",
       " 'ney!': 1,\n",
       " 'vamos': 1,\n",
       " 'sextar,': 1,\n",
       " 'hoje': 1,\n",
       " 'é': 1,\n",
       " 'sexta,': 1,\n",
       " 'de': 2,\n",
       " 'maldade,': 1,\n",
       " 'fazer': 1,\n",
       " 'while': 1,\n",
       " 'infinito': 1}"
      ]
     },
     "execution_count": 183,
     "metadata": {},
     "output_type": "execute_result"
    }
   ],
   "source": [
    "dicio"
   ]
  },
  {
   "cell_type": "code",
   "execution_count": 191,
   "metadata": {},
   "outputs": [],
   "source": [
    "a,b,c,d = 10,20,30,40"
   ]
  },
  {
   "cell_type": "code",
   "execution_count": 192,
   "metadata": {},
   "outputs": [
    {
     "data": {
      "text/plain": [
       "10"
      ]
     },
     "execution_count": 192,
     "metadata": {},
     "output_type": "execute_result"
    }
   ],
   "source": [
    "a"
   ]
  },
  {
   "cell_type": "code",
   "execution_count": 193,
   "metadata": {},
   "outputs": [
    {
     "data": {
      "text/plain": [
       "20"
      ]
     },
     "execution_count": 193,
     "metadata": {},
     "output_type": "execute_result"
    }
   ],
   "source": [
    "b"
   ]
  },
  {
   "cell_type": "code",
   "execution_count": 194,
   "metadata": {},
   "outputs": [
    {
     "data": {
      "text/plain": [
       "30"
      ]
     },
     "execution_count": 194,
     "metadata": {},
     "output_type": "execute_result"
    }
   ],
   "source": [
    "c"
   ]
  },
  {
   "cell_type": "code",
   "execution_count": 195,
   "metadata": {},
   "outputs": [
    {
     "data": {
      "text/plain": [
       "40"
      ]
     },
     "execution_count": 195,
     "metadata": {},
     "output_type": "execute_result"
    }
   ],
   "source": [
    "d"
   ]
  },
  {
   "cell_type": "code",
   "execution_count": 198,
   "metadata": {},
   "outputs": [],
   "source": [
    "nome,altura,peso,x1,x2 = ['nasser',171,100,90,10]"
   ]
  },
  {
   "cell_type": "code",
   "execution_count": 199,
   "metadata": {},
   "outputs": [],
   "source": [
    "nome,altura,peso,x1,x2 = ('nasser',171,100,90,10)"
   ]
  },
  {
   "cell_type": "code",
   "execution_count": 200,
   "metadata": {},
   "outputs": [
    {
     "data": {
      "text/plain": [
       "'nasser'"
      ]
     },
     "execution_count": 200,
     "metadata": {},
     "output_type": "execute_result"
    }
   ],
   "source": [
    "nome"
   ]
  },
  {
   "cell_type": "code",
   "execution_count": 201,
   "metadata": {},
   "outputs": [
    {
     "data": {
      "text/plain": [
       "171"
      ]
     },
     "execution_count": 201,
     "metadata": {},
     "output_type": "execute_result"
    }
   ],
   "source": [
    "altura"
   ]
  },
  {
   "cell_type": "code",
   "execution_count": 202,
   "metadata": {},
   "outputs": [
    {
     "data": {
      "text/plain": [
       "100"
      ]
     },
     "execution_count": 202,
     "metadata": {},
     "output_type": "execute_result"
    }
   ],
   "source": [
    "peso"
   ]
  },
  {
   "cell_type": "code",
   "execution_count": 203,
   "metadata": {},
   "outputs": [
    {
     "data": {
      "text/plain": [
       "[(1, 1, 3, 1)]"
      ]
     },
     "execution_count": 203,
     "metadata": {},
     "output_type": "execute_result"
    }
   ],
   "source": [
    "list(zip([1,2,3],[1,2,5],[3,4,5],[1]))"
   ]
  },
  {
   "cell_type": "code",
   "execution_count": 216,
   "metadata": {},
   "outputs": [],
   "source": [
    "lista_original = [1,2,3,4,5,10,12,87,28,115]\n",
    "\n",
    "for regra in range(0,101):\n",
    "    \n",
    "    subset1 = []\n",
    "    subset2 = []\n",
    "    \n",
    "    for valor in lista_original:\n",
    "        \n",
    "        if valor > regra:\n",
    "            \n",
    "            subset1.append(valor)\n",
    "        \n",
    "        else:\n",
    "            subset2.append(valor)"
   ]
  },
  {
   "cell_type": "code",
   "execution_count": 217,
   "metadata": {},
   "outputs": [
    {
     "data": {
      "text/plain": [
       "[0, 1, 2, 3, 4]"
      ]
     },
     "execution_count": 217,
     "metadata": {},
     "output_type": "execute_result"
    }
   ],
   "source": [
    "list(range(0,5))"
   ]
  },
  {
   "cell_type": "code",
   "execution_count": 218,
   "metadata": {},
   "outputs": [
    {
     "data": {
      "text/plain": [
       "[115]"
      ]
     },
     "execution_count": 218,
     "metadata": {},
     "output_type": "execute_result"
    }
   ],
   "source": [
    "subset1"
   ]
  },
  {
   "cell_type": "code",
   "execution_count": 219,
   "metadata": {},
   "outputs": [
    {
     "data": {
      "text/plain": [
       "[1, 2, 3, 4, 5, 10, 12, 87, 28]"
      ]
     },
     "execution_count": 219,
     "metadata": {},
     "output_type": "execute_result"
    }
   ],
   "source": [
    "subset2"
   ]
  },
  {
   "cell_type": "code",
   "execution_count": 222,
   "metadata": {},
   "outputs": [],
   "source": [
    "dicionaro_do_rodrigo = {'palavra1' :'bom', \n",
    "                        'palavra2' :'dia', \n",
    "                        'palavra3' :'pessoal', \n",
    "                        'palavra4' :'tudo', \n",
    "                        'palavra5' :'bem',\n",
    "                        'palavra6' :'dia',\n",
    "                        'palavra10':'bom'}"
   ]
  },
  {
   "cell_type": "code",
   "execution_count": 226,
   "metadata": {},
   "outputs": [
    {
     "data": {
      "text/plain": [
       "dict_keys(['palavra1', 'palavra2', 'palavra3', 'palavra4', 'palavra5', 'palavra6', 'palavra10'])"
      ]
     },
     "execution_count": 226,
     "metadata": {},
     "output_type": "execute_result"
    }
   ],
   "source": [
    "dicionaro_do_rodrigo.keys()"
   ]
  },
  {
   "cell_type": "code",
   "execution_count": 227,
   "metadata": {},
   "outputs": [],
   "source": [
    "def frequencia_palavras(dicionario):\n",
    "    \n",
    "    lista_dos_valores_do_dicionario_de_entrada = list(dicionario.values())\n",
    "    \n",
    "    novo_dict={}\n",
    "    \n",
    "    for valor in lista_dos_valores_do_dicionario_de_entrada:\n",
    "        \n",
    "        if valor in novo_dict.keys():\n",
    "            novo_dict[valor] +=1\n",
    "        else:\n",
    "            novo_dict[valor] =1\n",
    "    \n",
    "    return novo_dict"
   ]
  },
  {
   "cell_type": "code",
   "execution_count": 229,
   "metadata": {},
   "outputs": [],
   "source": [
    "def frequencia_palavras(dicionario):\n",
    "    \n",
    "    novo_dict={}\n",
    "    \n",
    "    for valor in dicionario.values():\n",
    "        \n",
    "        if valor in novo_dict.keys():\n",
    "            novo_dict[valor] +=1\n",
    "        else:\n",
    "            novo_dict[valor] =1\n",
    "    \n",
    "    \n",
    "    print(f'Frequencia: {novo_dict}')\n",
    "    \n",
    "    return novo_dict\n",
    "\n"
   ]
  },
  {
   "cell_type": "code",
   "execution_count": 237,
   "metadata": {},
   "outputs": [],
   "source": [
    "def frequencia_palavras_do_nei(dicionario):\n",
    "\n",
    "    novo_dict={}\n",
    "\n",
    "    for valor in dicionario.values():\n",
    "\n",
    "        if valor in novo_dict.keys():\n",
    "            novo_dict[valor] +=1\n",
    "        else:\n",
    "            novo_dict[valor] =1\n",
    "\n",
    "    print(f'Frequencia: {novo_dict}')    \n",
    "\n",
    "    return novo_dict"
   ]
  },
  {
   "cell_type": "code",
   "execution_count": 235,
   "metadata": {},
   "outputs": [
    {
     "name": "stdout",
     "output_type": "stream",
     "text": [
      "Frequencia: {'bom': 2, 'dia': 2, 'pessoal': 1, 'tudo': 1, 'bem': 1}\n"
     ]
    },
    {
     "data": {
      "text/plain": [
       "{'bom': 2, 'dia': 2, 'pessoal': 1, 'tudo': 1, 'bem': 1}"
      ]
     },
     "execution_count": 235,
     "metadata": {},
     "output_type": "execute_result"
    }
   ],
   "source": [
    "frequencia_palavras_do_nei(dicionaro_do_rodrigo)"
   ]
  },
  {
   "cell_type": "code",
   "execution_count": 238,
   "metadata": {},
   "outputs": [],
   "source": [
    "import math"
   ]
  },
  {
   "cell_type": "code",
   "execution_count": 243,
   "metadata": {},
   "outputs": [
    {
     "data": {
      "text/plain": [
       "0.999664537372097"
      ]
     },
     "execution_count": 243,
     "metadata": {},
     "output_type": "execute_result"
    }
   ],
   "source": [
    "round(1/1-math.exp(-8),15)"
   ]
  },
  {
   "cell_type": "code",
   "execution_count": 1,
   "metadata": {},
   "outputs": [
    {
     "data": {
      "image/png": "[encoded data removed]",
      "text/plain": [
       "<Figure size 432x288 with 1 Axes>"
      ]
     },
     "metadata": {
      "needs_background": "light"
     },
     "output_type": "display_data"
    }
   ],
   "source": [
    "from sklearn.datasets import make_biclusters\n",
    "import matplotlib.pyplot as plt\n",
    "\n",
    "data = make_biclusters(shape=(400,2),n_clusters=2,noise=15,random_state=42)[0]\n",
    "lista_de_coordenadas = data.tolist()\n",
    "\n",
    "plt.scatter(data[:,0],data[:,1])\n",
    "plt.title('Dados')\n",
    "plt.show()"
   ]
  },
  {
   "cell_type": "markdown",
   "metadata": {},
   "source": [
    "## Lista 01 - Python"
   ]
  },
  {
   "cell_type": "markdown",
   "metadata": {},
   "source": [
    "Nessa lista você deverá desenvolver o código para resolver as questões abaixo. Divida bem suas questões e utilize células markdown para indicar qual questão está respondendo. Documento bem seu código utilizando docstrings, comentários e célular markdown."
   ]
  },
  {
   "cell_type": "markdown",
   "metadata": {},
   "source": [
    "1 - Execute todas as operações aritiméticas básicas (adição, subtração, divisão e multiplicação) com as variáveis 'a' e 'b' abaixo.\n",
    "\n",
    "a = 15\n",
    "b = 12\n",
    "\n",
    "2 - Tente calcular o seu IMC utilizando somente operações matemáticas. Dica: o IMC é calculado da seguinte forma: IMC = peso / (altura em metros * altura em metros)\n",
    "\n",
    "3 - Sua professora de português pediu para você escrever a frase 'português é maravilhoso' 50 vezes. Como resolver esse problema com python? Demonstre sua solução.\n",
    "\n",
    "4 - Um modelo de regressão linear possui a seguinte fórmula: y=0.253*x + 125. Qual será o valor de Y quando X for 125?\n",
    "\n",
    "5 - Qual é raiz cubica de 144? Utilize somente operações python apresentadas neste notebook.\n",
    "\n",
    "6 - Nossa matéria terá dois trabalhos! Os pesos são, respectivamente, 4 e 6. Imagine que você tenha tirado 8.2 no primeiro projeto e 3.3 no segundo projeto. Levando em consideração sua nota final e os pesos, você tirou uma média maior que 5?\n",
    "\n",
    "7 - Crie uma lista 'a_list' com os seguintes valores: 1, hello, [1,2,3] e True.\n",
    "\n",
    "8 - Ache o valor em 'a_list' que esteja no índice -1.\n",
    "\n",
    "9 - Encontre os valores em 'a_list' que estejam nos indices 1,2 e 3.\n",
    "\n",
    "10 - Junte as seguinte listas a=[1,2,3,4,5] e b=[11,12,13,14,15]\n",
    "\n",
    "11 - Crie uma lista de listas 'list_list' que tenha os valores de 'a_list', 'a' e 'b'\n",
    "\n",
    "12 - Qual o tamanho de 'list_list'?\n",
    "\n",
    "13 - Adicione o valor 125 ao final de 'list_list'.\n",
    "\n",
    "14 - Remova a lista [1,2,3] de 'list_list' e guarde esse valor numa variável 'list_a'.\n",
    "\n",
    "15 - Qual é o primeiro valor do segundo valor de [[1,3,5,7],[2,4,6,8,10]]?\n",
    "\n",
    "16 - Crie a tupla 'gnr' com os seguintes valores: rock, metal, sertanejo, pop, lo-fi e chillwave, nessa ordem.\n",
    "\n",
    "17 - Qual o terceiro valor da tupla 'gnr'?\n",
    "\n",
    "18 - Qual o índice de lofi?\n",
    "\n",
    "19 - Crie uma tupla de tuplas com as seguintes tuplas (15,30), (20,40) e (25,50). Como acessar o valor 40?\n",
    "\n",
    "20 - Acesse a tupla 'gnr' a cada dois valores, qual gêneros musicais aparecem?\n",
    "\n",
    "21 - Crie o dicionário 'mcu' com os seguintes dados, 'Homem de Ferro':2008, 'Homem de Ferro 2':2010, 'Homem de ferro 3':2013, 'Avengers: Endgame':2019.\n",
    "\n",
    "    a - No dicionário 'mcu' quais são os valores?\n",
    "\n",
    "    b - No dicińario 'mcu' quais são as chaves?\n",
    "\n",
    "    c - Adicione ao dicionário 'mcu' os seguintes filmes: 'Avengers Infinity War':2018, 'Avengers Age of Ultron':2015.\n",
    "\n",
    "    d - Delete o filme 'Homem de Ferro 3' do dicionário 'mcu'\n",
    "\n",
    "    e - Limpe o dicionário 'mcu'\n",
    "\n",
    "22 - Popule o dicionário vazio 'mcu' com as informações abaixo:\n",
    "\n",
    "'homem de ferro':{'filmes':3,'ator principal':'Robert Downey Jr.'},'Cpt.América':{'filmes':3,'ator principal':'Chris Evans'}\n",
    "\n",
    "23 - Acesse somente a quantidade de filmes de cada uma das chaves do dicionário MCU.\n",
    "\n",
    "24 - Quais são as chaves do dicionário de dicionários 'mcu'?\n",
    "\n",
    "25 - Qual o tamanho do dicionário de dicionários 'mcu'?\n",
    "\n",
    "26 - Escreva uma função python que receba uma lista e separe os múltiplos de 5. Ao final ela retorna a soma de todos os valores da lista de entrada que são múltiplos de 5.\n",
    "\n",
    "27 - Escreva uma função para verificar se uma palavra é um palíndromo e retorne 1 em casos positivos e zero em casos negativos.\n",
    "\n",
    "28 - Escreva uma função que receba uma lista crie um dicionário com a contagem dos valores dessa lista.\n",
    "\n",
    "29 - Escreva uma função que receba uma lista de listas, itere sobre cada lista, some seus valores, gere uma segunda lista e descubra o desvio padrão dela.\n",
    "\n",
    "entrada : [[12,12,5,6,3,6,8,5,5,5],[3,3,3,3,4,4,15,89,20,20],[15,15,15,20,30,35,35,35,15,15],[10,10,10,10,15,15,15,15],[5,5,2,2],[8,8,89,89,898,1000]]\n",
    "\n",
    "30 - Escreva uma função que gere uma sequencia de Fibonnaci. O único parâmetro é a quantidade de números que devem gerados. (Fibonnaci é uma sequencia onde o próximo número é a soma dos dois imediatamente anteriores a ele).\n",
    "\n",
    "31 - Monte uma função que vai calcular e comparar os custos de uma viagem para 3 cidades diferentes e que, ao final, irá recomendar qual é o destino mais barato. Essa função deve receber somente uma parâmetro 'noites'. A partir desse argumento a função deve calcular o custo total de viagem para cada uma das cidades. Utilize os dados abaixo.\n",
    "\n",
    "|   Cidade  | Hotel/noite | Alimentação/noite | Locomoção/noite |\n",
    "|:---------:|:-----------:|:-----------------:|:---------------:|\n",
    "| Abu Dhabi |     1300    |        200        |       150       |\n",
    "|  Genebra  |     1200    |        150        |        80       |\n",
    "|    Oslo   |     1000    |        250        |       100       |\n",
    "\n",
    "32 - Defina uma função que calcule o z-score de todos os valores de uma lista e encontre quem são os outliers (z-score abaixo de -3 e acima de 3). Use a lista abaixo:\n",
    "\n",
    "lista8 = [201, 102, -5558, 232, 213, -9249, -247, 1183, 211, 7598, 130, 61, 192, 207, -46, 170, 116, 106, 225, 75, 138, 107, 108, -33, -9, 170, 147, 175, 137, -5, -9, 16600, 171, 183, 147, 171, 143, 104, 7, 227, 127, 173, 178, 194, 110, 20, 99, 11, 41, 242, 250, 62, 230, -32, 239, 241, 30, -35, 132, 214, 58, 90, -12, -24, 177, 116, 53, -26, 144, 29, 41, 217, 114, 109, -15, 32, 110, 162, 221, -16, 210, 87, 76, 3100, 73, 174, 194, 93, -9, 241, 234, 79, -4800, -22, -41, 224, 249, 114, -29, 79]\n",
    "\n",
    "33 - Defina uma função que recebe uma lista aplica a fórmula abaixo a cada um dos valores e retorna uma lista com o resultado.\n",
    "\n",
    "![minmax](../imgs/minmax.jpg)\n",
    "\n",
    "\n",
    "34 - Escreva um código que dê print em todos os quadrados dos valores de 0 a 10.\n",
    "\n",
    "35 - Escreva um código que encontre a soma de todos os valores pares de 0 a 10.\n",
    "\n",
    "37 - Construa uma função que receba 3 valores (a,b,c) e retorne uma lista com todos os valores entre 'a' e 'b' que são múltiplos de 'c'. Utilize os valores abaixo (10,500,23).\n",
    "\n",
    "38 -Escreva um código para ter o seguinte output:\n",
    "    \n",
    "    1 ---- 99\n",
    "    2 ---- 98\n",
    "    3 ---- 97\n",
    "    4 ---- 96\n",
    "    .\n",
    "    .\n",
    "    .\n",
    "    99 ---- 1\n",
    "    \n",
    "39 - Construa uma função que receba um input e printe um padrão conforme exemplo.\n",
    "\n",
    "input = 5\n",
    "\n",
    "output:\n",
    "\n",
    "+<br>\n",
    "++<br>\n",
    "+++<br>\n",
    "++++<br>\n",
    "+++++\n",
    "\n",
    "\n",
    "40 - Itere sobre a lista abaixo e crie uma nova lista com todos os nomes em letras maisculuas e com underline ao invés de espaços. Dica: utilize compreensão de listas.\n",
    "\n",
    "lista_nomes = ['Geralt de Rívia','Yennefer de Vengerberd','Triss Marigold','Emhyr var Emreis','Jaskier o bardo']\n",
    "\n",
    "41 - Voce é um jogador de tênis. Para decidir se você vai treinar hoje você deve avaliar duas coisas: o tempo e a temperatura. Crie um programa para saber se você deve ou não treinar hoje de acordo com as seguintes especificações: \n",
    "\n",
    "- Tempo: chuvoso -> não jogar\n",
    "- Tempo: ensolarado ou nublado -> jogar\n",
    "- Temperatura maior ou igual a 15 graus e tempo ensolarado ou nublado -> jogar\n",
    "- Temperatura menor que 15 graus e tempo ensolarado ou nublado -> não jogar\n",
    "\n",
    "Se o dia estiver ensolarado e a temperatura for de 16 graus. Você irá ou não jogar?\n",
    "\n",
    "42 - Construa usando um programa que represente a seguinte árvore abaixo:\n",
    "\n",
    "![arvore](../imgs/arvore.png)\n",
    "\n",
    "Quando x = 'bacon', y = [1,2,3,4,5,6,7,8,9,10,'a','b','c','d','e','f','g','h'] e z = 15. Qual valor o programa deverá printar?\n",
    "\n",
    "Quando x = 'bacon', y = [1,2,3,4], e z = 20. Qual valor o programa deverá printar?\n",
    "\n",
    "Quando x='couxeiro', y = [[1,2,3,4,5],[1,2,3,4,5],[1,2,3,4,5]] e z = 21. Qual valor o programa deverá printar?\n",
    "\n",
    "43 - Use a função zip para juntar as duas listas abaixo em uma tupla.\n",
    "\n",
    "nomes = ['nasser','joao','mateus']\n",
    "salarios = [1000,1500,5000]\n",
    "\n",
    "44 - Considera as duas listas abaixo, a primeira demonstra o valor real de venda de uma casa e a segunda demonstra o valor recomendado por um modelo de regressão. Gere uma terceira lista com o resíduo de cada ponto. O resíduo é o resultado da subtração entre o valor real e o valor predito para determinado ponto.\n",
    "\n",
    "real = [150358,368525,532152,144789]\n",
    "predito = [162122,365255,533200,185789]\n",
    "\n",
    "45 - Utilize a função 'filter' do python para filtrar somente os valores positivos do resultado da questão 44.\n",
    "\n",
    "46 - Ainda usando o resultado da questão 44 calcule, sem utilizar bibliotecas, o RMSE do valor predito. Referência: https://tinyurl.com/yd9ljcmj"
   ]
  }
 ],
 "metadata": {
  "kernelspec": {
   "display_name": "Python 3",
   "language": "python",
   "name": "python3"
  },
  "language_info": {
   "codemirror_mode": {
    "name": "ipython",
    "version": 3
   },
   "file_extension": ".py",
   "mimetype": "text/x-python",
   "name": "python",
   "nbconvert_exporter": "python",
   "pygments_lexer": "ipython3",
   "version": "3.8.5"
  }
 },
 "nbformat": 4,
 "nbformat_minor": 4
}
