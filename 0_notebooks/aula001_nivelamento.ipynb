{
 "cells": [
  {
   "cell_type": "markdown",
   "metadata": {
    "id": "XrxnotkOffp6"
   },
   "source": [
    "# Variáveis, Operadores, Entrada e Saídas"
   ]
  },
  {
   "cell_type": "code",
   "execution_count": 23,
   "metadata": {},
   "outputs": [],
   "source": [
    "minha_primeira_variavel = 'nasser'"
   ]
  },
  {
   "cell_type": "code",
   "execution_count": 24,
   "metadata": {},
   "outputs": [],
   "source": [
    "minha_segunda_variavel = 10"
   ]
  },
  {
   "cell_type": "code",
   "execution_count": 25,
   "metadata": {},
   "outputs": [],
   "source": [
    "minha_terceira_variavel = 1.2"
   ]
  },
  {
   "cell_type": "code",
   "execution_count": 26,
   "metadata": {},
   "outputs": [],
   "source": [
    "minha_tupla = (1,2,3,45,15,'nasser')"
   ]
  },
  {
   "cell_type": "code",
   "execution_count": 27,
   "metadata": {},
   "outputs": [
    {
     "data": {
      "text/plain": [
       "tuple"
      ]
     },
     "execution_count": 27,
     "metadata": {},
     "output_type": "execute_result"
    }
   ],
   "source": [
    "type(minha_tupla)"
   ]
  },
  {
   "cell_type": "code",
   "execution_count": 29,
   "metadata": {},
   "outputs": [
    {
     "data": {
      "text/plain": [
       "float"
      ]
     },
     "execution_count": 29,
     "metadata": {},
     "output_type": "execute_result"
    }
   ],
   "source": [
    "type(minha_terceira_variavel)"
   ]
  },
  {
   "cell_type": "code",
   "execution_count": 37,
   "metadata": {},
   "outputs": [],
   "source": [
    "meu_tipo_maluco_de_dado = True\n",
    "meu_tipo_maluco_de_dado_outro = False"
   ]
  },
  {
   "cell_type": "code",
   "execution_count": 33,
   "metadata": {},
   "outputs": [
    {
     "data": {
      "text/plain": [
       "bool"
      ]
     },
     "execution_count": 33,
     "metadata": {},
     "output_type": "execute_result"
    }
   ],
   "source": [
    "type(meu_tipo_maluco_de_dado)"
   ]
  },
  {
   "cell_type": "code",
   "execution_count": 40,
   "metadata": {},
   "outputs": [
    {
     "data": {
      "text/plain": [
       "0"
      ]
     },
     "execution_count": 40,
     "metadata": {},
     "output_type": "execute_result"
    }
   ],
   "source": [
    "False + False"
   ]
  },
  {
   "cell_type": "code",
   "execution_count": 49,
   "metadata": {
    "id": "tz3AnkrL_CoB"
   },
   "outputs": [],
   "source": [
    "altura = 1.71"
   ]
  },
  {
   "cell_type": "code",
   "execution_count": 53,
   "metadata": {
    "id": "tTJ6opI3fq8i"
   },
   "outputs": [],
   "source": [
    "peso = 70"
   ]
  },
  {
   "cell_type": "code",
   "execution_count": 54,
   "metadata": {},
   "outputs": [
    {
     "data": {
      "text/plain": [
       "70"
      ]
     },
     "execution_count": 54,
     "metadata": {},
     "output_type": "execute_result"
    }
   ],
   "source": [
    "peso"
   ]
  },
  {
   "cell_type": "code",
   "execution_count": 55,
   "metadata": {},
   "outputs": [],
   "source": [
    "imc = peso / (altura*altura)"
   ]
  },
  {
   "cell_type": "code",
   "execution_count": 56,
   "metadata": {},
   "outputs": [
    {
     "data": {
      "text/plain": [
       "23.938989774631512"
      ]
     },
     "execution_count": 56,
     "metadata": {},
     "output_type": "execute_result"
    }
   ],
   "source": [
    "imc"
   ]
  },
  {
   "cell_type": "code",
   "execution_count": 58,
   "metadata": {},
   "outputs": [
    {
     "data": {
      "text/plain": [
       "float"
      ]
     },
     "execution_count": 58,
     "metadata": {},
     "output_type": "execute_result"
    }
   ],
   "source": [
    "type(imc)"
   ]
  },
  {
   "cell_type": "code",
   "execution_count": 59,
   "metadata": {},
   "outputs": [],
   "source": [
    "a = 10\n",
    "b = 20"
   ]
  },
  {
   "cell_type": "code",
   "execution_count": 66,
   "metadata": {},
   "outputs": [
    {
     "data": {
      "text/plain": [
       "100"
      ]
     },
     "execution_count": 66,
     "metadata": {},
     "output_type": "execute_result"
    }
   ],
   "source": [
    "a ** 2"
   ]
  },
  {
   "cell_type": "code",
   "execution_count": 70,
   "metadata": {},
   "outputs": [
    {
     "data": {
      "text/plain": [
       "1.379729661461215"
      ]
     },
     "execution_count": 70,
     "metadata": {},
     "output_type": "execute_result"
    }
   ],
   "source": [
    "5 ** (1/5)"
   ]
  },
  {
   "cell_type": "code",
   "execution_count": 71,
   "metadata": {},
   "outputs": [],
   "source": [
    "import numpy as np"
   ]
  },
  {
   "cell_type": "code",
   "execution_count": 72,
   "metadata": {},
   "outputs": [
    {
     "data": {
      "text/plain": [
       "1.0000454019910097"
      ]
     },
     "execution_count": 72,
     "metadata": {},
     "output_type": "execute_result"
    }
   ],
   "source": [
    "1 / (1 - np.exp(-10))"
   ]
  },
  {
   "cell_type": "code",
   "execution_count": 74,
   "metadata": {},
   "outputs": [
    {
     "data": {
      "text/plain": [
       "15"
      ]
     },
     "execution_count": 74,
     "metadata": {},
     "output_type": "execute_result"
    }
   ],
   "source": [
    "3 * (3 + 2)"
   ]
  },
  {
   "cell_type": "code",
   "execution_count": 75,
   "metadata": {},
   "outputs": [
    {
     "data": {
      "text/plain": [
       "0.03952941176470588"
      ]
     },
     "execution_count": 75,
     "metadata": {},
     "output_type": "execute_result"
    }
   ],
   "source": [
    " 85/1.68*2"
   ]
  },
  {
   "cell_type": "code",
   "execution_count": 77,
   "metadata": {},
   "outputs": [],
   "source": [
    "a = 2\n",
    "b = 15.2"
   ]
  },
  {
   "cell_type": "code",
   "execution_count": 78,
   "metadata": {},
   "outputs": [
    {
     "data": {
      "text/plain": [
       "17.2"
      ]
     },
     "execution_count": 78,
     "metadata": {},
     "output_type": "execute_result"
    }
   ],
   "source": [
    "a + b"
   ]
  },
  {
   "cell_type": "code",
   "execution_count": 79,
   "metadata": {},
   "outputs": [
    {
     "data": {
      "text/plain": [
       "-13.2"
      ]
     },
     "execution_count": 79,
     "metadata": {},
     "output_type": "execute_result"
    }
   ],
   "source": [
    "a - b"
   ]
  },
  {
   "cell_type": "code",
   "execution_count": 86,
   "metadata": {},
   "outputs": [
    {
     "data": {
      "text/plain": [
       "0.0"
      ]
     },
     "execution_count": 86,
     "metadata": {},
     "output_type": "execute_result"
    }
   ],
   "source": [
    "7 % 3.5"
   ]
  },
  {
   "cell_type": "code",
   "execution_count": 105,
   "metadata": {},
   "outputs": [],
   "source": [
    "a = 0\n",
    "b = 1"
   ]
  },
  {
   "cell_type": "code",
   "execution_count": 106,
   "metadata": {},
   "outputs": [],
   "source": [
    "# a = a+1"
   ]
  },
  {
   "cell_type": "code",
   "execution_count": 107,
   "metadata": {},
   "outputs": [],
   "source": [
    "# a = 1"
   ]
  },
  {
   "cell_type": "code",
   "execution_count": 111,
   "metadata": {},
   "outputs": [],
   "source": [
    "a += 15"
   ]
  },
  {
   "cell_type": "code",
   "execution_count": 112,
   "metadata": {},
   "outputs": [
    {
     "data": {
      "text/plain": [
       "30"
      ]
     },
     "execution_count": 112,
     "metadata": {},
     "output_type": "execute_result"
    }
   ],
   "source": [
    "a"
   ]
  },
  {
   "cell_type": "code",
   "execution_count": 113,
   "metadata": {},
   "outputs": [],
   "source": [
    "a -= 8"
   ]
  },
  {
   "cell_type": "code",
   "execution_count": 114,
   "metadata": {},
   "outputs": [
    {
     "data": {
      "text/plain": [
       "22"
      ]
     },
     "execution_count": 114,
     "metadata": {},
     "output_type": "execute_result"
    }
   ],
   "source": [
    "a"
   ]
  },
  {
   "cell_type": "code",
   "execution_count": 115,
   "metadata": {},
   "outputs": [],
   "source": [
    "a /= 11"
   ]
  },
  {
   "cell_type": "code",
   "execution_count": 116,
   "metadata": {},
   "outputs": [
    {
     "data": {
      "text/plain": [
       "2.0"
      ]
     },
     "execution_count": 116,
     "metadata": {},
     "output_type": "execute_result"
    }
   ],
   "source": [
    "a"
   ]
  },
  {
   "cell_type": "code",
   "execution_count": 117,
   "metadata": {},
   "outputs": [],
   "source": [
    "a *= 8"
   ]
  },
  {
   "cell_type": "code",
   "execution_count": 118,
   "metadata": {},
   "outputs": [
    {
     "data": {
      "text/plain": [
       "16.0"
      ]
     },
     "execution_count": 118,
     "metadata": {},
     "output_type": "execute_result"
    }
   ],
   "source": [
    "a"
   ]
  },
  {
   "cell_type": "code",
   "execution_count": 133,
   "metadata": {},
   "outputs": [],
   "source": [
    "x = 50\n",
    "nome = 'nasser '"
   ]
  },
  {
   "cell_type": "code",
   "execution_count": 134,
   "metadata": {},
   "outputs": [
    {
     "data": {
      "text/plain": [
       "'nasser nasser nasser nasser nasser nasser nasser nasser nasser nasser nasser nasser nasser nasser nasser nasser nasser nasser nasser nasser nasser nasser nasser nasser nasser nasser nasser nasser nasser nasser nasser nasser nasser nasser nasser nasser nasser nasser nasser nasser nasser nasser nasser nasser nasser nasser nasser nasser nasser nasser '"
      ]
     },
     "execution_count": 134,
     "metadata": {},
     "output_type": "execute_result"
    }
   ],
   "source": [
    "x * nome"
   ]
  },
  {
   "cell_type": "code",
   "execution_count": 153,
   "metadata": {},
   "outputs": [
    {
     "name": "stdin",
     "output_type": "stream",
     "text": [
      "Qual é o sua altura: 9\n"
     ]
    }
   ],
   "source": [
    "altura = input('Qual é o sua altura:')"
   ]
  },
  {
   "cell_type": "code",
   "execution_count": 154,
   "metadata": {},
   "outputs": [
    {
     "data": {
      "text/plain": [
       "str"
      ]
     },
     "execution_count": 154,
     "metadata": {},
     "output_type": "execute_result"
    }
   ],
   "source": [
    "type(altura)"
   ]
  },
  {
   "cell_type": "code",
   "execution_count": 155,
   "metadata": {},
   "outputs": [
    {
     "data": {
      "text/plain": [
       "'9'"
      ]
     },
     "execution_count": 155,
     "metadata": {},
     "output_type": "execute_result"
    }
   ],
   "source": [
    "altura"
   ]
  },
  {
   "cell_type": "code",
   "execution_count": 156,
   "metadata": {},
   "outputs": [
    {
     "data": {
      "text/plain": [
       "9"
      ]
     },
     "execution_count": 156,
     "metadata": {},
     "output_type": "execute_result"
    }
   ],
   "source": [
    "int(altura)"
   ]
  },
  {
   "cell_type": "code",
   "execution_count": 157,
   "metadata": {},
   "outputs": [
    {
     "data": {
      "text/plain": [
       "'10'"
      ]
     },
     "execution_count": 157,
     "metadata": {},
     "output_type": "execute_result"
    }
   ],
   "source": [
    "str(10)"
   ]
  },
  {
   "cell_type": "code",
   "execution_count": 158,
   "metadata": {},
   "outputs": [],
   "source": [
    "nome = 'nasser '\n",
    "sobrenome = 'boan'"
   ]
  },
  {
   "cell_type": "code",
   "execution_count": 159,
   "metadata": {},
   "outputs": [
    {
     "data": {
      "text/plain": [
       "'nasser boan'"
      ]
     },
     "execution_count": 159,
     "metadata": {},
     "output_type": "execute_result"
    }
   ],
   "source": [
    "nome + sobrenome"
   ]
  },
  {
   "cell_type": "code",
   "execution_count": 160,
   "metadata": {},
   "outputs": [
    {
     "data": {
      "text/plain": [
       "'O meu nome é nasser  e meu sobrenome é boan'"
      ]
     },
     "execution_count": 160,
     "metadata": {},
     "output_type": "execute_result"
    }
   ],
   "source": [
    "f'O meu nome é {nome} e meu sobrenome é {sobrenome}'"
   ]
  },
  {
   "cell_type": "code",
   "execution_count": 161,
   "metadata": {},
   "outputs": [],
   "source": [
    "altura = 1.71\n",
    "peso = 100"
   ]
  },
  {
   "cell_type": "code",
   "execution_count": 164,
   "metadata": {},
   "outputs": [
    {
     "data": {
      "text/plain": [
       "'Minha altura é 1.71 e meu peso é 100'"
      ]
     },
     "execution_count": 164,
     "metadata": {},
     "output_type": "execute_result"
    }
   ],
   "source": [
    "f'Minha altura é {altura} e meu peso é {peso}'"
   ]
  },
  {
   "cell_type": "code",
   "execution_count": 179,
   "metadata": {},
   "outputs": [],
   "source": [
    "altura_quadrado = altura**2"
   ]
  },
  {
   "cell_type": "code",
   "execution_count": 180,
   "metadata": {},
   "outputs": [
    {
     "data": {
      "text/plain": [
       "float"
      ]
     },
     "execution_count": 180,
     "metadata": {},
     "output_type": "execute_result"
    }
   ],
   "source": [
    "type(altura_quadrado)"
   ]
  },
  {
   "cell_type": "code",
   "execution_count": 178,
   "metadata": {},
   "outputs": [
    {
     "name": "stdout",
     "output_type": "stream",
     "text": [
      "None\n"
     ]
    }
   ],
   "source": [
    "print(altura_quadrado)"
   ]
  },
  {
   "cell_type": "code",
   "execution_count": 181,
   "metadata": {
    "id": "hkHdVFuZfq6a"
   },
   "outputs": [],
   "source": [
    "altura = 1.71\n",
    "peso = 100\n",
    "\n",
    "IMC = peso / (altura * altura)"
   ]
  },
  {
   "cell_type": "code",
   "execution_count": 182,
   "metadata": {
    "colab": {
     "base_uri": "https://localhost:8080/"
    },
    "id": "NsKau5cmfq35",
    "outputId": "f204646b-9cde-4233-a7fa-c215ca43e9ee"
   },
   "outputs": [
    {
     "name": "stdout",
     "output_type": "stream",
     "text": [
      "34.19855682090216\n"
     ]
    }
   ],
   "source": [
    "print(IMC)"
   ]
  },
  {
   "cell_type": "code",
   "execution_count": 183,
   "metadata": {
    "id": "c37tgCMshnx7"
   },
   "outputs": [],
   "source": [
    "x = 4"
   ]
  },
  {
   "cell_type": "code",
   "execution_count": 184,
   "metadata": {
    "id": "HtMHDF6qhiwI"
   },
   "outputs": [],
   "source": [
    "y = 2*(x**2) - 3*(x**(x+1))/2 + ((x+1)**0.5)/x"
   ]
  },
  {
   "cell_type": "code",
   "execution_count": 185,
   "metadata": {
    "colab": {
     "base_uri": "https://localhost:8080/"
    },
    "id": "qzJzzHBJhw7v",
    "outputId": "bf523d85-fc4a-4706-83da-f5ed25efa9b2"
   },
   "outputs": [
    {
     "name": "stdout",
     "output_type": "stream",
     "text": [
      "-1503.440983005625\n"
     ]
    }
   ],
   "source": [
    "print(y)"
   ]
  },
  {
   "cell_type": "code",
   "execution_count": 186,
   "metadata": {
    "colab": {
     "base_uri": "https://localhost:8080/"
    },
    "id": "38DZk9cOkBGu",
    "outputId": "c95d886b-2fd6-4351-c802-68e9109d6052"
   },
   "outputs": [
    {
     "name": "stdout",
     "output_type": "stream",
     "text": [
      "Seu peso é: 100 kilos.\n",
      "Sua altura é: 1.71 metros.\n",
      "O IMC é: 34.19855682090216.\n",
      "P: 100, A: 1.71, IMC: 34.19855682090216.\n"
     ]
    }
   ],
   "source": [
    "print(f'Seu peso é: {peso} kilos.')\n",
    "\n",
    "print(f'Sua altura é: {altura} metros.')\n",
    "\n",
    "print(f'O IMC é: {IMC}.')\n",
    "\n",
    "print(f'P: {peso}, A: {altura}, IMC: {IMC}.')"
   ]
  },
  {
   "cell_type": "code",
   "execution_count": 187,
   "metadata": {
    "colab": {
     "base_uri": "https://localhost:8080/",
     "height": 52
    },
    "id": "O2GZUltVmxJy",
    "outputId": "fdcb13c6-d99f-4d66-9492-d9e4de227ba9"
   },
   "outputs": [
    {
     "name": "stdin",
     "output_type": "stream",
     "text": [
      "Qual o seu nome?  Nasser\n"
     ]
    },
    {
     "data": {
      "text/plain": [
       "'Nasser'"
      ]
     },
     "execution_count": 187,
     "metadata": {},
     "output_type": "execute_result"
    }
   ],
   "source": [
    "input('Qual o seu nome? ')"
   ]
  },
  {
   "cell_type": "code",
   "execution_count": 188,
   "metadata": {
    "colab": {
     "base_uri": "https://localhost:8080/"
    },
    "id": "xd7CMhALkk7X",
    "outputId": "dc5a76e6-3c4e-4b8a-d907-df7c47f280e7"
   },
   "outputs": [
    {
     "name": "stdin",
     "output_type": "stream",
     "text": [
      "Qual é sua idade?  30\n"
     ]
    },
    {
     "name": "stdout",
     "output_type": "stream",
     "text": [
      "Sua idade em meses é 360.0 meses; E em dias é 10950.0 dias.\n"
     ]
    }
   ],
   "source": [
    "idade = input('Qual é sua idade? ')\n",
    "idade_em_float = float(idade)\n",
    "print(f\"Sua idade em meses é {idade_em_float*12} meses; E em dias é {idade_em_float*365} dias.\")"
   ]
  },
  {
   "cell_type": "markdown",
   "metadata": {
    "id": "f_-ToObJudB7"
   },
   "source": [
    "# Tipos de dados"
   ]
  },
  {
   "cell_type": "code",
   "execution_count": 189,
   "metadata": {
    "colab": {
     "base_uri": "https://localhost:8080/"
    },
    "id": "y35OcU6ouj3W",
    "outputId": "6f7fc9db-cb81-49eb-efa2-59420e460527"
   },
   "outputs": [
    {
     "data": {
      "text/plain": [
       "str"
      ]
     },
     "execution_count": 189,
     "metadata": {},
     "output_type": "execute_result"
    }
   ],
   "source": [
    "x = 'Nasser'\n",
    "\n",
    "type(x)"
   ]
  },
  {
   "cell_type": "code",
   "execution_count": 190,
   "metadata": {
    "colab": {
     "base_uri": "https://localhost:8080/"
    },
    "id": "woIpvfvxuj1J",
    "outputId": "6b4eaf16-59c6-4773-8311-8921fb0a796d"
   },
   "outputs": [
    {
     "data": {
      "text/plain": [
       "int"
      ]
     },
     "execution_count": 190,
     "metadata": {},
     "output_type": "execute_result"
    }
   ],
   "source": [
    "x = 10\n",
    "\n",
    "type(x)"
   ]
  },
  {
   "cell_type": "code",
   "execution_count": 191,
   "metadata": {
    "colab": {
     "base_uri": "https://localhost:8080/"
    },
    "id": "w09G5qrwujyk",
    "outputId": "1a909001-2eb2-4493-8be9-d1b194d60b02"
   },
   "outputs": [
    {
     "data": {
      "text/plain": [
       "float"
      ]
     },
     "execution_count": 191,
     "metadata": {},
     "output_type": "execute_result"
    }
   ],
   "source": [
    "x = 3.3\n",
    "\n",
    "type(x)"
   ]
  },
  {
   "cell_type": "code",
   "execution_count": 192,
   "metadata": {
    "colab": {
     "base_uri": "https://localhost:8080/"
    },
    "id": "NkeXt-anv-lL",
    "outputId": "d068e93c-df82-47ef-d1a9-972e73f6c131"
   },
   "outputs": [
    {
     "data": {
      "text/plain": [
       "bool"
      ]
     },
     "execution_count": 192,
     "metadata": {},
     "output_type": "execute_result"
    }
   ],
   "source": [
    "x = True\n",
    "\n",
    "type(x)"
   ]
  },
  {
   "cell_type": "markdown",
   "metadata": {
    "id": "v9kWt3AvkRvp"
   },
   "source": [
    "# Métodos de String\n",
    "\n"
   ]
  },
  {
   "cell_type": "code",
   "execution_count": 195,
   "metadata": {
    "id": "mFf3eF0Mv-ec"
   },
   "outputs": [],
   "source": [
    "meu_nome = 'nasser'"
   ]
  },
  {
   "cell_type": "code",
   "execution_count": 196,
   "metadata": {
    "colab": {
     "base_uri": "https://localhost:8080/",
     "height": 35
    },
    "id": "7QvW7pkGv-cL",
    "outputId": "0fa26b4d-6676-4a19-cc59-fd681f82c887"
   },
   "outputs": [
    {
     "data": {
      "text/plain": [
       "'NASSER'"
      ]
     },
     "execution_count": 196,
     "metadata": {},
     "output_type": "execute_result"
    }
   ],
   "source": [
    "meu_nome.upper()"
   ]
  },
  {
   "cell_type": "markdown",
   "metadata": {
    "id": "Hit0DABe1SFN"
   },
   "source": [
    "![tweet.png](data:image/png;base64,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)"
   ]
  },
  {
   "cell_type": "code",
   "execution_count": 208,
   "metadata": {
    "id": "6flkwubZuY1q"
   },
   "outputs": [],
   "source": [
    "tweet = 'Bom dia, ótima semana a todos ...'"
   ]
  },
  {
   "cell_type": "code",
   "execution_count": 199,
   "metadata": {
    "colab": {
     "base_uri": "https://localhost:8080/",
     "height": 35
    },
    "id": "l17n71XYuYze",
    "outputId": "67d0e852-469b-4260-894e-bbdeef9c4306"
   },
   "outputs": [
    {
     "data": {
      "text/plain": [
       "'BOM DIA, ÓTIMA SEMANA A TODOS ...'"
      ]
     },
     "execution_count": 199,
     "metadata": {},
     "output_type": "execute_result"
    }
   ],
   "source": [
    "tweet.upper()"
   ]
  },
  {
   "cell_type": "code",
   "execution_count": 200,
   "metadata": {
    "colab": {
     "base_uri": "https://localhost:8080/",
     "height": 35
    },
    "id": "wTMLjPh4uYxj",
    "outputId": "fe92d138-3959-4b83-d606-78076e78edec"
   },
   "outputs": [
    {
     "data": {
      "text/plain": [
       "'bom dia, ótima semana a todos ...'"
      ]
     },
     "execution_count": 200,
     "metadata": {},
     "output_type": "execute_result"
    }
   ],
   "source": [
    "tweet.lower()"
   ]
  },
  {
   "cell_type": "code",
   "execution_count": 203,
   "metadata": {
    "colab": {
     "base_uri": "https://localhost:8080/",
     "height": 35
    },
    "id": "JnQ8haKVuYvY",
    "outputId": "5aa41614-c87a-4979-913f-7945b35309ea"
   },
   "outputs": [
    {
     "data": {
      "text/plain": [
       "'Bom dia, ótima semana a todos ...'"
      ]
     },
     "execution_count": 203,
     "metadata": {},
     "output_type": "execute_result"
    }
   ],
   "source": [
    "tweet.capitalize()"
   ]
  },
  {
   "cell_type": "code",
   "execution_count": 210,
   "metadata": {
    "colab": {
     "base_uri": "https://localhost:8080/"
    },
    "id": "kFysxzq81d2A",
    "outputId": "e64a1fec-b2b8-489c-dcec-6efe2b3de306"
   },
   "outputs": [
    {
     "name": "stdout",
     "output_type": "stream",
     "text": [
      "True\n",
      "True\n",
      "True\n",
      "False\n"
     ]
    }
   ],
   "source": [
    "print(tweet.startswith('B'))\n",
    "print(tweet.startswith('Bom'))\n",
    "print(tweet.startswith('Bom dia'))\n",
    "print(tweet.startswith('Bom dia!!'))"
   ]
  },
  {
   "cell_type": "code",
   "execution_count": 211,
   "metadata": {
    "colab": {
     "base_uri": "https://localhost:8080/"
    },
    "id": "BlsXJXlI1dtJ",
    "outputId": "6d99741c-1bf5-49e6-b80e-74d53b72ab98"
   },
   "outputs": [
    {
     "name": "stdout",
     "output_type": "stream",
     "text": [
      "True\n",
      "True\n",
      "True\n",
      "False\n"
     ]
    }
   ],
   "source": [
    "print(tweet.endswith('.'))\n",
    "print(tweet.endswith('..'))\n",
    "print(tweet.endswith('todos ...'))\n",
    "print(tweet.endswith('... '))"
   ]
  },
  {
   "cell_type": "code",
   "execution_count": 212,
   "metadata": {
    "colab": {
     "base_uri": "https://localhost:8080/",
     "height": 35
    },
    "id": "FptKuYf_3znX",
    "outputId": "532a2662-2c04-4959-e713-c8431e8978aa"
   },
   "outputs": [
    {
     "data": {
      "text/plain": [
       "'Bom dia, ótima semana a todos ...'"
      ]
     },
     "execution_count": 212,
     "metadata": {},
     "output_type": "execute_result"
    }
   ],
   "source": [
    "tweet.strip()"
   ]
  },
  {
   "cell_type": "code",
   "execution_count": 213,
   "metadata": {
    "colab": {
     "base_uri": "https://localhost:8080/",
     "height": 35
    },
    "id": "pbut7evA3zkM",
    "outputId": "5ebed3e9-a36f-4f9e-c0fe-cdec93f82969"
   },
   "outputs": [
    {
     "data": {
      "text/plain": [
       "'Bom dia, ótima semana a todos '"
      ]
     },
     "execution_count": 213,
     "metadata": {},
     "output_type": "execute_result"
    }
   ],
   "source": [
    "tweet.strip('...')"
   ]
  },
  {
   "cell_type": "code",
   "execution_count": 214,
   "metadata": {
    "colab": {
     "base_uri": "https://localhost:8080/",
     "height": 35
    },
    "id": "V6iSqLKY3zgN",
    "outputId": "80cae728-3f42-41b0-fabb-756900a30c35"
   },
   "outputs": [
    {
     "data": {
      "text/plain": [
       "'Bom dia, ótima semana a todos ...'"
      ]
     },
     "execution_count": 214,
     "metadata": {},
     "output_type": "execute_result"
    }
   ],
   "source": [
    "tweet.strip(',')"
   ]
  },
  {
   "cell_type": "code",
   "execution_count": 215,
   "metadata": {
    "colab": {
     "base_uri": "https://localhost:8080/",
     "height": 35
    },
    "id": "NANUstn43zdz",
    "outputId": "129cdc80-45a7-4fe4-8659-2da0c9edb1dc"
   },
   "outputs": [
    {
     "data": {
      "text/plain": [
       "'Bom dia, ótima semana a todos ...'"
      ]
     },
     "execution_count": 215,
     "metadata": {},
     "output_type": "execute_result"
    }
   ],
   "source": [
    "tweet.strip('ótima')"
   ]
  },
  {
   "cell_type": "code",
   "execution_count": 217,
   "metadata": {
    "colab": {
     "base_uri": "https://localhost:8080/",
     "height": 35
    },
    "id": "IvRYgOrk4Qzp",
    "outputId": "fd47715c-259b-46d0-e7de-ae6053dae979"
   },
   "outputs": [
    {
     "data": {
      "text/plain": [
       "'Bom dia, ótima semana a todos ...'"
      ]
     },
     "execution_count": 217,
     "metadata": {},
     "output_type": "execute_result"
    }
   ],
   "source": [
    "tweet.rstrip('Bom')"
   ]
  },
  {
   "cell_type": "code",
   "execution_count": 218,
   "metadata": {
    "colab": {
     "base_uri": "https://localhost:8080/",
     "height": 35
    },
    "id": "Qh4Tl66S4Qx8",
    "outputId": "2268b650-084f-4833-ecfc-401c45dbfee1"
   },
   "outputs": [
    {
     "data": {
      "text/plain": [
       "'Bom dia, ótima semana a todos '"
      ]
     },
     "execution_count": 218,
     "metadata": {},
     "output_type": "execute_result"
    }
   ],
   "source": [
    "tweet.rstrip('...')"
   ]
  },
  {
   "cell_type": "code",
   "execution_count": 219,
   "metadata": {
    "colab": {
     "base_uri": "https://localhost:8080/",
     "height": 35
    },
    "id": "xW5nvUef4Qvc",
    "outputId": "34351215-bf78-43ca-fc6a-61c8087a88b2"
   },
   "outputs": [
    {
     "data": {
      "text/plain": [
       "' dia, ótima semana a todos ...'"
      ]
     },
     "execution_count": 219,
     "metadata": {},
     "output_type": "execute_result"
    }
   ],
   "source": [
    "tweet.lstrip('Bom')"
   ]
  },
  {
   "cell_type": "code",
   "execution_count": null,
   "metadata": {
    "colab": {
     "base_uri": "https://localhost:8080/",
     "height": 35
    },
    "id": "4mHUmJoK4QtD",
    "outputId": "62d06502-072d-4249-c24a-c7cf3a14e374"
   },
   "outputs": [
    {
     "data": {
      "application/vnd.google.colaboratory.intrinsic+json": {
       "type": "string"
      },
      "text/plain": [
       "'Bom dia, ótima semana a todos ...'"
      ]
     },
     "execution_count": 49,
     "metadata": {
      "tags": []
     },
     "output_type": "execute_result"
    }
   ],
   "source": [
    "tweet.lstrip('...')"
   ]
  },
  {
   "cell_type": "code",
   "execution_count": 221,
   "metadata": {},
   "outputs": [
    {
     "name": "stdout",
     "output_type": "stream",
     "text": [
      "Bom dia, ótima semana a todos ...\n"
     ]
    }
   ],
   "source": [
    "print(tweet)"
   ]
  },
  {
   "cell_type": "code",
   "execution_count": 220,
   "metadata": {
    "colab": {
     "base_uri": "https://localhost:8080/"
    },
    "id": "iHSMuXPg4n4I",
    "outputId": "590c74d5-ec89-4e07-df6a-49a1b67d13dc"
   },
   "outputs": [
    {
     "data": {
      "text/plain": [
       "['Bom', 'dia,', 'ótima', 'semana', 'a', 'todos', '...']"
      ]
     },
     "execution_count": 220,
     "metadata": {},
     "output_type": "execute_result"
    }
   ],
   "source": [
    "tweet.split()"
   ]
  },
  {
   "cell_type": "code",
   "execution_count": 222,
   "metadata": {
    "colab": {
     "base_uri": "https://localhost:8080/"
    },
    "id": "Hf6W9oiy4n1v",
    "outputId": "a0380862-e600-422a-d5e3-5f1ec3f69898"
   },
   "outputs": [
    {
     "data": {
      "text/plain": [
       "['Bom ', ', ótima semana a todos ...']"
      ]
     },
     "execution_count": 222,
     "metadata": {},
     "output_type": "execute_result"
    }
   ],
   "source": [
    "tweet.split('dia')"
   ]
  },
  {
   "cell_type": "code",
   "execution_count": 223,
   "metadata": {
    "colab": {
     "base_uri": "https://localhost:8080/"
    },
    "id": "wDYA70l94nzQ",
    "outputId": "22c5fdc2-73e4-4bb0-a7cf-1a87e3c1e60e"
   },
   "outputs": [
    {
     "data": {
      "text/plain": [
       "['Bom di', ', ótim', ' sem', 'n', ' ', ' todos ...']"
      ]
     },
     "execution_count": 223,
     "metadata": {},
     "output_type": "execute_result"
    }
   ],
   "source": [
    "tweet.split('a')"
   ]
  },
  {
   "cell_type": "code",
   "execution_count": 224,
   "metadata": {
    "colab": {
     "base_uri": "https://localhost:8080/"
    },
    "id": "U8O58Oli5LJi",
    "outputId": "a35f5caa-8e9a-4327-90e3-2f692fdc1e59"
   },
   "outputs": [
    {
     "data": {
      "text/plain": [
       "['Bom di', ', ótima semana a todos ...']"
      ]
     },
     "execution_count": 224,
     "metadata": {},
     "output_type": "execute_result"
    }
   ],
   "source": [
    "tweet.split('a',maxsplit=1)"
   ]
  },
  {
   "cell_type": "code",
   "execution_count": 225,
   "metadata": {
    "colab": {
     "base_uri": "https://localhost:8080/"
    },
    "id": "VMvUH8Yl5LHZ",
    "outputId": "95215283-a34d-4478-c9f7-2e8c4f33d683"
   },
   "outputs": [
    {
     "data": {
      "text/plain": [
       "['Bom di', ', ótim', ' semana a todos ...']"
      ]
     },
     "execution_count": 225,
     "metadata": {},
     "output_type": "execute_result"
    }
   ],
   "source": [
    "tweet.split('a',maxsplit=2)"
   ]
  },
  {
   "cell_type": "code",
   "execution_count": 226,
   "metadata": {
    "colab": {
     "base_uri": "https://localhost:8080/"
    },
    "id": "ljxiNbsiAM1V",
    "outputId": "ea30138d-e5f1-453e-ca0e-f8ea43b46a1a"
   },
   "outputs": [
    {
     "data": {
      "text/plain": [
       "['Bom dia, ótima semana ', ' todos ...']"
      ]
     },
     "execution_count": 226,
     "metadata": {},
     "output_type": "execute_result"
    }
   ],
   "source": [
    "tweet.rsplit('a',maxsplit=1)"
   ]
  },
  {
   "cell_type": "code",
   "execution_count": 227,
   "metadata": {
    "colab": {
     "base_uri": "https://localhost:8080/",
     "height": 35
    },
    "id": "ZCWGrrOdBbwb",
    "outputId": "0885e177-ab2e-4482-83e2-65c5e8731f81"
   },
   "outputs": [
    {
     "data": {
      "text/plain": [
       "'Bom dia, ótima semana a todos ... bora tomar café da manhã!'"
      ]
     },
     "execution_count": 227,
     "metadata": {},
     "output_type": "execute_result"
    }
   ],
   "source": [
    "## concatenção de string\n",
    "\n",
    "tweet + ' bora tomar café da manhã!'"
   ]
  },
  {
   "cell_type": "markdown",
   "metadata": {
    "id": "6U8ou0VTJdtq"
   },
   "source": [
    "# Estrutura de Dados"
   ]
  },
  {
   "cell_type": "code",
   "execution_count": null,
   "metadata": {
    "id": "A7bzrV9-KoBp"
   },
   "outputs": [],
   "source": [
    "lista = [1,2,3,4,5]"
   ]
  },
  {
   "cell_type": "code",
   "execution_count": null,
   "metadata": {
    "id": "Kl9NEPxqKn-5"
   },
   "outputs": [],
   "source": [
    "tupla = (1,2,3,4,5)"
   ]
  },
  {
   "cell_type": "code",
   "execution_count": null,
   "metadata": {
    "id": "8_pBikWuK_4t"
   },
   "outputs": [],
   "source": [
    "dicionario = {'a':1,'b':2,'c':3,'d':4,'e':5}"
   ]
  },
  {
   "cell_type": "markdown",
   "metadata": {
    "id": "z3oXwYeIqxoY"
   },
   "source": [
    "## listas"
   ]
  },
  {
   "cell_type": "code",
   "execution_count": null,
   "metadata": {
    "id": "CK9HcG8CLIpK"
   },
   "outputs": [],
   "source": [
    "cidades_que_visitei = []"
   ]
  },
  {
   "cell_type": "code",
   "execution_count": null,
   "metadata": {
    "colab": {
     "base_uri": "https://localhost:8080/"
    },
    "id": "tQMHBiQnLInZ",
    "outputId": "bcecd796-2b94-4cfb-b053-cbc07babc91a"
   },
   "outputs": [
    {
     "data": {
      "text/plain": [
       "[]"
      ]
     },
     "execution_count": 25,
     "metadata": {
      "tags": []
     },
     "output_type": "execute_result"
    }
   ],
   "source": [
    "cidades_que_visitei"
   ]
  },
  {
   "cell_type": "code",
   "execution_count": null,
   "metadata": {
    "colab": {
     "base_uri": "https://localhost:8080/"
    },
    "id": "IszlTMCzrx96",
    "outputId": "3ed0e28a-574a-4352-8f6a-4f1c12db3aeb"
   },
   "outputs": [
    {
     "data": {
      "text/plain": [
       "['Brasília', 'Cairo', 'Tel-Aviv', 'Paris', 'Jerusalem', 'Eilat']"
      ]
     },
     "execution_count": 26,
     "metadata": {
      "tags": []
     },
     "output_type": "execute_result"
    }
   ],
   "source": [
    "cidades_que_visitei = ['Brasília','Cairo','Tel-Aviv','Paris','Jerusalem','Eilat']\n",
    "cidades_que_visitei"
   ]
  },
  {
   "cell_type": "code",
   "execution_count": null,
   "metadata": {
    "colab": {
     "base_uri": "https://localhost:8080/",
     "height": 35
    },
    "id": "Pck-GRMux6k9",
    "outputId": "f8390a1b-0c14-47f0-c477-a9578b686610"
   },
   "outputs": [
    {
     "data": {
      "application/vnd.google.colaboratory.intrinsic+json": {
       "type": "string"
      },
      "text/plain": [
       "'Brasília'"
      ]
     },
     "execution_count": 27,
     "metadata": {
      "tags": []
     },
     "output_type": "execute_result"
    }
   ],
   "source": [
    "cidades_que_visitei[0]"
   ]
  },
  {
   "cell_type": "code",
   "execution_count": null,
   "metadata": {
    "colab": {
     "base_uri": "https://localhost:8080/",
     "height": 35
    },
    "id": "WGkI_QN-x9y5",
    "outputId": "ec80b4bd-971c-42c0-9894-28dba06eac51"
   },
   "outputs": [
    {
     "data": {
      "application/vnd.google.colaboratory.intrinsic+json": {
       "type": "string"
      },
      "text/plain": [
       "'Cairo'"
      ]
     },
     "execution_count": 28,
     "metadata": {
      "tags": []
     },
     "output_type": "execute_result"
    }
   ],
   "source": [
    "cidades_que_visitei[1]"
   ]
  },
  {
   "cell_type": "code",
   "execution_count": null,
   "metadata": {
    "colab": {
     "base_uri": "https://localhost:8080/",
     "height": 35
    },
    "id": "VWCKWPA9x9w0",
    "outputId": "64dc2836-85f6-481e-d4d0-6bcf1f0098b6"
   },
   "outputs": [
    {
     "data": {
      "application/vnd.google.colaboratory.intrinsic+json": {
       "type": "string"
      },
      "text/plain": [
       "'Paris'"
      ]
     },
     "execution_count": 29,
     "metadata": {
      "tags": []
     },
     "output_type": "execute_result"
    }
   ],
   "source": [
    "cidades_que_visitei[3]"
   ]
  },
  {
   "cell_type": "code",
   "execution_count": null,
   "metadata": {
    "colab": {
     "base_uri": "https://localhost:8080/"
    },
    "id": "IIuksRwn02n9",
    "outputId": "540c2fb0-cac5-4b2e-b42e-80bb33f827fd"
   },
   "outputs": [
    {
     "data": {
      "text/plain": [
       "['Brasília', 'Cairo']"
      ]
     },
     "execution_count": 30,
     "metadata": {
      "tags": []
     },
     "output_type": "execute_result"
    }
   ],
   "source": [
    "cidades_que_visitei[0:2]"
   ]
  },
  {
   "cell_type": "code",
   "execution_count": null,
   "metadata": {
    "colab": {
     "base_uri": "https://localhost:8080/"
    },
    "id": "DmwN8Cy-02l6",
    "outputId": "d15d9c8b-2512-4908-d84e-ab31ca674a4c"
   },
   "outputs": [
    {
     "data": {
      "text/plain": [
       "['Brasília', 'Cairo', 'Tel-Aviv', 'Paris', 'Jerusalem', 'Eilat']"
      ]
     },
     "execution_count": 31,
     "metadata": {
      "tags": []
     },
     "output_type": "execute_result"
    }
   ],
   "source": [
    "cidades_que_visitei[:]"
   ]
  },
  {
   "cell_type": "code",
   "execution_count": null,
   "metadata": {
    "colab": {
     "base_uri": "https://localhost:8080/"
    },
    "id": "KTP9j49i02jy",
    "outputId": "f4ca9c18-b034-4434-f5c5-05c1892ea17f"
   },
   "outputs": [
    {
     "data": {
      "text/plain": [
       "['Tel-Aviv', 'Paris', 'Jerusalem', 'Eilat']"
      ]
     },
     "execution_count": 32,
     "metadata": {
      "tags": []
     },
     "output_type": "execute_result"
    }
   ],
   "source": [
    "cidades_que_visitei[2:]"
   ]
  },
  {
   "cell_type": "code",
   "execution_count": null,
   "metadata": {
    "colab": {
     "base_uri": "https://localhost:8080/"
    },
    "id": "jQdsYi_y02hd",
    "outputId": "5b03db78-de2d-4ef3-b95b-ad9611fce66a"
   },
   "outputs": [
    {
     "data": {
      "text/plain": [
       "['Paris', 'Jerusalem']"
      ]
     },
     "execution_count": 33,
     "metadata": {
      "tags": []
     },
     "output_type": "execute_result"
    }
   ],
   "source": [
    "cidades_que_visitei[3:5]"
   ]
  },
  {
   "cell_type": "code",
   "execution_count": null,
   "metadata": {
    "colab": {
     "base_uri": "https://localhost:8080/",
     "height": 35
    },
    "id": "BcaGZoBhajt0",
    "outputId": "4e9ba2ea-1196-4600-a843-877d28ad71da"
   },
   "outputs": [
    {
     "data": {
      "application/vnd.google.colaboratory.intrinsic+json": {
       "type": "string"
      },
      "text/plain": [
       "'Paris'"
      ]
     },
     "execution_count": 36,
     "metadata": {
      "tags": []
     },
     "output_type": "execute_result"
    }
   ],
   "source": [
    "cidades_que_visitei[-3]"
   ]
  },
  {
   "cell_type": "code",
   "execution_count": null,
   "metadata": {
    "colab": {
     "base_uri": "https://localhost:8080/"
    },
    "id": "5ktO7tYlazgE",
    "outputId": "a3802014-8679-4c99-91d2-8e6d02c03544"
   },
   "outputs": [
    {
     "data": {
      "text/plain": [
       "['Cairo', 'Paris', 'Eilat']"
      ]
     },
     "execution_count": 39,
     "metadata": {
      "tags": []
     },
     "output_type": "execute_result"
    }
   ],
   "source": [
    "cidades_que_visitei[1::2]"
   ]
  },
  {
   "cell_type": "code",
   "execution_count": null,
   "metadata": {
    "colab": {
     "base_uri": "https://localhost:8080/"
    },
    "id": "XGkCddPnazZR",
    "outputId": "b81561ac-00fc-43f8-f597-efad622ce645"
   },
   "outputs": [
    {
     "data": {
      "text/plain": [
       "['Eilat', 'Jerusalem', 'Paris', 'Tel-Aviv', 'Cairo', 'Brasília']"
      ]
     },
     "execution_count": 40,
     "metadata": {
      "tags": []
     },
     "output_type": "execute_result"
    }
   ],
   "source": [
    "cidades_que_visitei[::-1]"
   ]
  },
  {
   "cell_type": "code",
   "execution_count": null,
   "metadata": {
    "colab": {
     "base_uri": "https://localhost:8080/"
    },
    "id": "8H9N9Z4Drx7q",
    "outputId": "b94d1d0e-0ef2-44f0-e4df-fea692b49961"
   },
   "outputs": [
    {
     "data": {
      "text/plain": [
       "6"
      ]
     },
     "execution_count": 41,
     "metadata": {
      "tags": []
     },
     "output_type": "execute_result"
    }
   ],
   "source": [
    "len(cidades_que_visitei)"
   ]
  },
  {
   "cell_type": "code",
   "execution_count": null,
   "metadata": {
    "colab": {
     "base_uri": "https://localhost:8080/"
    },
    "id": "bTF5EQdyrx5a",
    "outputId": "8de28725-ef5b-4119-cfa2-2522e506d622"
   },
   "outputs": [
    {
     "data": {
      "text/plain": [
       "33"
      ]
     },
     "execution_count": 46,
     "metadata": {
      "tags": []
     },
     "output_type": "execute_result"
    }
   ],
   "source": [
    "len(tweet)"
   ]
  },
  {
   "cell_type": "code",
   "execution_count": null,
   "metadata": {
    "colab": {
     "base_uri": "https://localhost:8080/",
     "height": 35
    },
    "id": "WSfK0u1qcBdD",
    "outputId": "764b501b-d6fd-463a-b622-f70cf799976e"
   },
   "outputs": [
    {
     "data": {
      "application/vnd.google.colaboratory.intrinsic+json": {
       "type": "string"
      },
      "text/plain": [
       "'Bom dia, ótima semana a todos ...'"
      ]
     },
     "execution_count": 51,
     "metadata": {
      "tags": []
     },
     "output_type": "execute_result"
    }
   ],
   "source": [
    "tweet"
   ]
  },
  {
   "cell_type": "code",
   "execution_count": null,
   "metadata": {
    "colab": {
     "base_uri": "https://localhost:8080/",
     "height": 35
    },
    "id": "eDjqMi67byiV",
    "outputId": "c6cf624e-7eed-48b9-d5ba-cb169d8c35b5"
   },
   "outputs": [
    {
     "data": {
      "application/vnd.google.colaboratory.intrinsic+json": {
       "type": "string"
      },
      "text/plain": [
       "'... sodot a anames amitó ,aid moB'"
      ]
     },
     "execution_count": 52,
     "metadata": {
      "tags": []
     },
     "output_type": "execute_result"
    }
   ],
   "source": [
    "tweet[::-1]"
   ]
  },
  {
   "cell_type": "code",
   "execution_count": null,
   "metadata": {
    "id": "LdqBGzVRbyg6"
   },
   "outputs": [],
   "source": [
    "nome = 'natan'"
   ]
  },
  {
   "cell_type": "code",
   "execution_count": null,
   "metadata": {
    "colab": {
     "base_uri": "https://localhost:8080/"
    },
    "id": "Lrwr-klqcUtS",
    "outputId": "72bc8971-5035-441a-b523-8b4732937516"
   },
   "outputs": [
    {
     "data": {
      "text/plain": [
       "True"
      ]
     },
     "execution_count": 54,
     "metadata": {
      "tags": []
     },
     "output_type": "execute_result"
    }
   ],
   "source": [
    "nome == nome[::-1]"
   ]
  },
  {
   "cell_type": "code",
   "execution_count": null,
   "metadata": {
    "colab": {
     "base_uri": "https://localhost:8080/",
     "height": 35
    },
    "id": "c_bsbIg3cico",
    "outputId": "9f790b7a-abc4-4a5e-f6bc-faf82cc4e0a2"
   },
   "outputs": [
    {
     "data": {
      "application/vnd.google.colaboratory.intrinsic+json": {
       "type": "string"
      },
      "text/plain": [
       "'T'"
      ]
     },
     "execution_count": 59,
     "metadata": {
      "tags": []
     },
     "output_type": "execute_result"
    }
   ],
   "source": [
    "tweet.split()[2].upper()[1]"
   ]
  },
  {
   "cell_type": "code",
   "execution_count": null,
   "metadata": {
    "colab": {
     "base_uri": "https://localhost:8080/"
    },
    "id": "Lx7FumdcvGd4",
    "outputId": "790d3621-aee6-4b14-c8b5-58ed657cf051"
   },
   "outputs": [
    {
     "data": {
      "text/plain": [
       "3"
      ]
     },
     "execution_count": 61,
     "metadata": {
      "tags": []
     },
     "output_type": "execute_result"
    }
   ],
   "source": [
    "paises_que_visite = ['Brasil',{'Jerusalem':5,'Tel-Aviv':2,'Eilat':1},('França','Paris')]\n",
    "len(paises_que_visite)"
   ]
  },
  {
   "cell_type": "code",
   "execution_count": null,
   "metadata": {
    "colab": {
     "base_uri": "https://localhost:8080/"
    },
    "id": "8RfkyzlmeWaA",
    "outputId": "f9790228-b596-4d66-8ded-e0fd94e4f279"
   },
   "outputs": [
    {
     "data": {
      "text/plain": [
       "['Brasília', 'Cairo', 'Tel-Aviv', 'Paris', 'Jerusalem', 'Eilat']"
      ]
     },
     "execution_count": 62,
     "metadata": {
      "tags": []
     },
     "output_type": "execute_result"
    }
   ],
   "source": [
    "cidades_que_visitei\n"
   ]
  },
  {
   "cell_type": "code",
   "execution_count": null,
   "metadata": {
    "id": "MGMRFMyra6iZ"
   },
   "outputs": [],
   "source": [
    "cidades_que_visitei.append('Araxá')"
   ]
  },
  {
   "cell_type": "code",
   "execution_count": null,
   "metadata": {
    "colab": {
     "base_uri": "https://localhost:8080/"
    },
    "id": "ZTcGWjZ9a6gG",
    "outputId": "6dae3082-0179-46de-ae89-69b53b38a69a"
   },
   "outputs": [
    {
     "data": {
      "text/plain": [
       "['Brasília', 'Cairo', 'Tel-Aviv', 'Paris', 'Jerusalem', 'Eilat', 'Araxá']"
      ]
     },
     "execution_count": 64,
     "metadata": {
      "tags": []
     },
     "output_type": "execute_result"
    }
   ],
   "source": [
    "cidades_que_visitei"
   ]
  },
  {
   "cell_type": "code",
   "execution_count": null,
   "metadata": {
    "colab": {
     "base_uri": "https://localhost:8080/"
    },
    "id": "OLtXEFcSa6dh",
    "outputId": "25b2fd81-1427-45b0-a0e8-492321102e54"
   },
   "outputs": [
    {
     "data": {
      "text/plain": [
       "1"
      ]
     },
     "execution_count": 66,
     "metadata": {
      "tags": []
     },
     "output_type": "execute_result"
    }
   ],
   "source": [
    "cidades_que_visitei.count('Eilat')"
   ]
  },
  {
   "cell_type": "code",
   "execution_count": null,
   "metadata": {
    "colab": {
     "base_uri": "https://localhost:8080/"
    },
    "id": "mBNKb6y1a6TY",
    "outputId": "06bdf461-bdb9-4a48-a00c-534ca3b4cfc9"
   },
   "outputs": [
    {
     "data": {
      "text/plain": [
       "3"
      ]
     },
     "execution_count": 67,
     "metadata": {
      "tags": []
     },
     "output_type": "execute_result"
    }
   ],
   "source": [
    "cidades_que_visitei.index('Paris')"
   ]
  },
  {
   "cell_type": "code",
   "execution_count": null,
   "metadata": {
    "id": "6ZBwmiDcvGXk"
   },
   "outputs": [],
   "source": [
    "cidades_que_visitei.reverse()"
   ]
  },
  {
   "cell_type": "code",
   "execution_count": null,
   "metadata": {
    "colab": {
     "base_uri": "https://localhost:8080/"
    },
    "id": "2GWd06AmLIlM",
    "outputId": "3a83a13d-52ed-494c-98fb-6d018c514896"
   },
   "outputs": [
    {
     "data": {
      "text/plain": [
       "['Araxá', 'Eilat', 'Jerusalem', 'Paris', 'Tel-Aviv', 'Cairo', 'Brasília']"
      ]
     },
     "execution_count": 69,
     "metadata": {
      "tags": []
     },
     "output_type": "execute_result"
    }
   ],
   "source": [
    "cidades_que_visitei"
   ]
  },
  {
   "cell_type": "code",
   "execution_count": null,
   "metadata": {
    "id": "MmxG72jeeqYW"
   },
   "outputs": [],
   "source": [
    "cidades_que_visitei.sort()"
   ]
  },
  {
   "cell_type": "code",
   "execution_count": null,
   "metadata": {
    "colab": {
     "base_uri": "https://localhost:8080/"
    },
    "id": "EJRRxCXYeqTx",
    "outputId": "1a76b600-2ede-4c02-d2de-5337b0ea63f0"
   },
   "outputs": [
    {
     "data": {
      "text/plain": [
       "['Araxá', 'Brasília', 'Cairo', 'Eilat', 'Jerusalem', 'Paris', 'Tel-Aviv']"
      ]
     },
     "execution_count": 71,
     "metadata": {
      "tags": []
     },
     "output_type": "execute_result"
    }
   ],
   "source": [
    "cidades_que_visitei"
   ]
  },
  {
   "cell_type": "code",
   "execution_count": null,
   "metadata": {
    "colab": {
     "base_uri": "https://localhost:8080/",
     "height": 35
    },
    "id": "NdSwcSy3eqRy",
    "outputId": "cbafef97-2cb8-4853-fc4c-9a52a5dac3d6"
   },
   "outputs": [
    {
     "data": {
      "application/vnd.google.colaboratory.intrinsic+json": {
       "type": "string"
      },
      "text/plain": [
       "'Cairo'"
      ]
     },
     "execution_count": 72,
     "metadata": {
      "tags": []
     },
     "output_type": "execute_result"
    }
   ],
   "source": [
    "cidades_que_visitei.pop(2)"
   ]
  },
  {
   "cell_type": "code",
   "execution_count": null,
   "metadata": {
    "colab": {
     "base_uri": "https://localhost:8080/"
    },
    "id": "-Da_k-adfdic",
    "outputId": "1235a4fa-e663-4842-ffcd-92476fb3607e"
   },
   "outputs": [
    {
     "data": {
      "text/plain": [
       "['Araxá', 'Brasília', 'Eilat', 'Jerusalem', 'Paris', 'Tel-Aviv']"
      ]
     },
     "execution_count": 73,
     "metadata": {
      "tags": []
     },
     "output_type": "execute_result"
    }
   ],
   "source": [
    "cidades_que_visitei"
   ]
  },
  {
   "cell_type": "code",
   "execution_count": null,
   "metadata": {
    "colab": {
     "base_uri": "https://localhost:8080/"
    },
    "id": "oGiFZdDwfdfz",
    "outputId": "9169d573-42c6-4def-b035-b6e45d937e7f"
   },
   "outputs": [
    {
     "data": {
      "text/plain": [
       "['Araxá', 'Eilat', 'Jerusalem', 'Paris', 'Tel-Aviv']"
      ]
     },
     "execution_count": 74,
     "metadata": {
      "tags": []
     },
     "output_type": "execute_result"
    }
   ],
   "source": [
    "cidades_que_visitei.remove('Brasília')\n",
    "cidades_que_visitei"
   ]
  },
  {
   "cell_type": "markdown",
   "metadata": {
    "id": "vKViYve7_9OB"
   },
   "source": [
    "## tuplas"
   ]
  },
  {
   "cell_type": "code",
   "execution_count": null,
   "metadata": {
    "colab": {
     "base_uri": "https://localhost:8080/"
    },
    "id": "Q1RqTeoCfdd-",
    "outputId": "88ba1a7a-328b-4731-aca5-7e9be045ee7b"
   },
   "outputs": [
    {
     "data": {
      "text/plain": [
       "('ALZR11', 'BBF011', 'BLMG11', 'BLCP11', 'BRCO11')"
      ]
     },
     "execution_count": 75,
     "metadata": {
      "tags": []
     },
     "output_type": "execute_result"
    }
   ],
   "source": [
    "fundo_imob = ('ALZR11','BBF011','BLMG11','BLCP11','BRCO11')\n",
    "fundo_imob"
   ]
  },
  {
   "cell_type": "code",
   "execution_count": null,
   "metadata": {
    "colab": {
     "base_uri": "https://localhost:8080/"
    },
    "id": "KkeTZ8x3fdbs",
    "outputId": "2c449e7d-6973-458d-ba4b-55d6923e3aa0"
   },
   "outputs": [
    {
     "name": "stdout",
     "output_type": "stream",
     "text": [
      "ALZR11\n",
      "BBF011\n",
      "BLMG11\n"
     ]
    }
   ],
   "source": [
    "print(fundo_imob[0])\n",
    "print(fundo_imob[1])\n",
    "print(fundo_imob[2])"
   ]
  },
  {
   "cell_type": "code",
   "execution_count": null,
   "metadata": {
    "colab": {
     "base_uri": "https://localhost:8080/",
     "height": 164
    },
    "id": "UwE8yHYnfdZp",
    "outputId": "1bd5eab2-03ff-4f21-d309-d263d4859662"
   },
   "outputs": [
    {
     "ename": "TypeError",
     "evalue": "ignored",
     "output_type": "error",
     "traceback": [
      "\u001b[0;31m---------------------------------------------------------------------------\u001b[0m",
      "\u001b[0;31mTypeError\u001b[0m                                 Traceback (most recent call last)",
      "\u001b[0;32m<ipython-input-77-12e9c749c4c8>\u001b[0m in \u001b[0;36m<module>\u001b[0;34m()\u001b[0m\n\u001b[0;32m----> 1\u001b[0;31m \u001b[0mfundo_imob\u001b[0m\u001b[0;34m[\u001b[0m\u001b[0;36m0\u001b[0m\u001b[0;34m]\u001b[0m \u001b[0;34m=\u001b[0m \u001b[0;34m'BACON11'\u001b[0m\u001b[0;34m\u001b[0m\u001b[0;34m\u001b[0m\u001b[0m\n\u001b[0m",
      "\u001b[0;31mTypeError\u001b[0m: 'tuple' object does not support item assignment"
     ]
    }
   ],
   "source": [
    "fundo_imob[0] = 'BACON11'"
   ]
  },
  {
   "cell_type": "code",
   "execution_count": null,
   "metadata": {
    "colab": {
     "base_uri": "https://localhost:8080/"
    },
    "id": "qZoibnTpfdXd",
    "outputId": "c6636ee8-81cc-4fdf-808d-ad333f58f581"
   },
   "outputs": [
    {
     "data": {
      "text/plain": [
       "('ALZR11', 11, {'BLMG11': 97.3}, 15.2, ['BRCO11', 16])"
      ]
     },
     "execution_count": 79,
     "metadata": {
      "tags": []
     },
     "output_type": "execute_result"
    }
   ],
   "source": [
    "fundo_imob = tuple(['ALZR11',11,{'BLMG11':97.30},15.2,['BRCO11',16]])\n",
    "fundo_imob"
   ]
  },
  {
   "cell_type": "code",
   "execution_count": null,
   "metadata": {
    "id": "_5Pn96THfdTX"
   },
   "outputs": [],
   "source": [
    "fundo_imob[4][1] = 15"
   ]
  },
  {
   "cell_type": "code",
   "execution_count": null,
   "metadata": {
    "colab": {
     "base_uri": "https://localhost:8080/"
    },
    "id": "I67uHPawfdRj",
    "outputId": "2bc90ae9-51bd-4d5f-bafc-8467b465daff"
   },
   "outputs": [
    {
     "data": {
      "text/plain": [
       "('ALZR11', 11, {'BLMG11': 97.3}, 15.2, ['BRCO11', 15])"
      ]
     },
     "execution_count": 81,
     "metadata": {
      "tags": []
     },
     "output_type": "execute_result"
    }
   ],
   "source": [
    "fundo_imob"
   ]
  },
  {
   "cell_type": "code",
   "execution_count": null,
   "metadata": {
    "colab": {
     "base_uri": "https://localhost:8080/"
    },
    "id": "0Mtsm-gofdPY",
    "outputId": "47a33869-59b1-4785-8dfc-f817c06e939c"
   },
   "outputs": [
    {
     "data": {
      "text/plain": [
       "1"
      ]
     },
     "execution_count": 84,
     "metadata": {
      "tags": []
     },
     "output_type": "execute_result"
    }
   ],
   "source": [
    "fundo_imob.count(['BRCO11',15])"
   ]
  },
  {
   "cell_type": "code",
   "execution_count": null,
   "metadata": {
    "colab": {
     "base_uri": "https://localhost:8080/"
    },
    "id": "Hngq5r0JfdNQ",
    "outputId": "6fa80115-f0dc-4db2-fa44-ce32b695b840"
   },
   "outputs": [
    {
     "data": {
      "text/plain": [
       "3"
      ]
     },
     "execution_count": 53,
     "metadata": {
      "tags": []
     },
     "output_type": "execute_result"
    }
   ],
   "source": [
    "fundo_imob.index(15.2)"
   ]
  },
  {
   "cell_type": "code",
   "execution_count": null,
   "metadata": {
    "colab": {
     "base_uri": "https://localhost:8080/"
    },
    "id": "OCzAZVBn3LwM",
    "outputId": "0194aa5a-2872-43e9-da93-3db400e1a5c6"
   },
   "outputs": [
    {
     "name": "stdout",
     "output_type": "stream",
     "text": [
      "TAMANHO DE UMA LISTA 112 BYTES\n",
      "TAMANHO DE UMA LISTA 96 BYTES\n"
     ]
    }
   ],
   "source": [
    "import sys\n",
    "a_list = list()\n",
    "a_tuple = tuple()\n",
    "a_list = [1,2,3,4,5]\n",
    "a_tuple = (1,2,3,4,5)\n",
    "print(f'TAMANHO DE UMA LISTA {sys.getsizeof(a_list)} BYTES')\n",
    "print(f'TAMANHO DE UMA LISTA {sys.getsizeof(a_tuple)} BYTES')"
   ]
  },
  {
   "cell_type": "code",
   "execution_count": null,
   "metadata": {
    "colab": {
     "base_uri": "https://localhost:8080/"
    },
    "id": "gtIVD_rY4cFq",
    "outputId": "2c495473-ccd5-4f4c-912e-86e1c9ef63b4"
   },
   "outputs": [
    {
     "name": "stdout",
     "output_type": "stream",
     "text": [
      "Instantiation time for LIST: 0.37953782081604004\n",
      "Instantiation time for TUPLE: 0.39007043838500977\n",
      "Lookup time for LIST:  1.0335209369659424\n",
      "Lookup time for TUPLE:  0.9247586727142334\n"
     ]
    }
   ],
   "source": [
    "import sys, platform\n",
    "import time\n",
    "\n",
    "start_time = time.time()\n",
    "b_list = list(range(10000000))\n",
    "end_time = time.time()\n",
    "print(\"Instantiation time for LIST:\", end_time - start_time)\n",
    "\n",
    "start_time = time.time()\n",
    "b_tuple = tuple(range(10000000))\n",
    "end_time = time.time()\n",
    "print(\"Instantiation time for TUPLE:\", end_time - start_time)\n",
    "\n",
    "start_time = time.time()\n",
    "for item in b_list:\n",
    "  aa = b_list[20000]\n",
    "end_time = time.time()\n",
    "print(\"Lookup time for LIST: \", end_time - start_time)\n",
    "\n",
    "start_time = time.time()\n",
    "for item in b_tuple:\n",
    "  aa = b_tuple[20000]\n",
    "end_time = time.time()\n",
    "print(\"Lookup time for TUPLE: \", end_time - start_time)\n"
   ]
  },
  {
   "cell_type": "markdown",
   "metadata": {
    "id": "KSkxZiZbuXO2"
   },
   "source": [
    "## dicionários"
   ]
  },
  {
   "cell_type": "code",
   "execution_count": null,
   "metadata": {
    "colab": {
     "base_uri": "https://localhost:8080/"
    },
    "id": "ikgE3PnVELry",
    "outputId": "6043b109-43ee-425e-b213-0e3d7e36bbec"
   },
   "outputs": [
    {
     "data": {
      "text/plain": [
       "dict"
      ]
     },
     "execution_count": 85,
     "metadata": {
      "tags": []
     },
     "output_type": "execute_result"
    }
   ],
   "source": [
    "meu_dict = {}\n",
    "type(meu_dict)"
   ]
  },
  {
   "cell_type": "code",
   "execution_count": null,
   "metadata": {
    "colab": {
     "base_uri": "https://localhost:8080/"
    },
    "id": "oXFcs-AtENPQ",
    "outputId": "c30cc55c-7dfe-4d4b-ea97-78026f1f778a"
   },
   "outputs": [
    {
     "data": {
      "text/plain": [
       "{'clientes': ['Maria', 'João', 'Gilberto', 'Gabriela', 'Marcelo']}"
      ]
     },
     "execution_count": 86,
     "metadata": {
      "tags": []
     },
     "output_type": "execute_result"
    }
   ],
   "source": [
    "meu_dict['clientes'] = ['Maria','João','Gilberto','Gabriela','Marcelo']\n",
    "meu_dict"
   ]
  },
  {
   "cell_type": "code",
   "execution_count": null,
   "metadata": {
    "colab": {
     "base_uri": "https://localhost:8080/"
    },
    "id": "rzo-k2TJEaxC",
    "outputId": "988526bd-b3b6-479f-aa35-eda046dbc748"
   },
   "outputs": [
    {
     "data": {
      "text/plain": [
       "{'clientes': ['Maria', 'João', 'Gilberto', 'Gabriela', 'Marcelo'],\n",
       " 'endereços': {'gabriela': 'samambaia',\n",
       "  'gilberto': 'asa sul',\n",
       "  'joão': 'asa norte',\n",
       "  'marcelo': 'planaltina',\n",
       "  'maria': 'águas claras'}}"
      ]
     },
     "execution_count": 87,
     "metadata": {
      "tags": []
     },
     "output_type": "execute_result"
    }
   ],
   "source": [
    "meu_dict['endereços'] = {\n",
    "    'maria':'águas claras',\n",
    "    'joão':'asa norte',\n",
    "    'gilberto':'asa sul',\n",
    "    'gabriela':'samambaia',\n",
    "    'marcelo':'planaltina'\n",
    "}\n",
    "\n",
    "meu_dict"
   ]
  },
  {
   "cell_type": "code",
   "execution_count": null,
   "metadata": {
    "id": "9GbtzDOQswXy"
   },
   "outputs": [],
   "source": [
    "meu_dict = {\n",
    "    'clientes':['Maria','João','Gilberto','Gabriela','Marcelo'],\n",
    "    'endereços':{\n",
    "        'maria':'águas claras',\n",
    "        'joão':'asa norte',\n",
    "        'gilberto':'asa sul',\n",
    "        'gabriela':'samambaia',\n",
    "        'marcelo':'planaltina'\n",
    "    }\n",
    "}"
   ]
  },
  {
   "cell_type": "code",
   "execution_count": null,
   "metadata": {
    "colab": {
     "base_uri": "https://localhost:8080/"
    },
    "id": "ZQG_yhqvKcZu",
    "outputId": "d20421f4-f2e1-405f-ebca-0b76a371dfcc"
   },
   "outputs": [
    {
     "data": {
      "text/plain": [
       "{'clientes': ['Maria', 'João', 'Gilberto', 'Gabriela', 'Marcelo'],\n",
       " 'endereços': {'gabriela': 'samambaia',\n",
       "  'gilberto': 'asa sul',\n",
       "  'joão': 'asa norte',\n",
       "  'marcelo': 'planaltina',\n",
       "  'maria': 'águas claras'},\n",
       " 'valor_total_faturado': 50000}"
      ]
     },
     "execution_count": 89,
     "metadata": {
      "tags": []
     },
     "output_type": "execute_result"
    }
   ],
   "source": [
    "meu_dict['valor_total_faturado'] = 50000\n",
    "meu_dict"
   ]
  },
  {
   "cell_type": "code",
   "execution_count": null,
   "metadata": {
    "colab": {
     "base_uri": "https://localhost:8080/"
    },
    "id": "HcZGk6m-KcXd",
    "outputId": "e02be12a-5ced-4cdc-9793-9c3d86ed5bd9"
   },
   "outputs": [
    {
     "data": {
      "text/plain": [
       "{'clientes': ['Maria', 'João', 'Gilberto', 'Gabriela', 'Marcelo'],\n",
       " 'endereços': {'gabriela': 'samambaia',\n",
       "  'gilberto': 'asa sul',\n",
       "  'joão': 'asa norte',\n",
       "  'marcelo': 'planaltina',\n",
       "  'maria': 'águas claras'},\n",
       " 'valor_total_faturado': 122658}"
      ]
     },
     "execution_count": 90,
     "metadata": {
      "tags": []
     },
     "output_type": "execute_result"
    }
   ],
   "source": [
    "meu_dict['valor_total_faturado'] = 122658\n",
    "meu_dict"
   ]
  },
  {
   "cell_type": "code",
   "execution_count": null,
   "metadata": {
    "colab": {
     "base_uri": "https://localhost:8080/"
    },
    "id": "erE8Lt-cKn6l",
    "outputId": "d02e2d2e-016b-40cf-af4e-e802fd1bca86"
   },
   "outputs": [
    {
     "data": {
      "text/plain": [
       "['Maria', 'João', 'Gilberto', 'Gabriela', 'Marcelo']"
      ]
     },
     "execution_count": 91,
     "metadata": {
      "tags": []
     },
     "output_type": "execute_result"
    }
   ],
   "source": [
    "meu_dict['clientes']"
   ]
  },
  {
   "cell_type": "code",
   "execution_count": null,
   "metadata": {
    "colab": {
     "base_uri": "https://localhost:8080/",
     "height": 35
    },
    "id": "eOUDsCvBJTGQ",
    "outputId": "5dd10321-b7f8-4e62-fc4c-befb59a825b6"
   },
   "outputs": [
    {
     "data": {
      "application/vnd.google.colaboratory.intrinsic+json": {
       "type": "string"
      },
      "text/plain": [
       "'Maria'"
      ]
     },
     "execution_count": 92,
     "metadata": {
      "tags": []
     },
     "output_type": "execute_result"
    }
   ],
   "source": [
    "meu_dict['clientes'][0]"
   ]
  },
  {
   "cell_type": "code",
   "execution_count": null,
   "metadata": {
    "colab": {
     "base_uri": "https://localhost:8080/"
    },
    "id": "Owfl27-jJTD7",
    "outputId": "6206aa60-1932-4736-cd5a-7a2c36fa190d"
   },
   "outputs": [
    {
     "data": {
      "text/plain": [
       "{'clientes': ['Maria', 'João', 'Gilberto', 'Gabriela', 'Marcelo', 'Nasser'],\n",
       " 'endereços': {'gabriela': 'samambaia',\n",
       "  'gilberto': 'asa sul',\n",
       "  'joão': 'asa norte',\n",
       "  'marcelo': 'planaltina',\n",
       "  'maria': 'águas claras'},\n",
       " 'valor_total_faturado': 122658}"
      ]
     },
     "execution_count": 93,
     "metadata": {
      "tags": []
     },
     "output_type": "execute_result"
    }
   ],
   "source": [
    "meu_dict['clientes'].append('Nasser')\n",
    "meu_dict"
   ]
  },
  {
   "cell_type": "code",
   "execution_count": null,
   "metadata": {
    "id": "fQ3Jggrlq-lm"
   },
   "outputs": [],
   "source": [
    "meu_dict['endereços']['nassser'] = 0"
   ]
  },
  {
   "cell_type": "code",
   "execution_count": null,
   "metadata": {
    "id": "yiqPz6D4q-jq"
   },
   "outputs": [],
   "source": [
    "del meu_dict['endereços']['nassser']"
   ]
  },
  {
   "cell_type": "code",
   "execution_count": null,
   "metadata": {
    "colab": {
     "base_uri": "https://localhost:8080/"
    },
    "id": "Y-UEmdB4q-hm",
    "outputId": "7dd969dd-c900-42d7-b9e5-5e84b94a243d"
   },
   "outputs": [
    {
     "data": {
      "text/plain": [
       "{'clientes': ['Maria', 'João', 'Gilberto', 'Gabriela', 'Marcelo', 'Nasser'],\n",
       " 'endereços': {'gabriela': 'samambaia',\n",
       "  'gilberto': 'asa sul',\n",
       "  'joão': 'asa norte',\n",
       "  'marcelo': 'planaltina',\n",
       "  'maria': 'águas claras',\n",
       "  'nasser': 0},\n",
       " 'valor_total_faturado': 122658}"
      ]
     },
     "execution_count": 102,
     "metadata": {
      "tags": []
     },
     "output_type": "execute_result"
    }
   ],
   "source": [
    "meu_dict"
   ]
  },
  {
   "cell_type": "code",
   "execution_count": null,
   "metadata": {
    "colab": {
     "base_uri": "https://localhost:8080/"
    },
    "id": "scUaMC3LOSfU",
    "outputId": "c0ec6277-f3a4-4150-ae18-662ea413b822"
   },
   "outputs": [
    {
     "data": {
      "text/plain": [
       "{'clientes': ['Maria', 'João', 'Gilberto', 'Gabriela', 'Marcelo', 'Nasser'],\n",
       " 'endereços': {'gabriela': 'samambaia',\n",
       "  'gilberto': 'asa sul',\n",
       "  'joão': 'asa norte',\n",
       "  'marcelo': 'planaltina',\n",
       "  'maria': 'águas claras',\n",
       "  'nasser': 'águas claras'},\n",
       " 'valor_total_faturado': 122658}"
      ]
     },
     "execution_count": 103,
     "metadata": {
      "tags": []
     },
     "output_type": "execute_result"
    }
   ],
   "source": [
    "meu_dict['endereços']['nasser'] = 'águas claras'\n",
    "meu_dict"
   ]
  },
  {
   "cell_type": "code",
   "execution_count": null,
   "metadata": {
    "colab": {
     "base_uri": "https://localhost:8080/"
    },
    "id": "Uy-rYydaOSdQ",
    "outputId": "0bbf4b99-1acf-40bc-af1a-d25ceab86a6e"
   },
   "outputs": [
    {
     "data": {
      "text/plain": [
       "dict_keys(['clientes', 'endereços', 'valor_total_faturado'])"
      ]
     },
     "execution_count": 104,
     "metadata": {
      "tags": []
     },
     "output_type": "execute_result"
    }
   ],
   "source": [
    "meu_dict.keys()"
   ]
  },
  {
   "cell_type": "code",
   "execution_count": null,
   "metadata": {
    "colab": {
     "base_uri": "https://localhost:8080/"
    },
    "id": "5uhJePg2sGl_",
    "outputId": "280f8c81-fee5-4d6c-d305-c808cc620ef4"
   },
   "outputs": [
    {
     "data": {
      "text/plain": [
       "dict_values([['Maria', 'João', 'Gilberto', 'Gabriela', 'Marcelo', 'Nasser'], {'maria': 'águas claras', 'joão': 'asa norte', 'gilberto': 'asa sul', 'gabriela': 'samambaia', 'marcelo': 'planaltina', 'nasser': 'águas claras'}, 122658])"
      ]
     },
     "execution_count": 105,
     "metadata": {
      "tags": []
     },
     "output_type": "execute_result"
    }
   ],
   "source": [
    "meu_dict.values()"
   ]
  },
  {
   "cell_type": "code",
   "execution_count": null,
   "metadata": {
    "id": "qdexyG0UsGcr"
   },
   "outputs": [],
   "source": [
    "valor_total_faturado = meu_dict.pop('valor_total_faturado')"
   ]
  },
  {
   "cell_type": "code",
   "execution_count": null,
   "metadata": {
    "colab": {
     "base_uri": "https://localhost:8080/"
    },
    "id": "s2I7BMzksGak",
    "outputId": "809d830c-0242-41a1-fe8f-c7068e0bb684"
   },
   "outputs": [
    {
     "data": {
      "text/plain": [
       "{'clientes': ['Maria', 'João', 'Gilberto', 'Gabriela', 'Marcelo', 'Nasser'],\n",
       " 'endereços': {'gabriela': 'samambaia',\n",
       "  'gilberto': 'asa sul',\n",
       "  'joão': 'asa norte',\n",
       "  'marcelo': 'planaltina',\n",
       "  'maria': 'águas claras',\n",
       "  'nasser': 'águas claras'}}"
      ]
     },
     "execution_count": 107,
     "metadata": {
      "tags": []
     },
     "output_type": "execute_result"
    }
   ],
   "source": [
    "meu_dict"
   ]
  },
  {
   "cell_type": "code",
   "execution_count": null,
   "metadata": {
    "colab": {
     "base_uri": "https://localhost:8080/"
    },
    "id": "xK55RLAWsGYp",
    "outputId": "71d00069-8096-4344-9f43-543230eb845d"
   },
   "outputs": [
    {
     "data": {
      "text/plain": [
       "122658"
      ]
     },
     "execution_count": 108,
     "metadata": {
      "tags": []
     },
     "output_type": "execute_result"
    }
   ],
   "source": [
    "valor_total_faturado"
   ]
  },
  {
   "cell_type": "code",
   "execution_count": null,
   "metadata": {
    "colab": {
     "base_uri": "https://localhost:8080/"
    },
    "id": "BruTE4BDsGWh",
    "outputId": "a7bcc6c8-5cd4-419e-e7a6-af6c0c82cbde"
   },
   "outputs": [
    {
     "data": {
      "text/plain": [
       "dict_items([('clientes', ['Maria', 'João', 'Gilberto', 'Gabriela', 'Marcelo', 'Nasser']), ('endereços', {'maria': 'águas claras', 'joão': 'asa norte', 'gilberto': 'asa sul', 'gabriela': 'samambaia', 'marcelo': 'planaltina', 'nasser': 'águas claras'})])"
      ]
     },
     "execution_count": 109,
     "metadata": {
      "tags": []
     },
     "output_type": "execute_result"
    }
   ],
   "source": [
    "meu_dict.items()"
   ]
  },
  {
   "cell_type": "code",
   "execution_count": null,
   "metadata": {
    "colab": {
     "base_uri": "https://localhost:8080/"
    },
    "id": "NJ906C0qs7Tf",
    "outputId": "7cfc2652-1487-468b-ec72-f2fb2117b33d"
   },
   "outputs": [
    {
     "data": {
      "text/plain": [
       "{'clientes': ['Maria', 'João', 'Gilberto', 'Gabriela', 'Marcelo', 'Nasser'],\n",
       " 'endereços': {'gabriela': 'samambaia',\n",
       "  'gilberto': 'asa sul',\n",
       "  'joão': 'asa norte',\n",
       "  'marcelo': 'planaltina',\n",
       "  'maria': 'águas claras',\n",
       "  'nasser': 'águas claras'}}"
      ]
     },
     "execution_count": 110,
     "metadata": {
      "tags": []
     },
     "output_type": "execute_result"
    }
   ],
   "source": [
    "meu_dict"
   ]
  },
  {
   "cell_type": "code",
   "execution_count": null,
   "metadata": {
    "id": "c1YK_I1fskSI"
   },
   "outputs": [],
   "source": [
    "meu_dict.get('valor_total_de_venda')"
   ]
  },
  {
   "cell_type": "code",
   "execution_count": null,
   "metadata": {
    "colab": {
     "base_uri": "https://localhost:8080/",
     "height": 164
    },
    "id": "71xVP02_skP_",
    "outputId": "07feb2da-5b5e-4682-d1d3-a26662b786a9"
   },
   "outputs": [
    {
     "ename": "KeyError",
     "evalue": "ignored",
     "output_type": "error",
     "traceback": [
      "\u001b[0;31m---------------------------------------------------------------------------\u001b[0m",
      "\u001b[0;31mKeyError\u001b[0m                                  Traceback (most recent call last)",
      "\u001b[0;32m<ipython-input-112-18724fd015c0>\u001b[0m in \u001b[0;36m<module>\u001b[0;34m()\u001b[0m\n\u001b[0;32m----> 1\u001b[0;31m \u001b[0mmeu_dict\u001b[0m\u001b[0;34m[\u001b[0m\u001b[0;34m'valor_total_de_venda'\u001b[0m\u001b[0;34m]\u001b[0m\u001b[0;34m\u001b[0m\u001b[0;34m\u001b[0m\u001b[0m\n\u001b[0m",
      "\u001b[0;31mKeyError\u001b[0m: 'valor_total_de_venda'"
     ]
    }
   ],
   "source": [
    "meu_dict['valor_total_de_venda']"
   ]
  },
  {
   "cell_type": "code",
   "execution_count": null,
   "metadata": {
    "colab": {
     "base_uri": "https://localhost:8080/"
    },
    "id": "JtQs-CX2sGUD",
    "outputId": "5b57b632-48ad-4f7c-b2de-1247b4714c2b"
   },
   "outputs": [
    {
     "data": {
      "text/plain": [
       "{}"
      ]
     },
     "execution_count": 114,
     "metadata": {
      "tags": []
     },
     "output_type": "execute_result"
    }
   ],
   "source": [
    "meu_dict.clear()\n",
    "meu_dict"
   ]
  },
  {
   "cell_type": "markdown",
   "metadata": {
    "id": "LbHRnhBCsUan"
   },
   "source": [
    "# Operadores Lógicos e Estruturas Condicionais"
   ]
  },
  {
   "cell_type": "code",
   "execution_count": null,
   "metadata": {
    "id": "R-tM9tCAsXg6"
   },
   "outputs": [],
   "source": [
    "a = 10\n",
    "b = 20"
   ]
  },
  {
   "cell_type": "code",
   "execution_count": null,
   "metadata": {
    "colab": {
     "base_uri": "https://localhost:8080/"
    },
    "id": "Md78_mlYsXe1",
    "outputId": "b2400703-958b-48f7-a4a8-e637b671e395"
   },
   "outputs": [
    {
     "data": {
      "text/plain": [
       "False"
      ]
     },
     "execution_count": 4,
     "metadata": {
      "tags": []
     },
     "output_type": "execute_result"
    }
   ],
   "source": [
    "a > 10"
   ]
  },
  {
   "cell_type": "code",
   "execution_count": null,
   "metadata": {
    "colab": {
     "base_uri": "https://localhost:8080/"
    },
    "id": "ApS0XVdIsXc_",
    "outputId": "1658c375-bffd-4bc8-8f8b-116a60b1f39e"
   },
   "outputs": [
    {
     "data": {
      "text/plain": [
       "True"
      ]
     },
     "execution_count": 5,
     "metadata": {
      "tags": []
     },
     "output_type": "execute_result"
    }
   ],
   "source": [
    "a == 10"
   ]
  },
  {
   "cell_type": "code",
   "execution_count": null,
   "metadata": {
    "colab": {
     "base_uri": "https://localhost:8080/"
    },
    "id": "8DW9hZoVyP6w",
    "outputId": "2441afd4-c3c6-424c-e1ea-58c3a51581e4"
   },
   "outputs": [
    {
     "data": {
      "text/plain": [
       "False"
      ]
     },
     "execution_count": 6,
     "metadata": {
      "tags": []
     },
     "output_type": "execute_result"
    }
   ],
   "source": [
    "a > b"
   ]
  },
  {
   "cell_type": "code",
   "execution_count": null,
   "metadata": {
    "colab": {
     "base_uri": "https://localhost:8080/"
    },
    "id": "Ym5tCBswyP4l",
    "outputId": "6ebd86fd-0ab0-4919-875c-9f105ad522dd"
   },
   "outputs": [
    {
     "data": {
      "text/plain": [
       "False"
      ]
     },
     "execution_count": 7,
     "metadata": {
      "tags": []
     },
     "output_type": "execute_result"
    }
   ],
   "source": [
    "a == b"
   ]
  },
  {
   "cell_type": "code",
   "execution_count": null,
   "metadata": {
    "id": "uJeKcZTwVcam"
   },
   "outputs": [],
   "source": [
    "x = 6\n",
    "b = 'nasser'"
   ]
  },
  {
   "cell_type": "code",
   "execution_count": null,
   "metadata": {
    "colab": {
     "base_uri": "https://localhost:8080/",
     "height": 164
    },
    "id": "YkYh9qXeVfh9",
    "outputId": "27908a35-bda7-48de-ad61-3c5cea667788"
   },
   "outputs": [
    {
     "ename": "TypeError",
     "evalue": "ignored",
     "output_type": "error",
     "traceback": [
      "\u001b[0;31m---------------------------------------------------------------------------\u001b[0m",
      "\u001b[0;31mTypeError\u001b[0m                                 Traceback (most recent call last)",
      "\u001b[0;32m<ipython-input-11-927e5f8c23c7>\u001b[0m in \u001b[0;36m<module>\u001b[0;34m()\u001b[0m\n\u001b[0;32m----> 1\u001b[0;31m \u001b[0mx\u001b[0m \u001b[0;34m<\u001b[0m \u001b[0mb\u001b[0m\u001b[0;34m\u001b[0m\u001b[0;34m\u001b[0m\u001b[0m\n\u001b[0m",
      "\u001b[0;31mTypeError\u001b[0m: '<' not supported between instances of 'int' and 'str'"
     ]
    }
   ],
   "source": [
    "x < b"
   ]
  },
  {
   "cell_type": "code",
   "execution_count": null,
   "metadata": {
    "colab": {
     "base_uri": "https://localhost:8080/"
    },
    "id": "KMAeGCC3yP2Y",
    "outputId": "ffc9bd22-ee8a-41ac-b4ef-f8fb73dd0f86"
   },
   "outputs": [
    {
     "data": {
      "text/plain": [
       "False"
      ]
     },
     "execution_count": 12,
     "metadata": {
      "tags": []
     },
     "output_type": "execute_result"
    }
   ],
   "source": [
    "a + 10 == b"
   ]
  },
  {
   "cell_type": "code",
   "execution_count": null,
   "metadata": {
    "colab": {
     "base_uri": "https://localhost:8080/"
    },
    "id": "fBT95uG6V2eH",
    "outputId": "42dd3a07-347a-4e5f-aa3a-854d09358ef4"
   },
   "outputs": [
    {
     "data": {
      "text/plain": [
       "True"
      ]
     },
     "execution_count": 16,
     "metadata": {
      "tags": []
     },
     "output_type": "execute_result"
    }
   ],
   "source": [
    "(10 + x > 15) or (x > 10)"
   ]
  },
  {
   "cell_type": "code",
   "execution_count": null,
   "metadata": {
    "colab": {
     "base_uri": "https://localhost:8080/"
    },
    "id": "4qCbpQGEV2b1",
    "outputId": "e1759f44-67df-4887-b0d8-9436c4882b03"
   },
   "outputs": [
    {
     "data": {
      "text/plain": [
       "True"
      ]
     },
     "execution_count": 20,
     "metadata": {
      "tags": []
     },
     "output_type": "execute_result"
    }
   ],
   "source": [
    "(10 + x > 15) and not(x > 10)"
   ]
  },
  {
   "cell_type": "code",
   "execution_count": null,
   "metadata": {
    "colab": {
     "base_uri": "https://localhost:8080/"
    },
    "id": "hrrzcQ7tyP0I",
    "outputId": "9a350682-7412-49d5-a9e4-59326740bfc4"
   },
   "outputs": [
    {
     "name": "stdout",
     "output_type": "stream",
     "text": [
      "Comprar relógio\n"
     ]
    }
   ],
   "source": [
    "pagamento = 1001\n",
    "\n",
    "if pagamento > 1000 : \n",
    "  print('Comprar relógio')"
   ]
  },
  {
   "cell_type": "code",
   "execution_count": null,
   "metadata": {
    "id": "wDozTjwguraZ"
   },
   "outputs": [],
   "source": [
    "if pagamento < 1000:\n",
    "  print('N comprar o relogio')"
   ]
  },
  {
   "cell_type": "code",
   "execution_count": null,
   "metadata": {
    "colab": {
     "base_uri": "https://localhost:8080/"
    },
    "id": "xSA4RSFgsXaw",
    "outputId": "7aa9a4d3-0e5a-4ea3-fa0f-9283d0ec2556"
   },
   "outputs": [
    {
     "name": "stdout",
     "output_type": "stream",
     "text": [
      "compre mês que vem.\n"
     ]
    }
   ],
   "source": [
    "pagamento = 800\n",
    "\n",
    "if pagamento > 1000 : \n",
    "  print('Comprar relógio')\n",
    "else:\n",
    "  print('compre mês que vem.')"
   ]
  },
  {
   "cell_type": "code",
   "execution_count": null,
   "metadata": {
    "colab": {
     "base_uri": "https://localhost:8080/"
    },
    "id": "Ykmn4ZF1i37D",
    "outputId": "f4e8c603-033a-4894-8a96-ba2c3d6a921b"
   },
   "outputs": [
    {
     "name": "stdout",
     "output_type": "stream",
     "text": [
      "Vamos jogar e aquecer o dia!\n"
     ]
    }
   ],
   "source": [
    "clima = 'chuvoso'\n",
    "vento = 1.99\n",
    "chance_de_chuva = 50\n",
    "\n",
    "if clima == 'ensolarado':\n",
    "  if vento >= 2.0:\n",
    "    print('Nao jogar, muito vento!')\n",
    "  else:\n",
    "    print('Ótimo dia para um jogo!')\n",
    "else:\n",
    "  if chance_de_chuva >= 80:\n",
    "    print('Não jogar, pode chover!')\n",
    "  else:\n",
    "    print('Vamos jogar e aquecer o dia!')"
   ]
  },
  {
   "cell_type": "code",
   "execution_count": null,
   "metadata": {
    "colab": {
     "base_uri": "https://localhost:8080/"
    },
    "id": "nQmpKsBmnSV4",
    "outputId": "24144d53-1f09-4fe2-9b1e-ff707944b304"
   },
   "outputs": [
    {
     "name": "stdout",
     "output_type": "stream",
     "text": [
      "Largo\n",
      "600\n"
     ]
    }
   ],
   "source": [
    "bpm = 60\n",
    "\n",
    "if bpm >= 40 and bpm <= 60:\n",
    "  print('Largo')\n",
    "elif bpm > 60 and bpm <= 80:\n",
    "  print('Adagio')\n",
    "elif bpm >= 140 and bpm <= 200:\n",
    "  print('Presto')\n",
    "else:\n",
    "  print('Troppo Lento')"
   ]
  },
  {
   "cell_type": "markdown",
   "metadata": {
    "id": "cA1vnrSguKsP"
   },
   "source": [
    "# Estrutura de repetição"
   ]
  },
  {
   "cell_type": "markdown",
   "metadata": {
    "id": "hnGeLeHEXRf8"
   },
   "source": [
    "### for"
   ]
  },
  {
   "cell_type": "code",
   "execution_count": null,
   "metadata": {
    "colab": {
     "base_uri": "https://localhost:8080/"
    },
    "id": "P5RCNW6NXT4a",
    "outputId": "423f1b88-a9c9-41c7-b63c-4b483296809f"
   },
   "outputs": [
    {
     "name": "stdout",
     "output_type": "stream",
     "text": [
      "1\n",
      "2\n",
      "3\n",
      "4\n",
      "5\n",
      "6\n",
      "7\n",
      "8\n",
      "9\n",
      "10\n"
     ]
    }
   ],
   "source": [
    "ls = [1,2,3,4,5,6,7,8,9,10]\n",
    "\n",
    "for valor in ls:\n",
    "  print(valor)"
   ]
  },
  {
   "cell_type": "code",
   "execution_count": null,
   "metadata": {
    "colab": {
     "base_uri": "https://localhost:8080/"
    },
    "id": "skz_d4CY1Up2",
    "outputId": "9ccb1fdd-2e80-4ef6-910d-7084f772afc5"
   },
   "outputs": [
    {
     "name": "stdout",
     "output_type": "stream",
     "text": [
      "1\n",
      "8\n",
      "27\n",
      "64\n",
      "125\n",
      "216\n",
      "343\n",
      "512\n",
      "729\n",
      "1000\n"
     ]
    }
   ],
   "source": [
    "for valor in ls:\n",
    "  print(valor**3)"
   ]
  },
  {
   "cell_type": "code",
   "execution_count": null,
   "metadata": {
    "colab": {
     "base_uri": "https://localhost:8080/"
    },
    "id": "uX7Jy8F_XTxw",
    "outputId": "2467c17a-4fc1-4c5a-8784-dab0cf1c3dc7"
   },
   "outputs": [
    {
     "name": "stdout",
     "output_type": "stream",
     "text": [
      "1\n",
      "Valor Múltiplo de 2\n",
      "3\n",
      "Valor Múltiplo de 2\n",
      "5\n",
      "Valor Múltiplo de 2\n",
      "7\n",
      "Valor Múltiplo de 2\n",
      "9\n",
      "Valor Múltiplo de 2\n"
     ]
    }
   ],
   "source": [
    "## for com if\n",
    "\n",
    "for valor in ls:\n",
    "  if valor % 2 == 0:\n",
    "    print('Valor Múltiplo de 2')\n",
    "  else:\n",
    "    print(valor)"
   ]
  },
  {
   "cell_type": "code",
   "execution_count": null,
   "metadata": {
    "colab": {
     "base_uri": "https://localhost:8080/"
    },
    "id": "jpBAjMnneVmW",
    "outputId": "273827e8-d865-46e0-f0c6-79d7e353bdf1"
   },
   "outputs": [
    {
     "name": "stdout",
     "output_type": "stream",
     "text": [
      "O valor 2 é válido!\n",
      "SOMA antes 0\n",
      "SOMA depois 2\n",
      "----------\n",
      "O valor 4 é válido!\n",
      "SOMA antes 2\n",
      "SOMA depois 6\n",
      "----------\n",
      "O valor 6 é válido!\n",
      "SOMA antes 6\n",
      "SOMA depois 12\n",
      "----------\n",
      "O valor 8 é válido!\n",
      "SOMA antes 12\n",
      "SOMA depois 20\n",
      "----------\n",
      "O valor 10 é válido!\n",
      "SOMA antes 20\n",
      "SOMA depois 30\n",
      "----------\n",
      "O valor 12 é válido!\n",
      "SOMA antes 30\n",
      "SOMA depois 42\n",
      "----------\n",
      "O valor 14 é válido!\n",
      "SOMA antes 42\n",
      "SOMA depois 56\n",
      "----------\n",
      "O valor 16 é válido!\n",
      "SOMA antes 56\n",
      "SOMA depois 72\n",
      "----------\n",
      "O valor 18 é válido!\n",
      "SOMA antes 72\n",
      "SOMA depois 90\n",
      "----------\n",
      "O valor 20 é válido!\n",
      "SOMA antes 90\n",
      "SOMA depois 110\n",
      "----------\n",
      "O valor 22 é válido!\n",
      "SOMA antes 110\n",
      "SOMA depois 132\n",
      "----------\n",
      "O valor 24 é válido!\n",
      "SOMA antes 132\n",
      "SOMA depois 156\n",
      "----------\n",
      "O valor 26 é válido!\n",
      "SOMA antes 156\n",
      "SOMA depois 182\n",
      "----------\n",
      "O valor 28 é válido!\n",
      "SOMA antes 182\n",
      "SOMA depois 210\n",
      "----------\n",
      "O valor 30 é válido!\n",
      "SOMA antes 210\n",
      "SOMA depois 240\n",
      "----------\n",
      "O valor 32 é válido!\n",
      "SOMA antes 240\n",
      "SOMA depois 272\n",
      "----------\n",
      "O valor 34 é válido!\n",
      "SOMA antes 272\n",
      "SOMA depois 306\n",
      "----------\n"
     ]
    }
   ],
   "source": [
    "## for com break\n",
    "\n",
    "new_ls = list(range(1,500))\n",
    "\n",
    "soma = 0\n",
    "\n",
    "for valor in new_ls:\n",
    "  \n",
    "  if soma > 300:\n",
    "    break\n",
    "\n",
    "  if valor % 2 == 0:\n",
    "    print(f\"O valor {valor} é válido!\")\n",
    "    print(f\"SOMA antes\", soma)\n",
    "    soma += valor\n",
    "    print(f\"SOMA depois {soma}\\n----------\")"
   ]
  },
  {
   "cell_type": "code",
   "execution_count": null,
   "metadata": {
    "colab": {
     "base_uri": "https://localhost:8080/",
     "height": 35
    },
    "id": "ZX9mtsqF3WIP",
    "outputId": "c08c1811-cbc3-4ea1-b1e4-4f34039d30da"
   },
   "outputs": [
    {
     "data": {
      "application/vnd.google.colaboratory.intrinsic+json": {
       "type": "string"
      },
      "text/plain": [
       "'Bom dia, ótima semana a todos ...'"
      ]
     },
     "execution_count": 138,
     "metadata": {
      "tags": []
     },
     "output_type": "execute_result"
    }
   ],
   "source": [
    "tweet"
   ]
  },
  {
   "cell_type": "code",
   "execution_count": null,
   "metadata": {
    "colab": {
     "base_uri": "https://localhost:8080/"
    },
    "id": "cUT07H5D3WFe",
    "outputId": "8d6b4ce6-91bc-4927-e10e-6eff48f80d75"
   },
   "outputs": [
    {
     "name": "stdout",
     "output_type": "stream",
     "text": [
      "Bom\n",
      "dia,\n",
      "ótima\n",
      "semana\n",
      "a\n",
      "todos\n",
      "...\n"
     ]
    }
   ],
   "source": [
    "for x in tweet.split():\n",
    "  print(x)"
   ]
  },
  {
   "cell_type": "code",
   "execution_count": null,
   "metadata": {
    "colab": {
     "base_uri": "https://localhost:8080/"
    },
    "id": "vYtEqe5N3WCh",
    "outputId": "16c97516-8fd3-4e7b-de8b-e2817745fe9b"
   },
   "outputs": [
    {
     "name": "stdout",
     "output_type": "stream",
     "text": [
      "1 1\n",
      "1 2\n",
      "1 3\n",
      "2 1\n",
      "2 2\n",
      "2 3\n",
      "3 1\n",
      "3 2\n",
      "3 3\n"
     ]
    }
   ],
   "source": [
    "ls = [1,2,3]\n",
    "\n",
    "for i in ls:\n",
    "  for j in ls:\n",
    "    print(i,j)"
   ]
  },
  {
   "cell_type": "code",
   "execution_count": null,
   "metadata": {
    "colab": {
     "base_uri": "https://localhost:8080/"
    },
    "id": "BV9Tl34QXTvE",
    "outputId": "97c5f08a-b139-4f6d-8e9c-43827ca99319"
   },
   "outputs": [
    {
     "name": "stdout",
     "output_type": "stream",
     "text": [
      "Brasília\n",
      "Bananal\n",
      "São Paulo\n",
      "São Luís\n",
      "Acabaram as cidades\n"
     ]
    }
   ],
   "source": [
    "## for com else\n",
    "cidades = [\"Brasília\", \"Bananal\", \"São Paulo\", \"São Luís\"]\n",
    "\n",
    "for cidade in cidades:\n",
    "  print(cidade)\n",
    "\n",
    "else:\n",
    "  print(\"Acabaram as cidades\")"
   ]
  },
  {
   "cell_type": "code",
   "execution_count": null,
   "metadata": {
    "id": "d7iqlLIaKvHh"
   },
   "outputs": [],
   "source": [
    "## compreensão de lista\n",
    "\n",
    "ls = [1,2,3,4,5]\n",
    "new_ls = []\n",
    "\n",
    "for valor in ls:\n",
    "  new_ls.append(valor**3)"
   ]
  },
  {
   "cell_type": "code",
   "execution_count": null,
   "metadata": {
    "colab": {
     "base_uri": "https://localhost:8080/"
    },
    "id": "Lv0SvfnT5Kyh",
    "outputId": "7c8b437e-1038-459e-ebd7-e3d6a2071865"
   },
   "outputs": [
    {
     "data": {
      "text/plain": [
       "[1, 8, 27, 64, 125]"
      ]
     },
     "execution_count": 144,
     "metadata": {
      "tags": []
     },
     "output_type": "execute_result"
    }
   ],
   "source": [
    "new_ls"
   ]
  },
  {
   "cell_type": "code",
   "execution_count": null,
   "metadata": {
    "colab": {
     "base_uri": "https://localhost:8080/"
    },
    "id": "jnrEVR5FKvFF",
    "outputId": "3e434087-fd4d-4460-d09f-a9f3fc7fdfc9"
   },
   "outputs": [
    {
     "data": {
      "text/plain": [
       "[1, 8, 27, 64, 125]"
      ]
     },
     "execution_count": 145,
     "metadata": {
      "tags": []
     },
     "output_type": "execute_result"
    }
   ],
   "source": [
    "## compreensão de lista\n",
    "\n",
    "lista_cubo = [valor**3 for valor in ls]\n",
    "lista_cubo"
   ]
  },
  {
   "cell_type": "code",
   "execution_count": null,
   "metadata": {
    "colab": {
     "base_uri": "https://localhost:8080/"
    },
    "id": "JL3WCcRJ5j8l",
    "outputId": "3b7dfa2f-ecf4-4cdb-aa79-e65c7cce4a8a"
   },
   "outputs": [
    {
     "data": {
      "text/plain": [
       "[8, 64]"
      ]
     },
     "execution_count": 147,
     "metadata": {
      "tags": []
     },
     "output_type": "execute_result"
    }
   ],
   "source": [
    "ls = [1,2,3,4,5]\n",
    "new_ls = []\n",
    "\n",
    "for valor in ls:\n",
    "  if valor % 2 == 0:\n",
    "    new_ls.append(valor**3)\n",
    "\n",
    "new_ls"
   ]
  },
  {
   "cell_type": "code",
   "execution_count": null,
   "metadata": {
    "colab": {
     "base_uri": "https://localhost:8080/"
    },
    "id": "TV-toqAQKu5g",
    "outputId": "e1f151f7-7f07-4d51-ce96-f343fc413559"
   },
   "outputs": [
    {
     "data": {
      "text/plain": [
       "[8, 64]"
      ]
     },
     "execution_count": 148,
     "metadata": {
      "tags": []
     },
     "output_type": "execute_result"
    }
   ],
   "source": [
    "lista_cubo_condicao = [valor ** 3 for valor in ls if valor%2==0]\n",
    "lista_cubo_condicao"
   ]
  },
  {
   "cell_type": "markdown",
   "metadata": {
    "id": "Jb6xtsu3XN4x"
   },
   "source": [
    "### while"
   ]
  },
  {
   "cell_type": "code",
   "execution_count": null,
   "metadata": {
    "colab": {
     "base_uri": "https://localhost:8080/"
    },
    "id": "5sUaVXtRuOJO",
    "outputId": "1bcd99e9-0eaa-47b8-a7b0-65191225e672"
   },
   "outputs": [
    {
     "name": "stdout",
     "output_type": "stream",
     "text": [
      "O valor de 'i' é 10.\n",
      "O valor de 'i' é 20.\n",
      "O valor de 'i' é 30.\n",
      "O valor de 'i' é 40.\n",
      "O valor de 'i' é 50.\n",
      "O valor de 'i' é 60.\n",
      "O valor de 'i' é 70.\n",
      "O valor de 'i' é 80.\n",
      "O valor de 'i' é 90.\n",
      "O valor de 'i' é 100.\n"
     ]
    }
   ],
   "source": [
    "i = 10\n",
    "\n",
    "while i <= 100:\n",
    "  print(f\"O valor de 'i' é {i}.\")\n",
    "  i += 10"
   ]
  },
  {
   "cell_type": "code",
   "execution_count": null,
   "metadata": {
    "colab": {
     "base_uri": "https://localhost:8080/"
    },
    "id": "JC2zJZHquOHO",
    "outputId": "180ded17-f375-49b3-e769-4836cae60539"
   },
   "outputs": [
    {
     "name": "stdout",
     "output_type": "stream",
     "text": [
      "O valor de 'i' é 10.\n",
      "O valor de 'i' é 20.\n",
      "O valor de 'i' é 30.\n",
      "O valor de 'i' é 40.\n",
      "O valor de 'i' é 50.\n",
      "O valor de 'i' é 60.\n",
      "Cheguei a 60, parando o loop.\n"
     ]
    }
   ],
   "source": [
    "i = 10\n",
    "\n",
    "while i <= 100:\n",
    "  print(f\"O valor de 'i' é {i}.\")\n",
    "  \n",
    "  if i == 60:\n",
    "    print('Cheguei a 60, parando o loop.')\n",
    "    break\n",
    "  \n",
    "  i += 10"
   ]
  },
  {
   "cell_type": "code",
   "execution_count": null,
   "metadata": {
    "colab": {
     "base_uri": "https://localhost:8080/"
    },
    "id": "UMF0A99duN_p",
    "outputId": "4e094e7b-a243-4df9-87dc-b47e5f99bbd6"
   },
   "outputs": [
    {
     "name": "stdout",
     "output_type": "stream",
     "text": [
      "iteração  73\n",
      "soma  2628\n"
     ]
    }
   ],
   "source": [
    "contador = 0\n",
    "soma = 0\n",
    "\n",
    "while contador <= 100:\n",
    "  \n",
    "  if soma >= 2600:\n",
    "    print(\"iteração \",contador)\n",
    "    print(\"soma \", soma)\n",
    "    break\n",
    "  else:\n",
    "    soma += contador\n",
    "\n",
    "  contador += 1"
   ]
  },
  {
   "cell_type": "code",
   "execution_count": null,
   "metadata": {
    "colab": {
     "base_uri": "https://localhost:8080/"
    },
    "id": "1PzKICqXeg6T",
    "outputId": "388ca117-5c90-45c7-9bb2-154ffdfc87d6"
   },
   "outputs": [
    {
     "name": "stdout",
     "output_type": "stream",
     "text": [
      "Venda mais!\n",
      "Venda mais!\n",
      "Venda mais!\n",
      "Venda mais!\n",
      "Venda mais!\n",
      "Venda mais!\n",
      "Venda mais!\n",
      "Venda mais!\n",
      "Venda mais!\n",
      "Venda mais!\n",
      "Venda mais!\n",
      "Venda mais!\n",
      "Venda mais!\n",
      "Venda mais!\n",
      "Venda mais!\n",
      "Venda mais!\n",
      "Venda mais!\n",
      "Venda mais!\n",
      "Venda mais!\n",
      "Venda mais!\n",
      "Venda mais!\n",
      "Meta alcançada!!\n",
      "QTD DE CLIENTES 21\n"
     ]
    }
   ],
   "source": [
    "clientes = 0\n",
    "valor_recebido = 0\n",
    "\n",
    "while valor_recebido < 100:\n",
    "  print('Venda mais!')\n",
    "  clientes += 1\n",
    "  valor_recebido = clientes * 4.99\n",
    "else:\n",
    "  print('Meta alcançada!!')\n",
    "  print('QTD DE CLIENTES',clientes)"
   ]
  },
  {
   "cell_type": "code",
   "execution_count": null,
   "metadata": {
    "colab": {
     "base_uri": "https://localhost:8080/"
    },
    "id": "s0TAfpMmeg4N",
    "outputId": "bf60781d-fa95-4133-f6ef-a980008cef16"
   },
   "outputs": [
    {
     "name": "stdout",
     "output_type": "stream",
     "text": [
      "1 10\n",
      "1 20\n",
      "1 30\n",
      "1 40\n",
      "1 50\n",
      "2 10\n",
      "2 20\n",
      "2 30\n",
      "2 40\n",
      "2 50\n",
      "3 10\n",
      "3 20\n",
      "3 30\n",
      "3 40\n",
      "3 50\n",
      "4 10\n",
      "4 20\n",
      "4 30\n",
      "4 40\n",
      "4 50\n",
      "5 10\n",
      "5 20\n",
      "5 30\n",
      "5 40\n",
      "5 50\n"
     ]
    }
   ],
   "source": [
    "primeira_lista = [1,2,3,4,5]\n",
    "segunda_lista = [10,20,30,40,50]\n",
    "\n",
    "for i in primeira_lista:\n",
    "  for j in segunda_lista:\n",
    "    print(i,j)"
   ]
  },
  {
   "cell_type": "code",
   "execution_count": null,
   "metadata": {
    "colab": {
     "base_uri": "https://localhost:8080/"
    },
    "id": "NXTkElJUegxw",
    "outputId": "84df4110-c3e6-4d79-e436-170e5a94114f"
   },
   "outputs": [
    {
     "data": {
      "text/plain": [
       "50"
      ]
     },
     "execution_count": 126,
     "metadata": {
      "tags": []
     },
     "output_type": "execute_result"
    }
   ],
   "source": [
    "i = 0\n",
    "\n",
    "ls = []\n",
    "\n",
    "while i < 10:\n",
    "  for valor in primeira_lista:\n",
    "    ls.append(valor)\n",
    "\n",
    "  i += 1\n",
    "len(ls)"
   ]
  },
  {
   "cell_type": "code",
   "execution_count": null,
   "metadata": {
    "id": "CHSKxTbnCPBB"
   },
   "outputs": [],
   "source": []
  },
  {
   "cell_type": "code",
   "execution_count": null,
   "metadata": {
    "colab": {
     "base_uri": "https://localhost:8080/"
    },
    "id": "eed2P4LnCdPB",
    "outputId": "98433048-57e8-4a63-b282-eaffa1a4922b"
   },
   "outputs": [
    {
     "data": {
      "text/plain": [
       "[0, 1, 2, 3, 4, 5, 6, 7, 8, 9, 10, 11, 12, 13, 14, 15, 16, 17, 18, 19]"
      ]
     },
     "execution_count": 164,
     "metadata": {
      "tags": []
     },
     "output_type": "execute_result"
    }
   ],
   "source": [
    "[x for x in range(20)]"
   ]
  },
  {
   "cell_type": "code",
   "execution_count": null,
   "metadata": {
    "colab": {
     "base_uri": "https://localhost:8080/"
    },
    "id": "VG-ddUHOC4B-",
    "outputId": "ec916a97-b9bd-40cd-ffc5-cccea8f70a46"
   },
   "outputs": [
    {
     "name": "stdout",
     "output_type": "stream",
     "text": [
      "essa\n",
      "é\n",
      "a\n",
      "nossa\n",
      "segunda\n",
      "aula\n",
      "de\n",
      "python\n"
     ]
    }
   ],
   "source": [
    "a = 'essa é a nossa segunda aula de python'\n",
    "\n",
    "for idx in range(len(a.split())):\n",
    "  print(a.split()[idx])"
   ]
  },
  {
   "cell_type": "code",
   "execution_count": null,
   "metadata": {
    "colab": {
     "base_uri": "https://localhost:8080/"
    },
    "id": "NDVZP1aLC3_L",
    "outputId": "977102fb-af69-414c-ad88-d09c44d5db6e"
   },
   "outputs": [
    {
     "data": {
      "text/plain": [
       "range(0, 8)"
      ]
     },
     "execution_count": 169,
     "metadata": {
      "tags": []
     },
     "output_type": "execute_result"
    }
   ],
   "source": [
    "range(len(a.split()))"
   ]
  },
  {
   "cell_type": "code",
   "execution_count": null,
   "metadata": {
    "colab": {
     "base_uri": "https://localhost:8080/"
    },
    "id": "fl7odYonCO-S",
    "outputId": "a833fdec-e863-40c2-a6b1-e5ce5b2a3640"
   },
   "outputs": [
    {
     "data": {
      "text/plain": [
       "[(0, 'essa'),\n",
       " (1, 'é'),\n",
       " (2, 'a'),\n",
       " (3, 'nossa'),\n",
       " (4, 'segunda'),\n",
       " (5, 'aula'),\n",
       " (6, 'de'),\n",
       " (7, 'python')]"
      ]
     },
     "execution_count": 173,
     "metadata": {
      "tags": []
     },
     "output_type": "execute_result"
    }
   ],
   "source": [
    "list(enumerate(a.split()))"
   ]
  },
  {
   "cell_type": "markdown",
   "metadata": {
    "id": "Ivi415sofkFg"
   },
   "source": [
    "# Funções"
   ]
  },
  {
   "cell_type": "code",
   "execution_count": null,
   "metadata": {
    "id": "CrCqxu2lj1lX"
   },
   "outputs": [],
   "source": [
    "def minha_primeira_funcao():\n",
    "  print('O início de um sonho!')\n",
    "  for _ in range(5):\n",
    "    print('.')\n",
    "  print('Deu tudo certo!')"
   ]
  },
  {
   "cell_type": "code",
   "execution_count": null,
   "metadata": {
    "colab": {
     "base_uri": "https://localhost:8080/"
    },
    "id": "fNf9Uoukj1jh",
    "outputId": "54ee2fb5-10f6-418a-e3f1-eb1cdcfe1e85"
   },
   "outputs": [
    {
     "name": "stdout",
     "output_type": "stream",
     "text": [
      "O início de um sonho!\n",
      ".\n",
      ".\n",
      ".\n",
      ".\n",
      ".\n",
      "Deu tudo certo!\n"
     ]
    }
   ],
   "source": [
    "minha_primeira_funcao()"
   ]
  },
  {
   "cell_type": "code",
   "execution_count": null,
   "metadata": {
    "colab": {
     "base_uri": "https://localhost:8080/"
    },
    "id": "sk1JSqR7lPMA",
    "outputId": "ec5915ca-c54a-46cc-e757-d32aa91ca0c4"
   },
   "outputs": [
    {
     "name": "stdout",
     "output_type": "stream",
     "text": [
      "Hello World!\n"
     ]
    }
   ],
   "source": [
    "def hello_world():\n",
    "  print('Hello World!')\n",
    "\n",
    "hello_world()"
   ]
  },
  {
   "cell_type": "code",
   "execution_count": null,
   "metadata": {
    "id": "Z8yCLdO8j1hc"
   },
   "outputs": [],
   "source": [
    "def hello_person(nome):\n",
    "  print(f'Hello {nome}!')"
   ]
  },
  {
   "cell_type": "code",
   "execution_count": null,
   "metadata": {
    "colab": {
     "base_uri": "https://localhost:8080/"
    },
    "id": "zi8tVg7rj1ff",
    "outputId": "121b5dc5-cab3-4845-a9bd-1f72dc2e3a44"
   },
   "outputs": [
    {
     "name": "stdout",
     "output_type": "stream",
     "text": [
      "Hello Maria!\n"
     ]
    }
   ],
   "source": [
    "hello_person(nome = 'Maria')"
   ]
  },
  {
   "cell_type": "code",
   "execution_count": null,
   "metadata": {
    "id": "2T_c4G4mj1dW"
   },
   "outputs": [],
   "source": [
    "def calculadora(valor1,valor2,operacao):\n",
    "  if operacao == 'soma':\n",
    "    print(valor1+valor2)\n",
    "  elif operacao == 'divisao':\n",
    "    print(valor1/valor2)\n",
    "  elif operacao == 'multiplicacao':\n",
    "    print(valor1*valor2)\n",
    "  elif operacao == 'subtracao':\n",
    "    print(valor1-valor2)"
   ]
  },
  {
   "cell_type": "code",
   "execution_count": null,
   "metadata": {
    "colab": {
     "base_uri": "https://localhost:8080/",
     "height": 163
    },
    "id": "SKoIecOkj1bL",
    "outputId": "8373cf94-5f38-4bc7-d36a-7dbf615a006b"
   },
   "outputs": [
    {
     "ename": "TypeError",
     "evalue": "ignored",
     "output_type": "error",
     "traceback": [
      "\u001b[0;31m---------------------------------------------------------------------------\u001b[0m",
      "\u001b[0;31mTypeError\u001b[0m                                 Traceback (most recent call last)",
      "\u001b[0;32m<ipython-input-7-c28088c07ec2>\u001b[0m in \u001b[0;36m<module>\u001b[0;34m()\u001b[0m\n\u001b[0;32m----> 1\u001b[0;31m \u001b[0mcalculadora\u001b[0m\u001b[0;34m(\u001b[0m\u001b[0mvalor1\u001b[0m\u001b[0;34m=\u001b[0m\u001b[0;36m15\u001b[0m\u001b[0;34m,\u001b[0m\u001b[0mvalor2\u001b[0m\u001b[0;34m=\u001b[0m\u001b[0;36m16\u001b[0m\u001b[0;34m)\u001b[0m\u001b[0;34m\u001b[0m\u001b[0;34m\u001b[0m\u001b[0m\n\u001b[0m",
      "\u001b[0;31mTypeError\u001b[0m: calculadora() missing 1 required positional argument: 'operacao'"
     ]
    }
   ],
   "source": [
    "calculadora(valor1=15,valor2=16)"
   ]
  },
  {
   "cell_type": "code",
   "execution_count": null,
   "metadata": {
    "colab": {
     "base_uri": "https://localhost:8080/"
    },
    "id": "L2SiV7TGj1ZB",
    "outputId": "ad5775a1-b855-4e14-ad40-a4aa5fb1182e"
   },
   "outputs": [
    {
     "name": "stdout",
     "output_type": "stream",
     "text": [
      "31\n"
     ]
    }
   ],
   "source": [
    "calculadora(valor1=15,valor2=16,operacao='soma')"
   ]
  },
  {
   "cell_type": "code",
   "execution_count": null,
   "metadata": {
    "colab": {
     "base_uri": "https://localhost:8080/"
    },
    "id": "dpRguPniqCNr",
    "outputId": "8ae47b6a-263b-4520-eb28-fc1fadafc456"
   },
   "outputs": [
    {
     "name": "stdout",
     "output_type": "stream",
     "text": [
      "31\n"
     ]
    }
   ],
   "source": [
    "calculadora(15,16,'soma')"
   ]
  },
  {
   "cell_type": "code",
   "execution_count": null,
   "metadata": {
    "colab": {
     "base_uri": "https://localhost:8080/"
    },
    "id": "-M4n5RGjqypO",
    "outputId": "9d7be743-37c6-4831-c5e4-80c90ee7875b"
   },
   "outputs": [
    {
     "name": "stdout",
     "output_type": "stream",
     "text": [
      "18\n"
     ]
    }
   ],
   "source": [
    "calculadora(operacao='soma',valor1=10,valor2=8)"
   ]
  },
  {
   "cell_type": "code",
   "execution_count": null,
   "metadata": {
    "colab": {
     "base_uri": "https://localhost:8080/",
     "height": 129
    },
    "id": "QzVt2hB4qCLe",
    "outputId": "15bd3ab6-deaa-4d3b-ff61-d6d822cee4f8"
   },
   "outputs": [
    {
     "ename": "SyntaxError",
     "evalue": "ignored",
     "output_type": "error",
     "traceback": [
      "\u001b[0;36m  File \u001b[0;32m\"<ipython-input-11-ae5f18dafefc>\"\u001b[0;36m, line \u001b[0;32m1\u001b[0m\n\u001b[0;31m    calculadora(operacao='soma',10,8)\u001b[0m\n\u001b[0m                               ^\u001b[0m\n\u001b[0;31mSyntaxError\u001b[0m\u001b[0;31m:\u001b[0m positional argument follows keyword argument\n"
     ]
    }
   ],
   "source": [
    "calculadora(operacao='soma',10,8)"
   ]
  },
  {
   "cell_type": "code",
   "execution_count": null,
   "metadata": {
    "id": "YLIyFpUmrb9q"
   },
   "outputs": [],
   "source": [
    "def calculadora(valor1, valor2, operacao='soma'):\n",
    "\n",
    "  if operacao == 'soma':\n",
    "    print(valor1+valor2)\n",
    "  elif operacao == 'divisao':\n",
    "    print(valor1/valor2)\n",
    "  elif operacao == 'multiplicacao':\n",
    "    print(valor1*valor2)\n",
    "  elif operacao == 'subtracao':\n",
    "    print(valor1-valor2)"
   ]
  },
  {
   "cell_type": "code",
   "execution_count": null,
   "metadata": {
    "colab": {
     "base_uri": "https://localhost:8080/"
    },
    "id": "RYYX76O1rb7O",
    "outputId": "df0a929c-0539-408f-8204-14d5c9f1545d"
   },
   "outputs": [
    {
     "name": "stdout",
     "output_type": "stream",
     "text": [
      "110\n"
     ]
    }
   ],
   "source": [
    "calculadora(100,10)"
   ]
  },
  {
   "cell_type": "code",
   "execution_count": null,
   "metadata": {
    "id": "Pbb9KBgVuXuo"
   },
   "outputs": [],
   "source": [
    "def minha_soma(valor1,valor2):\n",
    "  valor1+valor2\n",
    "\n",
    "def minha_soma_return(valor1,valor2):\n",
    "  resultado = valor1 + valor2\n",
    "\n",
    "  return resultado"
   ]
  },
  {
   "cell_type": "code",
   "execution_count": null,
   "metadata": {
    "colab": {
     "base_uri": "https://localhost:8080/"
    },
    "id": "dKECd8OyuXsN",
    "outputId": "094a272e-f106-46fb-819f-17b76c8af178"
   },
   "outputs": [
    {
     "name": "stdout",
     "output_type": "stream",
     "text": [
      "None\n",
      "<class 'NoneType'>\n"
     ]
    }
   ],
   "source": [
    "x = minha_soma(10,10)\n",
    "print(x)\n",
    "print(type(x))"
   ]
  },
  {
   "cell_type": "code",
   "execution_count": null,
   "metadata": {
    "colab": {
     "base_uri": "https://localhost:8080/"
    },
    "id": "yy6kJhnHuXpz",
    "outputId": "a1d0744d-6a2a-49a1-d6ab-6a9ada1dd64a"
   },
   "outputs": [
    {
     "name": "stdout",
     "output_type": "stream",
     "text": [
      "20\n",
      "<class 'int'>\n"
     ]
    }
   ],
   "source": [
    "x = minha_soma_return(10,10)\n",
    "print(x)\n",
    "print(type(x))"
   ]
  },
  {
   "cell_type": "code",
   "execution_count": null,
   "metadata": {
    "colab": {
     "base_uri": "https://localhost:8080/"
    },
    "id": "YYD4HOEZsnlM",
    "outputId": "0c8c13dd-dd6d-40eb-b212-61187f6a1e26"
   },
   "outputs": [
    {
     "name": "stdout",
     "output_type": "stream",
     "text": [
      "Requirement already satisfied: pandas in /usr/local/lib/python3.7/dist-packages (1.1.5)\n",
      "Requirement already satisfied: python-dateutil>=2.7.3 in /usr/local/lib/python3.7/dist-packages (from pandas) (2.8.1)\n",
      "Requirement already satisfied: pytz>=2017.2 in /usr/local/lib/python3.7/dist-packages (from pandas) (2018.9)\n",
      "Requirement already satisfied: numpy>=1.15.4 in /usr/local/lib/python3.7/dist-packages (from pandas) (1.19.5)\n",
      "Requirement already satisfied: six>=1.5 in /usr/local/lib/python3.7/dist-packages (from python-dateutil>=2.7.3->pandas) (1.15.0)\n"
     ]
    }
   ],
   "source": [
    "!pip install pandas"
   ]
  },
  {
   "cell_type": "code",
   "execution_count": null,
   "metadata": {
    "colab": {
     "base_uri": "https://localhost:8080/",
     "height": 419
    },
    "id": "nS_M-NhTsni-",
    "outputId": "5e23fdee-2274-4c58-8d20-521116071d1e"
   },
   "outputs": [
    {
     "data": {
      "text/html": [
       "<div>\n",
       "<style scoped>\n",
       "    .dataframe tbody tr th:only-of-type {\n",
       "        vertical-align: middle;\n",
       "    }\n",
       "\n",
       "    .dataframe tbody tr th {\n",
       "        vertical-align: top;\n",
       "    }\n",
       "\n",
       "    .dataframe thead th {\n",
       "        text-align: right;\n",
       "    }\n",
       "</style>\n",
       "<table border=\"1\" class=\"dataframe\">\n",
       "  <thead>\n",
       "    <tr style=\"text-align: right;\">\n",
       "      <th></th>\n",
       "      <th>longitude</th>\n",
       "      <th>latitude</th>\n",
       "      <th>housing_median_age</th>\n",
       "      <th>total_rooms</th>\n",
       "      <th>total_bedrooms</th>\n",
       "      <th>population</th>\n",
       "      <th>households</th>\n",
       "      <th>median_income</th>\n",
       "      <th>median_house_value</th>\n",
       "    </tr>\n",
       "  </thead>\n",
       "  <tbody>\n",
       "    <tr>\n",
       "      <th>0</th>\n",
       "      <td>-114.31</td>\n",
       "      <td>34.19</td>\n",
       "      <td>15.0</td>\n",
       "      <td>5612.0</td>\n",
       "      <td>1283.0</td>\n",
       "      <td>1015.0</td>\n",
       "      <td>472.0</td>\n",
       "      <td>1.4936</td>\n",
       "      <td>66900.0</td>\n",
       "    </tr>\n",
       "    <tr>\n",
       "      <th>1</th>\n",
       "      <td>-114.47</td>\n",
       "      <td>34.40</td>\n",
       "      <td>19.0</td>\n",
       "      <td>7650.0</td>\n",
       "      <td>1901.0</td>\n",
       "      <td>1129.0</td>\n",
       "      <td>463.0</td>\n",
       "      <td>1.8200</td>\n",
       "      <td>80100.0</td>\n",
       "    </tr>\n",
       "    <tr>\n",
       "      <th>2</th>\n",
       "      <td>-114.56</td>\n",
       "      <td>33.69</td>\n",
       "      <td>17.0</td>\n",
       "      <td>720.0</td>\n",
       "      <td>174.0</td>\n",
       "      <td>333.0</td>\n",
       "      <td>117.0</td>\n",
       "      <td>1.6509</td>\n",
       "      <td>85700.0</td>\n",
       "    </tr>\n",
       "    <tr>\n",
       "      <th>3</th>\n",
       "      <td>-114.57</td>\n",
       "      <td>33.64</td>\n",
       "      <td>14.0</td>\n",
       "      <td>1501.0</td>\n",
       "      <td>337.0</td>\n",
       "      <td>515.0</td>\n",
       "      <td>226.0</td>\n",
       "      <td>3.1917</td>\n",
       "      <td>73400.0</td>\n",
       "    </tr>\n",
       "    <tr>\n",
       "      <th>4</th>\n",
       "      <td>-114.57</td>\n",
       "      <td>33.57</td>\n",
       "      <td>20.0</td>\n",
       "      <td>1454.0</td>\n",
       "      <td>326.0</td>\n",
       "      <td>624.0</td>\n",
       "      <td>262.0</td>\n",
       "      <td>1.9250</td>\n",
       "      <td>65500.0</td>\n",
       "    </tr>\n",
       "    <tr>\n",
       "      <th>...</th>\n",
       "      <td>...</td>\n",
       "      <td>...</td>\n",
       "      <td>...</td>\n",
       "      <td>...</td>\n",
       "      <td>...</td>\n",
       "      <td>...</td>\n",
       "      <td>...</td>\n",
       "      <td>...</td>\n",
       "      <td>...</td>\n",
       "    </tr>\n",
       "    <tr>\n",
       "      <th>16995</th>\n",
       "      <td>-124.26</td>\n",
       "      <td>40.58</td>\n",
       "      <td>52.0</td>\n",
       "      <td>2217.0</td>\n",
       "      <td>394.0</td>\n",
       "      <td>907.0</td>\n",
       "      <td>369.0</td>\n",
       "      <td>2.3571</td>\n",
       "      <td>111400.0</td>\n",
       "    </tr>\n",
       "    <tr>\n",
       "      <th>16996</th>\n",
       "      <td>-124.27</td>\n",
       "      <td>40.69</td>\n",
       "      <td>36.0</td>\n",
       "      <td>2349.0</td>\n",
       "      <td>528.0</td>\n",
       "      <td>1194.0</td>\n",
       "      <td>465.0</td>\n",
       "      <td>2.5179</td>\n",
       "      <td>79000.0</td>\n",
       "    </tr>\n",
       "    <tr>\n",
       "      <th>16997</th>\n",
       "      <td>-124.30</td>\n",
       "      <td>41.84</td>\n",
       "      <td>17.0</td>\n",
       "      <td>2677.0</td>\n",
       "      <td>531.0</td>\n",
       "      <td>1244.0</td>\n",
       "      <td>456.0</td>\n",
       "      <td>3.0313</td>\n",
       "      <td>103600.0</td>\n",
       "    </tr>\n",
       "    <tr>\n",
       "      <th>16998</th>\n",
       "      <td>-124.30</td>\n",
       "      <td>41.80</td>\n",
       "      <td>19.0</td>\n",
       "      <td>2672.0</td>\n",
       "      <td>552.0</td>\n",
       "      <td>1298.0</td>\n",
       "      <td>478.0</td>\n",
       "      <td>1.9797</td>\n",
       "      <td>85800.0</td>\n",
       "    </tr>\n",
       "    <tr>\n",
       "      <th>16999</th>\n",
       "      <td>-124.35</td>\n",
       "      <td>40.54</td>\n",
       "      <td>52.0</td>\n",
       "      <td>1820.0</td>\n",
       "      <td>300.0</td>\n",
       "      <td>806.0</td>\n",
       "      <td>270.0</td>\n",
       "      <td>3.0147</td>\n",
       "      <td>94600.0</td>\n",
       "    </tr>\n",
       "  </tbody>\n",
       "</table>\n",
       "<p>17000 rows × 9 columns</p>\n",
       "</div>"
      ],
      "text/plain": [
       "       longitude  latitude  ...  median_income  median_house_value\n",
       "0        -114.31     34.19  ...         1.4936             66900.0\n",
       "1        -114.47     34.40  ...         1.8200             80100.0\n",
       "2        -114.56     33.69  ...         1.6509             85700.0\n",
       "3        -114.57     33.64  ...         3.1917             73400.0\n",
       "4        -114.57     33.57  ...         1.9250             65500.0\n",
       "...          ...       ...  ...            ...                 ...\n",
       "16995    -124.26     40.58  ...         2.3571            111400.0\n",
       "16996    -124.27     40.69  ...         2.5179             79000.0\n",
       "16997    -124.30     41.84  ...         3.0313            103600.0\n",
       "16998    -124.30     41.80  ...         1.9797             85800.0\n",
       "16999    -124.35     40.54  ...         3.0147             94600.0\n",
       "\n",
       "[17000 rows x 9 columns]"
      ]
     },
     "execution_count": 22,
     "metadata": {
      "tags": []
     },
     "output_type": "execute_result"
    }
   ],
   "source": [
    "import pandas\n",
    "\n",
    "pandas.read_csv('/content/sample_data/california_housing_train.csv')"
   ]
  },
  {
   "cell_type": "code",
   "execution_count": null,
   "metadata": {
    "colab": {
     "base_uri": "https://localhost:8080/",
     "height": 419
    },
    "id": "kCAQQd-jsnaz",
    "outputId": "4b17a28e-47c0-4ad3-8fb2-a93aaa699cca"
   },
   "outputs": [
    {
     "data": {
      "text/html": [
       "<div>\n",
       "<style scoped>\n",
       "    .dataframe tbody tr th:only-of-type {\n",
       "        vertical-align: middle;\n",
       "    }\n",
       "\n",
       "    .dataframe tbody tr th {\n",
       "        vertical-align: top;\n",
       "    }\n",
       "\n",
       "    .dataframe thead th {\n",
       "        text-align: right;\n",
       "    }\n",
       "</style>\n",
       "<table border=\"1\" class=\"dataframe\">\n",
       "  <thead>\n",
       "    <tr style=\"text-align: right;\">\n",
       "      <th></th>\n",
       "      <th>longitude</th>\n",
       "      <th>latitude</th>\n",
       "      <th>housing_median_age</th>\n",
       "      <th>total_rooms</th>\n",
       "      <th>total_bedrooms</th>\n",
       "      <th>population</th>\n",
       "      <th>households</th>\n",
       "      <th>median_income</th>\n",
       "      <th>median_house_value</th>\n",
       "    </tr>\n",
       "  </thead>\n",
       "  <tbody>\n",
       "    <tr>\n",
       "      <th>0</th>\n",
       "      <td>-114.31</td>\n",
       "      <td>34.19</td>\n",
       "      <td>15.0</td>\n",
       "      <td>5612.0</td>\n",
       "      <td>1283.0</td>\n",
       "      <td>1015.0</td>\n",
       "      <td>472.0</td>\n",
       "      <td>1.4936</td>\n",
       "      <td>66900.0</td>\n",
       "    </tr>\n",
       "    <tr>\n",
       "      <th>1</th>\n",
       "      <td>-114.47</td>\n",
       "      <td>34.40</td>\n",
       "      <td>19.0</td>\n",
       "      <td>7650.0</td>\n",
       "      <td>1901.0</td>\n",
       "      <td>1129.0</td>\n",
       "      <td>463.0</td>\n",
       "      <td>1.8200</td>\n",
       "      <td>80100.0</td>\n",
       "    </tr>\n",
       "    <tr>\n",
       "      <th>2</th>\n",
       "      <td>-114.56</td>\n",
       "      <td>33.69</td>\n",
       "      <td>17.0</td>\n",
       "      <td>720.0</td>\n",
       "      <td>174.0</td>\n",
       "      <td>333.0</td>\n",
       "      <td>117.0</td>\n",
       "      <td>1.6509</td>\n",
       "      <td>85700.0</td>\n",
       "    </tr>\n",
       "    <tr>\n",
       "      <th>3</th>\n",
       "      <td>-114.57</td>\n",
       "      <td>33.64</td>\n",
       "      <td>14.0</td>\n",
       "      <td>1501.0</td>\n",
       "      <td>337.0</td>\n",
       "      <td>515.0</td>\n",
       "      <td>226.0</td>\n",
       "      <td>3.1917</td>\n",
       "      <td>73400.0</td>\n",
       "    </tr>\n",
       "    <tr>\n",
       "      <th>4</th>\n",
       "      <td>-114.57</td>\n",
       "      <td>33.57</td>\n",
       "      <td>20.0</td>\n",
       "      <td>1454.0</td>\n",
       "      <td>326.0</td>\n",
       "      <td>624.0</td>\n",
       "      <td>262.0</td>\n",
       "      <td>1.9250</td>\n",
       "      <td>65500.0</td>\n",
       "    </tr>\n",
       "    <tr>\n",
       "      <th>...</th>\n",
       "      <td>...</td>\n",
       "      <td>...</td>\n",
       "      <td>...</td>\n",
       "      <td>...</td>\n",
       "      <td>...</td>\n",
       "      <td>...</td>\n",
       "      <td>...</td>\n",
       "      <td>...</td>\n",
       "      <td>...</td>\n",
       "    </tr>\n",
       "    <tr>\n",
       "      <th>16995</th>\n",
       "      <td>-124.26</td>\n",
       "      <td>40.58</td>\n",
       "      <td>52.0</td>\n",
       "      <td>2217.0</td>\n",
       "      <td>394.0</td>\n",
       "      <td>907.0</td>\n",
       "      <td>369.0</td>\n",
       "      <td>2.3571</td>\n",
       "      <td>111400.0</td>\n",
       "    </tr>\n",
       "    <tr>\n",
       "      <th>16996</th>\n",
       "      <td>-124.27</td>\n",
       "      <td>40.69</td>\n",
       "      <td>36.0</td>\n",
       "      <td>2349.0</td>\n",
       "      <td>528.0</td>\n",
       "      <td>1194.0</td>\n",
       "      <td>465.0</td>\n",
       "      <td>2.5179</td>\n",
       "      <td>79000.0</td>\n",
       "    </tr>\n",
       "    <tr>\n",
       "      <th>16997</th>\n",
       "      <td>-124.30</td>\n",
       "      <td>41.84</td>\n",
       "      <td>17.0</td>\n",
       "      <td>2677.0</td>\n",
       "      <td>531.0</td>\n",
       "      <td>1244.0</td>\n",
       "      <td>456.0</td>\n",
       "      <td>3.0313</td>\n",
       "      <td>103600.0</td>\n",
       "    </tr>\n",
       "    <tr>\n",
       "      <th>16998</th>\n",
       "      <td>-124.30</td>\n",
       "      <td>41.80</td>\n",
       "      <td>19.0</td>\n",
       "      <td>2672.0</td>\n",
       "      <td>552.0</td>\n",
       "      <td>1298.0</td>\n",
       "      <td>478.0</td>\n",
       "      <td>1.9797</td>\n",
       "      <td>85800.0</td>\n",
       "    </tr>\n",
       "    <tr>\n",
       "      <th>16999</th>\n",
       "      <td>-124.35</td>\n",
       "      <td>40.54</td>\n",
       "      <td>52.0</td>\n",
       "      <td>1820.0</td>\n",
       "      <td>300.0</td>\n",
       "      <td>806.0</td>\n",
       "      <td>270.0</td>\n",
       "      <td>3.0147</td>\n",
       "      <td>94600.0</td>\n",
       "    </tr>\n",
       "  </tbody>\n",
       "</table>\n",
       "<p>17000 rows × 9 columns</p>\n",
       "</div>"
      ],
      "text/plain": [
       "       longitude  latitude  ...  median_income  median_house_value\n",
       "0        -114.31     34.19  ...         1.4936             66900.0\n",
       "1        -114.47     34.40  ...         1.8200             80100.0\n",
       "2        -114.56     33.69  ...         1.6509             85700.0\n",
       "3        -114.57     33.64  ...         3.1917             73400.0\n",
       "4        -114.57     33.57  ...         1.9250             65500.0\n",
       "...          ...       ...  ...            ...                 ...\n",
       "16995    -124.26     40.58  ...         2.3571            111400.0\n",
       "16996    -124.27     40.69  ...         2.5179             79000.0\n",
       "16997    -124.30     41.84  ...         3.0313            103600.0\n",
       "16998    -124.30     41.80  ...         1.9797             85800.0\n",
       "16999    -124.35     40.54  ...         3.0147             94600.0\n",
       "\n",
       "[17000 rows x 9 columns]"
      ]
     },
     "execution_count": 23,
     "metadata": {
      "tags": []
     },
     "output_type": "execute_result"
    }
   ],
   "source": [
    "import pandas as pd\n",
    "\n",
    "pd.read_csv('/content/sample_data/california_housing_train.csv')"
   ]
  },
  {
   "cell_type": "code",
   "execution_count": null,
   "metadata": {
    "colab": {
     "base_uri": "https://localhost:8080/",
     "height": 419
    },
    "id": "p0f4w1ttrb43",
    "outputId": "90b05e88-d555-432e-9280-b65564166dec"
   },
   "outputs": [
    {
     "data": {
      "text/html": [
       "<div>\n",
       "<style scoped>\n",
       "    .dataframe tbody tr th:only-of-type {\n",
       "        vertical-align: middle;\n",
       "    }\n",
       "\n",
       "    .dataframe tbody tr th {\n",
       "        vertical-align: top;\n",
       "    }\n",
       "\n",
       "    .dataframe thead th {\n",
       "        text-align: right;\n",
       "    }\n",
       "</style>\n",
       "<table border=\"1\" class=\"dataframe\">\n",
       "  <thead>\n",
       "    <tr style=\"text-align: right;\">\n",
       "      <th></th>\n",
       "      <th>longitude</th>\n",
       "      <th>latitude</th>\n",
       "      <th>housing_median_age</th>\n",
       "      <th>total_rooms</th>\n",
       "      <th>total_bedrooms</th>\n",
       "      <th>population</th>\n",
       "      <th>households</th>\n",
       "      <th>median_income</th>\n",
       "      <th>median_house_value</th>\n",
       "    </tr>\n",
       "  </thead>\n",
       "  <tbody>\n",
       "    <tr>\n",
       "      <th>0</th>\n",
       "      <td>-114.31</td>\n",
       "      <td>34.19</td>\n",
       "      <td>15.0</td>\n",
       "      <td>5612.0</td>\n",
       "      <td>1283.0</td>\n",
       "      <td>1015.0</td>\n",
       "      <td>472.0</td>\n",
       "      <td>1.4936</td>\n",
       "      <td>66900.0</td>\n",
       "    </tr>\n",
       "    <tr>\n",
       "      <th>1</th>\n",
       "      <td>-114.47</td>\n",
       "      <td>34.40</td>\n",
       "      <td>19.0</td>\n",
       "      <td>7650.0</td>\n",
       "      <td>1901.0</td>\n",
       "      <td>1129.0</td>\n",
       "      <td>463.0</td>\n",
       "      <td>1.8200</td>\n",
       "      <td>80100.0</td>\n",
       "    </tr>\n",
       "    <tr>\n",
       "      <th>2</th>\n",
       "      <td>-114.56</td>\n",
       "      <td>33.69</td>\n",
       "      <td>17.0</td>\n",
       "      <td>720.0</td>\n",
       "      <td>174.0</td>\n",
       "      <td>333.0</td>\n",
       "      <td>117.0</td>\n",
       "      <td>1.6509</td>\n",
       "      <td>85700.0</td>\n",
       "    </tr>\n",
       "    <tr>\n",
       "      <th>3</th>\n",
       "      <td>-114.57</td>\n",
       "      <td>33.64</td>\n",
       "      <td>14.0</td>\n",
       "      <td>1501.0</td>\n",
       "      <td>337.0</td>\n",
       "      <td>515.0</td>\n",
       "      <td>226.0</td>\n",
       "      <td>3.1917</td>\n",
       "      <td>73400.0</td>\n",
       "    </tr>\n",
       "    <tr>\n",
       "      <th>4</th>\n",
       "      <td>-114.57</td>\n",
       "      <td>33.57</td>\n",
       "      <td>20.0</td>\n",
       "      <td>1454.0</td>\n",
       "      <td>326.0</td>\n",
       "      <td>624.0</td>\n",
       "      <td>262.0</td>\n",
       "      <td>1.9250</td>\n",
       "      <td>65500.0</td>\n",
       "    </tr>\n",
       "    <tr>\n",
       "      <th>...</th>\n",
       "      <td>...</td>\n",
       "      <td>...</td>\n",
       "      <td>...</td>\n",
       "      <td>...</td>\n",
       "      <td>...</td>\n",
       "      <td>...</td>\n",
       "      <td>...</td>\n",
       "      <td>...</td>\n",
       "      <td>...</td>\n",
       "    </tr>\n",
       "    <tr>\n",
       "      <th>16995</th>\n",
       "      <td>-124.26</td>\n",
       "      <td>40.58</td>\n",
       "      <td>52.0</td>\n",
       "      <td>2217.0</td>\n",
       "      <td>394.0</td>\n",
       "      <td>907.0</td>\n",
       "      <td>369.0</td>\n",
       "      <td>2.3571</td>\n",
       "      <td>111400.0</td>\n",
       "    </tr>\n",
       "    <tr>\n",
       "      <th>16996</th>\n",
       "      <td>-124.27</td>\n",
       "      <td>40.69</td>\n",
       "      <td>36.0</td>\n",
       "      <td>2349.0</td>\n",
       "      <td>528.0</td>\n",
       "      <td>1194.0</td>\n",
       "      <td>465.0</td>\n",
       "      <td>2.5179</td>\n",
       "      <td>79000.0</td>\n",
       "    </tr>\n",
       "    <tr>\n",
       "      <th>16997</th>\n",
       "      <td>-124.30</td>\n",
       "      <td>41.84</td>\n",
       "      <td>17.0</td>\n",
       "      <td>2677.0</td>\n",
       "      <td>531.0</td>\n",
       "      <td>1244.0</td>\n",
       "      <td>456.0</td>\n",
       "      <td>3.0313</td>\n",
       "      <td>103600.0</td>\n",
       "    </tr>\n",
       "    <tr>\n",
       "      <th>16998</th>\n",
       "      <td>-124.30</td>\n",
       "      <td>41.80</td>\n",
       "      <td>19.0</td>\n",
       "      <td>2672.0</td>\n",
       "      <td>552.0</td>\n",
       "      <td>1298.0</td>\n",
       "      <td>478.0</td>\n",
       "      <td>1.9797</td>\n",
       "      <td>85800.0</td>\n",
       "    </tr>\n",
       "    <tr>\n",
       "      <th>16999</th>\n",
       "      <td>-124.35</td>\n",
       "      <td>40.54</td>\n",
       "      <td>52.0</td>\n",
       "      <td>1820.0</td>\n",
       "      <td>300.0</td>\n",
       "      <td>806.0</td>\n",
       "      <td>270.0</td>\n",
       "      <td>3.0147</td>\n",
       "      <td>94600.0</td>\n",
       "    </tr>\n",
       "  </tbody>\n",
       "</table>\n",
       "<p>17000 rows × 9 columns</p>\n",
       "</div>"
      ],
      "text/plain": [
       "       longitude  latitude  ...  median_income  median_house_value\n",
       "0        -114.31     34.19  ...         1.4936             66900.0\n",
       "1        -114.47     34.40  ...         1.8200             80100.0\n",
       "2        -114.56     33.69  ...         1.6509             85700.0\n",
       "3        -114.57     33.64  ...         3.1917             73400.0\n",
       "4        -114.57     33.57  ...         1.9250             65500.0\n",
       "...          ...       ...  ...            ...                 ...\n",
       "16995    -124.26     40.58  ...         2.3571            111400.0\n",
       "16996    -124.27     40.69  ...         2.5179             79000.0\n",
       "16997    -124.30     41.84  ...         3.0313            103600.0\n",
       "16998    -124.30     41.80  ...         1.9797             85800.0\n",
       "16999    -124.35     40.54  ...         3.0147             94600.0\n",
       "\n",
       "[17000 rows x 9 columns]"
      ]
     },
     "execution_count": 24,
     "metadata": {
      "tags": []
     },
     "output_type": "execute_result"
    }
   ],
   "source": [
    "from pandas import read_csv\n",
    "\n",
    "read_csv('/content/sample_data/california_housing_train.csv')"
   ]
  },
  {
   "cell_type": "code",
   "execution_count": null,
   "metadata": {
    "id": "svZChTsDh5J5"
   },
   "outputs": [],
   "source": [
    "from minhaBib import hread"
   ]
  },
  {
   "cell_type": "code",
   "execution_count": null,
   "metadata": {
    "colab": {
     "base_uri": "https://localhost:8080/"
    },
    "id": "sTynORDCh5Hf",
    "outputId": "6f760856-a444-4ce2-f8f1-813589d43e4c"
   },
   "outputs": [
    {
     "name": "stdout",
     "output_type": "stream",
     "text": [
      "usando a soma de minhaBib\n"
     ]
    },
    {
     "data": {
      "text/plain": [
       "28"
      ]
     },
     "execution_count": 183,
     "metadata": {
      "tags": []
     },
     "output_type": "execute_result"
    }
   ],
   "source": [
    "hread.minha_soma(13,15)"
   ]
  }
 ],
 "metadata": {
  "colab": {
   "collapsed_sections": [
    "XrxnotkOffp6",
    "6U8ou0VTJdtq"
   ],
   "name": "FUNDAMENTOS-PYTHON-ANATEL.ipynb",
   "provenance": []
  },
  "kernelspec": {
   "display_name": "Python 3",
   "language": "python",
   "name": "python3"
  },
  "language_info": {
   "codemirror_mode": {
    "name": "ipython",
    "version": 3
   },
   "file_extension": ".py",
   "mimetype": "text/x-python",
   "name": "python",
   "nbconvert_exporter": "python",
   "pygments_lexer": "ipython3",
   "version": "3.8.5"
  }
 },
 "nbformat": 4,
 "nbformat_minor": 4
}
