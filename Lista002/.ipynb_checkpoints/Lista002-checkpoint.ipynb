{
 "cells": [
  {
   "cell_type": "markdown",
   "id": "502618e3",
   "metadata": {},
   "source": [
    "# Lista 002 - Desempenho dos Alunos GDF\n",
    "\n",
    "O dataset analisado aqui descreve o desempenho dos alunos da rede pública do Distrito Federal. Nele encontramos as notas bimestrais de todas as matérias oferecidas a cada aluno do GDF, juntamente com informações básicas sobre a escola, o curso e a série do aluno. A fonte dos dados é o portal de dados abertos do GDF.\n",
    "\n",
    "Utilize o dataset para responder as questões abaixo. Coloque sua solução somente dentro do espaço delimitado para a resposta e não altere nenhum outro código disponibilizado. As bibliotecas para a resolução de todos os problemas já foram importadas na célula abaixo. \n",
    "\n",
    "Obs.: Caso alguma delas não esteja instalada no seu ambiente execute o processo de instalção através de ```!pip install <nome_da_biblioteca>```\n",
    "\n",
    "### Entregáveis esperados\n",
    "\n",
    "1. Jupyter notebook com suas respostas, em formato html.\n",
    "\n",
    "Obs.: Caso esteja utilizando o google colab, veja as soluções [neste link](https://stackoverflow.com/questions/53460051/convert-ipynb-notebook-to-html-in-google-colab) para conversão em .html"
   ]
  },
  {
   "cell_type": "code",
   "execution_count": 34,
   "id": "d7bc77ea",
   "metadata": {},
   "outputs": [],
   "source": [
    "import pandas as pd\n",
    "import matplotlib.pyplot as plt\n",
    "import numpy as np\n",
    "\n",
    "import requests as r\n",
    "from zipfile import ZipFile\n",
    "import io\n",
    "\n",
    "import warnings\n",
    "warnings.filterwarnings('ignore')"
   ]
  },
  {
   "cell_type": "code",
   "execution_count": 44,
   "id": "aa5c4997",
   "metadata": {},
   "outputs": [],
   "source": [
    "def get_data(rows=None,download=True):\n",
    "    \n",
    "    \"\"\" get_data(rows: int=None, download: bool=True) -> pandas.core.frame.DataFrame:\n",
    "        \n",
    "        - Retorna os dados para serem utilizados na resolução da lista. \n",
    "        - Utilize o parâmetro 'download' caso você já possua os dados na sua pasta de trabalho.\n",
    "        \n",
    "        \n",
    "        ** Parâmetros **\n",
    "        ________________\n",
    "        \n",
    "        rows : quantidade de linhas a serem lidas no data, padrão None representando todo o dataset.\n",
    "        baixar : define se a função executará o processo de download e extração dos dados, padrão True.\n",
    "        \n",
    "        ** Exemplos **\n",
    "        ________________\n",
    "        \n",
    "        >> df = get_data(rows=100)\n",
    "        >> df.shape\n",
    "        >> (100,23)\n",
    "        \n",
    "        \n",
    "        >> df = get_data(rows=578)\n",
    "        >> df.shape\n",
    "        >> (578,23)\n",
    "        \n",
    "    \"\"\"\n",
    "    \n",
    "    if dowload == True:\n",
    "            \n",
    "        file_zipped = r.get('http://dados.df.gov.br/dataset/b8436049-44e7-4224-95b4-224718a4b166/resource/3e654a9d-0647-4e39-930e-7cd07faec888/download/dados-abertos---desempenho-escolar20180515160111.zip')  \n",
    "        z = ZipFile(io.BytesIO(file_zipped.content))\n",
    "        z.extractall('.')\n",
    "    \n",
    "    return pd.read_csv('dados abertos - desempenho escolar_20180515_160111.csv',sep=';',encoding='latin-1',nrows=rows)"
   ]
  },
  {
   "cell_type": "markdown",
   "id": "ea68aed1",
   "metadata": {},
   "source": [
    "## Questões\n",
    "\n",
    "1. Crie um subplot com dois gráficos. Os gráficos devem demonstrar a dispersão dos resultados finais dos alunos das coordenações regionais de Taguatinga e do Plano Piloto somente para as matérias de Matemática e Língua Portuguesa. Considere somente alunos do curso 'Ensino Médio'.\n",
    "\n",
    "2. Demonstre, através de gráficos, a contagem normalizada de alunos do turno diurno e noturno das 5 escolas com maior quantidade de alunos.\n",
    "\n",
    "3. Selecione uma amostra de alunos que estudam na mesma série e na mesma escola. Faça um gráfico demonstrando a evolução das notas desses alunos a cada bimestre para uma matéria de sua escolha.\n",
    "\n",
    "4. Selecione todos os alunos de uma mesma série em 5 escolas diferentes. Demonstre o comportamento da média geral das notas dos alunos a cada bimestre para cada uma das cinco escola para uma matéria de sua escolha.\n",
    "\n",
    "5. Demonstre através de um gráfico quais as  10 escolas com alunos de menor desempenho para as matérias Língua Portuguesa e Matemática.\n",
    "\n",
    "6. Selecione uma amostra de alunos da terceira série do ensino médio das escolas 'CENTRO DE ENSINO MÉDIO AVE BRANCA' e 'CENTRO DE ENSINO MÉDIO 03 DE TAGUATINGA'. Existe alguma correlação linear entre suas notas finais de matemática? Demonstre com um gráfico.\n",
    "\n",
    "7. Selecione todos os alunos de uma mesma escola e série. Demonstre as estatísticas descritivas dos resultados finais desses alunos para cada matéria cursada."
   ]
  }
 ],
 "metadata": {
  "kernelspec": {
   "display_name": "Python 3",
   "language": "python",
   "name": "python3"
  },
  "language_info": {
   "codemirror_mode": {
    "name": "ipython",
    "version": 3
   },
   "file_extension": ".py",
   "mimetype": "text/x-python",
   "name": "python",
   "nbconvert_exporter": "python",
   "pygments_lexer": "ipython3",
   "version": "3.8.5"
  }
 },
 "nbformat": 4,
 "nbformat_minor": 5
}
