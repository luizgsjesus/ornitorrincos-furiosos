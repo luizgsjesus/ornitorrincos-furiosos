{
  "nbformat": 4,
  "nbformat_minor": 0,
  "metadata": {
    "colab": {
      "name": "trabalho_final_ornitorrincos.ipynb",
      "provenance": [],
      "collapsed_sections": []
    },
    "kernelspec": {
      "name": "python3",
      "display_name": "Python 3"
    },
    "language_info": {
      "name": "python"
    }
  },
  "cells": [
    {
      "cell_type": "markdown",
      "metadata": {
        "id": "YPDPSZLl9wzf"
      },
      "source": [
        "# Projeto 002 (final)\n",
        "\n",
        "## Questão 001\n",
        "\n",
        "Utilizando o dataset \"Stroke Prediction Dataset\" crie um modelo para prever se uma pessoa terá ou não um derrame. Discuta sobre a tarefa (é classificação ou regressão?Justifique), descreva o dataset (estatísticas descritivas e análise exploratória), trate valores nulos, remova outliers, execute feature engineering, escolha e avalie modelos, analise a importância de cada feature, escolha a melhor métrica e a calcule, ao final faça uma matriz de confusão.\n",
        "\n",
        "\n",
        "> link dataset: https://www.kaggle.com/fedesoriano/stroke-prediction-dataset\n",
        "\n",
        "## Questão 002\n",
        "\n",
        "Utilizando o dataset \"Beer Consumption - São Paulo\" crie um modelo para prever a quantidade de cerveja que será consumida, para esse trabalho, desconsidere a variável independente 'data' (porém, ela pode ser utilizada para extração de features). Discuta sobre a tarefa (é classificação ou regressão?Justifique), descreva o dataset (estatísticas descritivas e análise exploratória), trate valores nulos, remova outliers, execute feature engineering, escolha e avalie modelos, analise a importância de cada feature, escolha a melhor métrica e a calcule.\n",
        "\n",
        "\n",
        "> link dataset: https://www.kaggle.com/dongeorge/beer-consumption-sao-paulo\n",
        "\n",
        "\n",
        "## dicas\n",
        "\n",
        "* Desenvolva uma mapa com todas as atividades que você vai fazer, isso ajuda a te manter focado e no caminho.\n",
        "\n",
        "* Analise o resultado, escreva, use células de texto como essa para manter suas anotações e interpretações.\n",
        "\n",
        "* Não se preocupe em atingir resultados perfeitos, se preocupe em entender porque você teve os resultados que teve e como pode melhorá-los."
      ]
    },
    {
      "cell_type": "code",
      "metadata": {
        "id": "StwL07Cf9qhm"
      },
      "source": [
        ""
      ],
      "execution_count": null,
      "outputs": []
    }
  ]
}